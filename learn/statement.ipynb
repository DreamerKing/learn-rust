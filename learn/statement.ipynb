{
 "cells": [
  {
   "cell_type": "markdown",
   "metadata": {},
   "source": [
    "# 语法分析"
   ]
  },
  {
   "cell_type": "markdown",
   "metadata": {},
   "source": [
    "## 显示拼接行\n",
    "两个及两个以上的物理行可用反斜杠（\\）拼接为一个逻辑行。\n",
    "规则:以不在字符串或注释内的反斜杠结尾时，物理行将与下一行拼接成一个逻辑行，并删除反斜杠及其后的换行符。\n",
    "以反斜杠结尾的行，不能加注释；反斜杠也不能拼接注释。除字符串字面值外，反斜杠不能拼接形符（如，除字符串字面值外，不能用反斜杠把形符切分至两个物理行）。反斜杠只能在代码的字符串字面值里，在其他任何位置都是非法的。"
   ]
  },
  {
   "cell_type": "code",
   "execution_count": null,
   "metadata": {},
   "outputs": [
    {
     "data": {
      "text/plain": [
       "'kkskssjjsjjs'"
      ]
     },
     "execution_count": 3,
     "metadata": {},
     "output_type": "execute_result"
    }
   ],
   "source": [
    "\"kksks\" \"sjjsjjs\""
   ]
  },
  {
   "cell_type": "markdown",
   "metadata": {},
   "source": [
    "## 隐式拼接行\n",
    "圆括号、方括号、花括号内的表达式可以分成多个物理行，不必使用反斜杠。\n",
    "隐式行拼接可含注释；后续行的缩进并不重要；还支持空的后续行。隐式拼接行之间没有 NEWLINE 形符。三引号字符串支持隐式拼接行（见下文），但不支持注释。"
   ]
  },
  {
   "cell_type": "code",
   "execution_count": null,
   "metadata": {},
   "outputs": [
    {
     "name": "stdout",
     "output_type": "stream",
     "text": [
      "(12, 13)\n",
      "\n",
      "# kkskks\n",
      "\n",
      "/* hhss */\n",
      "kkk\n",
      "\n"
     ]
    }
   ],
   "source": [
    "x = (12, 13)\n",
    "print(x)\n",
    "\n",
    "y = \"\"\"\n",
    "# kkskks\n",
    "\n",
    "/* hhss */\\nkkk\n",
    "\"\"\"\n",
    "print(y)"
   ]
  },
  {
   "cell_type": "markdown",
   "metadata": {},
   "source": [
    "## 软关键字\n",
    "某些标识符仅在特定上下文中被保留。\n",
    "match, case, type 和 _ 等标识符在特定上下文中具有关键字的语义，但这种区分是在解析器层级完成的，而不是在分词的时候。"
   ]
  },
  {
   "cell_type": "markdown",
   "metadata": {},
   "source": [
    "## 保留的标识符类\n",
    "以下划线字符开头，并以下划线结尾\n",
    "  - `_*` 不会被 from module import * 所导入\n",
    "- `_` 在 match 语句内部的 case 模式中，_ 是一个 软关键字，它表示 通配符。在此之外，交互式解释器会将最后一次求值的结果放到变量 _ 中。\n",
    "- `__*__` 系统定义的名称 由解释器及其实现（包括标准库）定义\n",
    "- `__*` 类的私有名称。类定义时，此类名称以一种混合形式重写，以避免基类及派生类的 \"私有\" 属性之间产生名称冲突。"
   ]
  },
  {
   "cell_type": "markdown",
   "metadata": {},
   "source": [
    "## 字面量\n",
    "\n",
    "字节串字面值要加前缀 'b' 或 'B'；生成的是类型 bytes 的实例，不是类型 str 的实例；字节串只能包含 ASCII 字符；字节串数值大于等于 128 时，必须用转义表示。\n",
    "字符串和字节串字面值都可选择加前缀字母 'r' 或 'R'；这分别被称为 原始字符串字面值 和 原始字节串字面值 并会将反斜杠视为原本的字符字面值。\n",
    "前缀为 'f' 或 'F' 的字符串称为 格式字符串；详见 f 字符串。'f' 可与 'r' 连用，但不能与 'b' 或 'u' 连用，因此，可以使用原始格式字符串，但不能使用格式字节串字面值。\n",
    "三引号字面值可以包含未转义的换行和引号（原样保留），除了连在一起的，用于终止字面值的，未经转义的三个引号。\n",
    "\n",
    "### 转义序列\n",
    "未标注 'r' 或 'R' 前缀的字符串和字节串字面值中，转义序列以类似 C 标准的规则进行解释。\n",
    "\n",
    "### 字符串字面值合并\n",
    "以空白符分隔的多个相邻字符串或字节串字面值，可用不同引号标注，等同于合并操作。此功能不需要反斜杠，即可将长字符串分为多个物理行，还可以为不同部分的字符串添加注释。注意，此功能在句法层面定义，在编译时实现。在运行时，合并字符串表达式必须使用 '+' 运算符。还要注意，字面值合并可以为每个部分应用不同的引号风格（甚至混用原始字符串和三引号字符串)，格式字符串字面值也可以与纯字符串字面值合并。"
   ]
  },
  {
   "cell_type": "code",
   "execution_count": null,
   "metadata": {},
   "outputs": [
    {
     "name": "stdout",
     "output_type": "stream",
     "text": [
      "heeelllking\n"
     ]
    }
   ],
   "source": [
    "x = (\n",
    "    \"heeelll\"  # hahah\n",
    "    \"king\"\n",
    ")\n",
    "print(x)"
   ]
  },
  {
   "cell_type": "markdown",
   "metadata": {},
   "source": [
    "## f字符串\n",
    "格式字符串字面值  可包含替换字段，即以 {} 标注的表达式。其他字符串字面值只是常量，格式字符串字面值则是可在运行时求值的表达式。\n",
    "在表达式后加等于号 '='，可在求值后，同时显示表达式文本及其结果（用于调试）。 随后是用叹号 '!' 标记的转换字段。还可以在冒号 ':' 后附加格式说明符。\n",
    "空表达式是不被允许的，而 lambda 和赋值表达式 := 都必须显式地用括号包围。\n",
    "指定了转换符时，表达式求值的结果会先转换，再格式化。转换符 '!s' 调用 str() 转换求值结果，'!r' 调用 repr()，'!a' 调用 ascii()。"
   ]
  },
  {
   "cell_type": "code",
   "execution_count": 39,
   "metadata": {},
   "outputs": [
    {
     "name": "stdout",
     "output_type": "stream",
     "text": [
      "a=12\n"
     ]
    }
   ],
   "source": [
    "a = 12\n",
    "x = f\"{a=!s}\"\n",
    "print(x)"
   ]
  },
  {
   "cell_type": "code",
   "execution_count": 30,
   "metadata": {},
   "outputs": [
    {
     "name": "stdout",
     "output_type": "stream",
     "text": [
      "abc5\n"
     ]
    }
   ],
   "source": [
    "a = 2\n",
    "x = f\"abc{a # test}\"\n",
    "+3\n",
    "}\"\n",
    "print(x)"
   ]
  },
  {
   "cell_type": "code",
   "execution_count": null,
   "metadata": {},
   "outputs": [
    {
     "name": "stdout",
     "output_type": "stream",
     "text": [
      "today:  12 21 2025\n"
     ]
    }
   ],
   "source": [
    "from datetime import datetime\n",
    "\n",
    "today = datetime(year=2025, month=12, day=21)\n",
    "s = f\"today: {today: %m %d %Y}\"\n",
    "print(s)"
   ]
  },
  {
   "cell_type": "code",
   "execution_count": 47,
   "metadata": {},
   "outputs": [
    {
     "name": "stdout",
     "output_type": "stream",
     "text": [
      "0x400 0o2000\n"
     ]
    }
   ],
   "source": [
    "n = 1024\n",
    "s = f\"{n:#0x}\"\n",
    "s2 = f\"{n:#0o}\"\n",
    "print(s, s2)"
   ]
  },
  {
   "cell_type": "code",
   "execution_count": 50,
   "metadata": {},
   "outputs": [
    {
     "name": "stdout",
     "output_type": "stream",
     "text": [
      "line=\"The mill's closed\" \n"
     ]
    }
   ],
   "source": [
    "line = \"The mill's closed\"\n",
    "print(f\"{line=!r:20}\")"
   ]
  },
  {
   "cell_type": "code",
   "execution_count": 56,
   "metadata": {},
   "outputs": [
    {
     "name": "stdout",
     "output_type": "stream",
     "text": [
      "<class 'type'>\n"
     ]
    },
    {
     "data": {
      "text/plain": [
       "types.GenericAlias"
      ]
     },
     "execution_count": 56,
     "metadata": {},
     "output_type": "execute_result"
    }
   ],
   "source": [
    "type(list)\n",
    "print(type(dict))\n",
    "list[int]\n",
    "type(list[int])"
   ]
  },
  {
   "cell_type": "code",
   "execution_count": null,
   "metadata": {},
   "outputs": [
    {
     "name": "stdout",
     "output_type": "stream",
     "text": [
      "<class 'enum.EnumType'>\n",
      "Menu.SPAM <enum 'Menu'>\n"
     ]
    }
   ],
   "source": [
    "from enum import Enum\n",
    "\n",
    "\n",
    "class Menu(Enum):\n",
    "    \"\"\"a breakfast menu\"\"\"\n",
    "\n",
    "    SPAM = \"spam\"\n",
    "    BACON = \"bacon\"\n",
    "\n",
    "\n",
    "print(type(Menu))\n",
    "print(Menu[\"SPAM\"], type(Menu[\"BACON\"]))"
   ]
  },
  {
   "cell_type": "code",
   "execution_count": null,
   "metadata": {},
   "outputs": [
    {
     "name": "stdout",
     "output_type": "stream",
     "text": [
      "[0, 0, 0, 0, 0, 0, 0, 0, 0, 0, 1, 2, 3, 4, 5, 6, 7, 8, 9, 10, 4, 6, 8, 10, 12, 14, 16, 18, 20, 22, 9, 12, 15, 18, 21, 24, 27, 30, 33, 36, 16, 20, 24, 28, 32, 36, 40, 44, 48, 52, 25, 30, 35, 40, 45, 50, 55, 60, 65, 70, 36, 42, 48, 54, 60, 66, 72, 78, 84, 90, 49, 56, 63, 70, 77, 84, 91, 98, 105, 112, 64, 72, 80, 88, 96, 104, 112, 120, 128, 136, 81, 90, 99, 108, 117, 126, 135, 144, 153, 162]\n"
     ]
    }
   ],
   "source": [
    "l = [x * y for x in range(10) for y in range(x, x + 10)]\n",
    "print(l)"
   ]
  },
  {
   "cell_type": "code",
   "execution_count": 60,
   "metadata": {},
   "outputs": [
    {
     "name": "stdout",
     "output_type": "stream",
     "text": [
      "[10, 11, 12, 13, 14, 15, 16, 17, 18, 19]\n"
     ]
    }
   ],
   "source": [
    "z = 10\n",
    "ll = [x + z for x in range(10)]\n",
    "print(ll)"
   ]
  },
  {
   "cell_type": "markdown",
   "metadata": {},
   "source": [
    "属性引用 \n",
    "多次求值可能产生不同的值\n",
    "__getattribute__()  AttributeError\n",
    "__getattr__()"
   ]
  },
  {
   "cell_type": "code",
   "execution_count": null,
   "metadata": {},
   "outputs": [],
   "source": [
    "抽取\n",
    "从容器中选取一个元素\n",
    "__getitem__()\n",
    "__classgetitem__()"
   ]
  },
  {
   "cell_type": "code",
   "execution_count": 67,
   "metadata": {},
   "outputs": [
    {
     "name": "stdout",
     "output_type": "stream",
     "text": [
      "2\n"
     ]
    }
   ],
   "source": [
    "l = [1, 2, 3, 4, 5]\n",
    "ll = l[1]\n",
    "print(ll)"
   ]
  },
  {
   "cell_type": "markdown",
   "metadata": {},
   "source": [
    "切片\n",
    "在序列对象中选取某个范围的项。\n",
    "抽取优先于切片"
   ]
  },
  {
   "cell_type": "markdown",
   "metadata": {},
   "source": [
    "调用\n",
    "附带一个可能为空的一系列参数来执行一个可调用对象。\n",
    "__call__()"
   ]
  },
  {
   "cell_type": "markdown",
   "metadata": {},
   "source": [
    "divmod() 整除与模"
   ]
  },
  {
   "cell_type": "markdown",
   "metadata": {},
   "source": [
    "包\n",
    "一种特别的模块，具有`__path__`属性\n",
    "\n",
    "常规包 包含`__init__.py`文件的目录,导入时`__init__.py`文件会隐式执行。\n",
    "命名空间包 由多个部分构成，每个部分为父包增加一个子包。\n",
    "\n",
    "find_spec()"
   ]
  },
  {
   "cell_type": "code",
   "execution_count": null,
   "metadata": {},
   "outputs": [
    {
     "name": "stdout",
     "output_type": "stream",
     "text": [
      "0\n",
      "1\n",
      "2\n",
      "3\n",
      "4\n",
      "5\n",
      "6\n",
      "7\n",
      "8\n",
      "9\n"
     ]
    }
   ],
   "source": [
    "for i in range(10):\n",
    "    print(i)\n",
    "    i = 5"
   ]
  },
  {
   "cell_type": "markdown",
   "metadata": {},
   "source": [
    "函数\n",
    "默认形参值会在执行函数定义时按从左至右的顺序被求值。"
   ]
  },
  {
   "cell_type": "code",
   "execution_count": 72,
   "metadata": {},
   "outputs": [
    {
     "data": {
      "text/plain": [
       "'10101'"
      ]
     },
     "execution_count": 72,
     "metadata": {},
     "output_type": "execute_result"
    }
   ],
   "source": [
    "bin(12)\n",
    "format(21, \"b\")"
   ]
  },
  {
   "cell_type": "code",
   "execution_count": 73,
   "metadata": {},
   "outputs": [
    {
     "data": {
      "text/plain": [
       "['Enum',\n",
       " 'In',\n",
       " 'Menu',\n",
       " 'Out',\n",
       " '_',\n",
       " '_1',\n",
       " '_3',\n",
       " '_51',\n",
       " '_52',\n",
       " '_53',\n",
       " '_55',\n",
       " '_56',\n",
       " '_70',\n",
       " '_71',\n",
       " '_72',\n",
       " '__',\n",
       " '___',\n",
       " '__builtin__',\n",
       " '__builtins__',\n",
       " '__doc__',\n",
       " '__loader__',\n",
       " '__name__',\n",
       " '__package__',\n",
       " '__spec__',\n",
       " '__vsc_ipynb_file__',\n",
       " '_dh',\n",
       " '_i',\n",
       " '_i1',\n",
       " '_i10',\n",
       " '_i11',\n",
       " '_i12',\n",
       " '_i13',\n",
       " '_i14',\n",
       " '_i15',\n",
       " '_i16',\n",
       " '_i17',\n",
       " '_i18',\n",
       " '_i19',\n",
       " '_i2',\n",
       " '_i20',\n",
       " '_i21',\n",
       " '_i22',\n",
       " '_i23',\n",
       " '_i24',\n",
       " '_i25',\n",
       " '_i26',\n",
       " '_i27',\n",
       " '_i28',\n",
       " '_i29',\n",
       " '_i3',\n",
       " '_i30',\n",
       " '_i31',\n",
       " '_i32',\n",
       " '_i33',\n",
       " '_i34',\n",
       " '_i35',\n",
       " '_i36',\n",
       " '_i37',\n",
       " '_i38',\n",
       " '_i39',\n",
       " '_i4',\n",
       " '_i40',\n",
       " '_i41',\n",
       " '_i42',\n",
       " '_i43',\n",
       " '_i44',\n",
       " '_i45',\n",
       " '_i46',\n",
       " '_i47',\n",
       " '_i48',\n",
       " '_i49',\n",
       " '_i5',\n",
       " '_i50',\n",
       " '_i51',\n",
       " '_i52',\n",
       " '_i53',\n",
       " '_i54',\n",
       " '_i55',\n",
       " '_i56',\n",
       " '_i57',\n",
       " '_i58',\n",
       " '_i59',\n",
       " '_i6',\n",
       " '_i60',\n",
       " '_i61',\n",
       " '_i62',\n",
       " '_i63',\n",
       " '_i64',\n",
       " '_i65',\n",
       " '_i66',\n",
       " '_i67',\n",
       " '_i68',\n",
       " '_i69',\n",
       " '_i7',\n",
       " '_i70',\n",
       " '_i71',\n",
       " '_i72',\n",
       " '_i73',\n",
       " '_i8',\n",
       " '_i9',\n",
       " '_ih',\n",
       " '_ii',\n",
       " '_iii',\n",
       " '_oh',\n",
       " 'a',\n",
       " 'datetime',\n",
       " 'exit',\n",
       " 'get_ipython',\n",
       " 'i',\n",
       " 'l',\n",
       " 'line',\n",
       " 'll',\n",
       " 'n',\n",
       " 'open',\n",
       " 'quit',\n",
       " 's',\n",
       " 's2',\n",
       " 'today',\n",
       " 'x',\n",
       " 'y',\n",
       " 'z']"
      ]
     },
     "execution_count": 73,
     "metadata": {},
     "output_type": "execute_result"
    }
   ],
   "source": [
    "dir()"
   ]
  },
  {
   "cell_type": "code",
   "execution_count": 76,
   "metadata": {},
   "outputs": [
    {
     "name": "stdout",
     "output_type": "stream",
     "text": [
      "35\n"
     ]
    }
   ],
   "source": [
    "x = int(\"23\", 16)\n",
    "print(x)"
   ]
  },
  {
   "cell_type": "code",
   "execution_count": 77,
   "metadata": {},
   "outputs": [
    {
     "data": {
      "text/plain": [
       "['__class__',\n",
       " '__delattr__',\n",
       " '__dir__',\n",
       " '__doc__',\n",
       " '__eq__',\n",
       " '__format__',\n",
       " '__ge__',\n",
       " '__getattribute__',\n",
       " '__getstate__',\n",
       " '__gt__',\n",
       " '__hash__',\n",
       " '__init__',\n",
       " '__init_subclass__',\n",
       " '__le__',\n",
       " '__lt__',\n",
       " '__ne__',\n",
       " '__new__',\n",
       " '__reduce__',\n",
       " '__reduce_ex__',\n",
       " '__repr__',\n",
       " '__setattr__',\n",
       " '__sizeof__',\n",
       " '__str__',\n",
       " '__subclasshook__']"
      ]
     },
     "execution_count": 77,
     "metadata": {},
     "output_type": "execute_result"
    }
   ],
   "source": [
    "dir(object)"
   ]
  },
  {
   "cell_type": "code",
   "execution_count": 80,
   "metadata": {},
   "outputs": [
    {
     "data": {
      "text/plain": [
       "6"
      ]
     },
     "execution_count": 80,
     "metadata": {},
     "output_type": "execute_result"
    }
   ],
   "source": [
    "pow(-2, 4, 10)"
   ]
  },
  {
   "cell_type": "code",
   "execution_count": null,
   "metadata": {},
   "outputs": [
    {
     "data": {
      "text/plain": [
       "{}"
      ]
     },
     "execution_count": 88,
     "metadata": {},
     "output_type": "execute_result"
    }
   ],
   "source": [
    "class C:\n",
    "  x = 2\n",
    "\n",
    "c = C()\n",
    "vars(c)"
   ]
  },
  {
   "cell_type": "code",
   "execution_count": 93,
   "metadata": {},
   "outputs": [
    {
     "name": "stdout",
     "output_type": "stream",
     "text": [
      "[1, 2, 3] <class 'list'> <class 'types.GenericAlias'> list[str] list[str]\n"
     ]
    }
   ],
   "source": [
    "t = list[str]\n",
    "x = t([1, 2, 3])\n",
    "print(x, type(x), type(t), repr(t), str(t))"
   ]
  },
  {
   "cell_type": "code",
   "execution_count": 95,
   "metadata": {},
   "outputs": [
    {
     "name": "stdout",
     "output_type": "stream",
     "text": [
      "<class 'types.GenericAlias'>\n"
     ]
    }
   ],
   "source": [
    "from typing import TypeVar\n",
    "Y = TypeVar('Y')\n",
    "t = dict[str, Y][int]\n",
    "print(type(t))"
   ]
  },
  {
   "cell_type": "code",
   "execution_count": 96,
   "metadata": {},
   "outputs": [
    {
     "name": "stdout",
     "output_type": "stream",
     "text": [
      "4300\n"
     ]
    }
   ],
   "source": [
    "import sys\n",
    "print(sys.get_int_max_str_digits())"
   ]
  }
 ],
 "metadata": {
  "kernelspec": {
   "display_name": "data-analysis",
   "language": "python",
   "name": "python3"
  },
  "language_info": {
   "codemirror_mode": {
    "name": "ipython",
    "version": 3
   },
   "file_extension": ".py",
   "mimetype": "text/x-python",
   "name": "python",
   "nbconvert_exporter": "python",
   "pygments_lexer": "ipython3",
   "version": "3.12.4"
  }
 },
 "nbformat": 4,
 "nbformat_minor": 2
}
