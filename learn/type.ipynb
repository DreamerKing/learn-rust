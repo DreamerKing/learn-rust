{
 "cells": [
  {
   "cell_type": "code",
   "execution_count": 11,
   "metadata": {
    "vscode": {
     "languageId": "rust"
    }
   },
   "outputs": [
    {
     "name": "stdout",
     "output_type": "stream",
     "text": [
      "[16, 24]\n"
     ]
    }
   ],
   "source": [
    "fn build_vector() -> Vec<i16> {\n",
    "    let mut v = Vec::new();\n",
    "    v.push(16);\n",
    "    v.push(24);\n",
    "    v\n",
    "}\n",
    "\n",
    "let v = build_vector();\n",
    "println!(\"{:?}\", v);\n"
   ]
  },
  {
   "cell_type": "code",
   "execution_count": null,
   "metadata": {
    "vscode": {
     "languageId": "rust"
    }
   },
   "outputs": [
    {
     "name": "stdout",
     "output_type": "stream",
     "text": [
      "97\n"
     ]
    }
   ],
   "source": [
    "let a = b'a';\n",
    "println!(\"{}\", a);\n"
   ]
  },
  {
   "cell_type": "code",
   "execution_count": null,
   "metadata": {
    "vscode": {
     "languageId": "rust"
    }
   },
   "outputs": [
    {
     "name": "stdout",
     "output_type": "stream",
     "text": [
      "     1111100\n"
     ]
    }
   ],
   "source": [
    "let a = 124;\n",
    "let s = format!(\"{:12b}\", a);\n",
    "println!(\"{}\", s);\n"
   ]
  },
  {
   "cell_type": "code",
   "execution_count": null,
   "metadata": {
    "vscode": {
     "languageId": "rust"
    }
   },
   "outputs": [
    {
     "name": "stdout",
     "output_type": "stream",
     "text": [
      "RGB (12, 23, 89) 0x0c1759\n",
      "北京: 123.234°N 298.124°W\n"
     ]
    }
   ],
   "source": [
    "use std::fmt::{ self, Formatter, Display };\n",
    "\n",
    "struct City {\n",
    "    name: &'static str,\n",
    "    lat: f32,\n",
    "    lon: f32,\n",
    "}\n",
    "\n",
    "impl Display for City {\n",
    "    fn fmt(&self, formatter: &mut Formatter) -> fmt::Result {\n",
    "        let lat_c = if self.lat >= 0.0 { 'N' } else { 'S' };\n",
    "        let lon_c = if self.lon >= 0.0 { 'E' } else { 'W' };\n",
    "        write!(\n",
    "            formatter,\n",
    "            \"{}: {:.3}°{} {:.3}°{}\",\n",
    "            self.name,\n",
    "            self.lat.abs(),\n",
    "            lat_c,\n",
    "            self.lon.abs(),\n",
    "            lon_c\n",
    "        )\n",
    "    }\n",
    "}\n",
    "\n",
    "#[derive(Debug)]\n",
    "struct Color {\n",
    "    red: u8,\n",
    "    green: u8,\n",
    "    blue: u8,\n",
    "}\n",
    "\n",
    "impl Display for Color {\n",
    "    fn fmt(&self, f: &mut Formatter) -> fmt::Result {\n",
    "        write!(f, \"RGB ({}, {}, {}) 0x{0:02x}{1:02x}{2:02x}\", self.red, self.green, self.blue)\n",
    "    }\n",
    "}\n",
    "\n",
    "let city = City {\n",
    "    name: \"北京\",\n",
    "    lat: 123.23445,\n",
    "    lon: -298.123987,\n",
    "};\n",
    "\n",
    "let color = Color {\n",
    "    red: 12,\n",
    "    green: 23,\n",
    "    blue: 89,\n",
    "};\n",
    "\n",
    "println!(\"{}\", color);\n",
    "println!(\"{}\", city);\n"
   ]
  },
  {
   "cell_type": "code",
   "execution_count": null,
   "metadata": {
    "vscode": {
     "languageId": "rust"
    }
   },
   "outputs": [
    {
     "name": "stdout",
     "output_type": "stream",
     "text": [
      "2 1 1 2\n"
     ]
    }
   ],
   "source": [
    "let s = format!(\"{1} {} {0} {}\", 1, 2);\n",
    "println!(\"{}\", s);\n"
   ]
  },
  {
   "cell_type": "code",
   "execution_count": null,
   "metadata": {
    "vscode": {
     "languageId": "rust"
    }
   },
   "outputs": [
    {
     "name": "stdout",
     "output_type": "stream",
     "text": [
      "Hello x    !\n",
      "Hello x    !\n",
      "Hello x    !\n"
     ]
    }
   ],
   "source": [
    "println!(\"Hello {:1$}!\", \"x\", 5);\n",
    "println!(\"Hello {1:0$}!\", 5, \"x\");\n",
    "println!(\"Hello {:width$}!\", \"x\", width = 5);\n"
   ]
  },
  {
   "cell_type": "code",
   "execution_count": null,
   "metadata": {
    "vscode": {
     "languageId": "rust"
    }
   },
   "outputs": [
    {
     "name": "stdout",
     "output_type": "stream",
     "text": [
      "Hello x    !\n"
     ]
    }
   ],
   "source": [
    "let width = 5;\n",
    "println!(\"Hello {:width$}!\", \"x\");\n"
   ]
  },
  {
   "cell_type": "code",
   "execution_count": null,
   "metadata": {
    "vscode": {
     "languageId": "rust"
    }
   },
   "outputs": [
    {
     "name": "stdout",
     "output_type": "stream",
     "text": [
      "Hello x is 0.01000\n"
     ]
    }
   ],
   "source": [
    "println!(\"Hello {0} is {1:.5}\", \"x\", 0.01);\n"
   ]
  },
  {
   "cell_type": "code",
   "execution_count": null,
   "metadata": {
    "vscode": {
     "languageId": "rust"
    }
   },
   "outputs": [
    {
     "name": "stdout",
     "output_type": "stream",
     "text": [
      "Hello x is 0.01000\n"
     ]
    }
   ],
   "source": [
    "println!(\"Hello {1} is {2:.*}\", 5, \"x\", 0.01);\n"
   ]
  },
  {
   "cell_type": "code",
   "execution_count": null,
   "metadata": {
    "vscode": {
     "languageId": "rust"
    }
   },
   "outputs": [
    {
     "name": "stdout",
     "output_type": "stream",
     "text": [
      "Hello x is 0.01000\n"
     ]
    }
   ],
   "source": [
    "println!(\"Hello {0} is {2:.1$}\", \"x\", 5, 0.01);\n"
   ]
  },
  {
   "cell_type": "code",
   "execution_count": null,
   "metadata": {
    "vscode": {
     "languageId": "rust"
    }
   },
   "outputs": [
    {
     "name": "stdout",
     "output_type": "stream",
     "text": [
      "Hello x is 0.01000\n"
     ]
    }
   ],
   "source": [
    "println!(\"Hello {1} is {2:.0$}\", 5, \"x\", 0.01);\n"
   ]
  },
  {
   "cell_type": "code",
   "execution_count": null,
   "metadata": {
    "vscode": {
     "languageId": "rust"
    }
   },
   "outputs": [
    {
     "name": "stdout",
     "output_type": "stream",
     "text": [
      "Hello x is 0.01000\n"
     ]
    }
   ],
   "source": [
    "println!(\"Hello {} is {:.*}\", \"x\", 5, 0.01);\n"
   ]
  },
  {
   "cell_type": "code",
   "execution_count": null,
   "metadata": {
    "vscode": {
     "languageId": "rust"
    }
   },
   "outputs": [
    {
     "name": "stdout",
     "output_type": "stream",
     "text": [
      "Hello x is 0.01000\n"
     ]
    }
   ],
   "source": [
    "println!(\"Hello {1} is {2:.*}\", 5, \"x\", 0.01);\n"
   ]
  },
  {
   "cell_type": "code",
   "execution_count": null,
   "metadata": {
    "vscode": {
     "languageId": "rust"
    }
   },
   "outputs": [
    {
     "name": "stdout",
     "output_type": "stream",
     "text": [
      "Hello x is 0.01000\n"
     ]
    }
   ],
   "source": [
    "println!(\"Hello {} is {2:.*}\", \"x\", 5, 0.01);\n"
   ]
  },
  {
   "cell_type": "code",
   "execution_count": null,
   "metadata": {
    "vscode": {
     "languageId": "rust"
    }
   },
   "outputs": [
    {
     "name": "stdout",
     "output_type": "stream",
     "text": [
      "Hello x is 0.01000\n"
     ]
    }
   ],
   "source": [
    "println!(\"Hello {} is {number:.prec$}\", \"x\", prec = 5, number = 0.01);\n"
   ]
  },
  {
   "cell_type": "code",
   "execution_count": null,
   "metadata": {
    "vscode": {
     "languageId": "rust"
    }
   },
   "outputs": [
    {
     "name": "stdout",
     "output_type": "stream",
     "text": [
      "Hello, `1234.560` has 3 fractional digits\n"
     ]
    }
   ],
   "source": [
    "println!(\"{}, `{name:.*}` has 3 fractional digits\", \"Hello\", 3, name = 1234.56);\n"
   ]
  },
  {
   "cell_type": "code",
   "execution_count": null,
   "metadata": {
    "vscode": {
     "languageId": "rust"
    }
   },
   "outputs": [
    {
     "name": "stdout",
     "output_type": "stream",
     "text": [
      "Hello, `123` has 3 characters\n"
     ]
    }
   ],
   "source": [
    "println!(\"{}, `{name:.*}` has 3 characters\", \"Hello\", 3, name = \"1234.56\");\n"
   ]
  },
  {
   "cell_type": "code",
   "execution_count": null,
   "metadata": {
    "vscode": {
     "languageId": "rust"
    }
   },
   "outputs": [
    {
     "name": "stdout",
     "output_type": "stream",
     "text": [
      "Hello, `     123` has 3 right-aligned characters\n"
     ]
    },
    {
     "data": {
      "text/plain": [
       "()"
      ]
     },
     "execution_count": 51,
     "metadata": {},
     "output_type": "execute_result"
    }
   ],
   "source": [
    "println!(\"{}, `{name:>8.*}` has 3 right-aligned characters\", \"Hello\", 3, name = \"1234.56\");\n"
   ]
  },
  {
   "cell_type": "code",
   "execution_count": null,
   "metadata": {
    "vscode": {
     "languageId": "rust"
    }
   },
   "outputs": [],
   "source": [
    "assert_eq!(format!(\"hello {{}}\"), \"hello {}\");\n",
    "assert_eq!(format!(\"hello {{\"), \"hello {\");\n"
   ]
  },
  {
   "cell_type": "code",
   "execution_count": null,
   "metadata": {
    "vscode": {
     "languageId": "rust"
    }
   },
   "outputs": [
    {
     "ename": "Error",
     "evalue": "borrow of moved value: `point`",
     "output_type": "error",
     "traceback": [
      "println!(\"{:?}\", Rectangle::square(point, 2.6));",
      "                                   ^^^^^ value moved here",
      "println!(\"{:?}\", point);",
      "                 ^^^^^ value borrowed here after move",
      "let point: Point = Point { x: 10.3, y: 0.4 };",
      "    ^^^^^ move occurs because `point` has type `Point`, which does not implement the `Copy` trait",
      "borrow of moved value: `point`"
     ]
    }
   ],
   "source": [
    "#[derive(Debug)]\n",
    "struct Person {\n",
    "    name: String,\n",
    "    age: u8,\n",
    "}\n",
    "\n",
    "// 单元结构体\n",
    "struct Unit;\n",
    "\n",
    "// 元组结构体\n",
    "struct Pair(i32, f32);\n",
    "\n",
    "#[derive(Debug)]\n",
    "struct Point {\n",
    "    x: f32,\n",
    "    y: f32,\n",
    "}\n",
    "\n",
    "// 结构体可以作为另一个结构体的字段\n",
    "#[allow(dead_code)]\n",
    "#[derive(Debug)]\n",
    "struct Rectangle {\n",
    "    // 可以在空间中给定左上角和右下角在空间中的位置来指定矩形。\n",
    "    top_left: Point,\n",
    "    bottom_right: Point,\n",
    "}\n",
    "\n",
    "impl Rectangle {\n",
    "    fn rect_area(&self) -> f32 {\n",
    "        let Rectangle { top_left: Point { x: x1, y: y1 }, bottom_right: Point { x: x2, y: y2 } } =\n",
    "            self;\n",
    "        f32::abs(x2 - x1) * f32::abs(y2 - y1)\n",
    "    }\n",
    "\n",
    "    fn square(p: Point, wh: f32) -> Rectangle {\n",
    "        let Point { x, y } = p;\n",
    "        Rectangle { top_left: Point { x, y }, bottom_right: Point { x: x + wh, y: y + wh } }\n",
    "    }\n",
    "}\n",
    "\n",
    "// 使用简单的写法初始化字段，并创建结构体\n",
    "let name = String::from(\"Peter\");\n",
    "let age = 27;\n",
    "let peter = Person { name, age };\n",
    "\n",
    "// 以 Debug 方式打印结构体\n",
    "println!(\"{:?}\", peter);\n",
    "\n",
    "// 实例化结构体 `Point`\n",
    "let point: Point = Point { x: 10.3, y: 0.4 };\n",
    "\n",
    "// 访问 point 的字段\n",
    "println!(\"point coordinates: ({}, {})\", point.x, point.y);\n",
    "\n",
    "// 使用结构体更新语法创建新的 point，\n",
    "// 这样可以用到之前的 point 的字段\n",
    "let bottom_right = Point { x: 5.2, ..point };\n",
    "\n",
    "// `bottom_right.y` 与 `point.y` 一样，因为这个字段就是从 `point` 中来的\n",
    "println!(\"second point: ({}, {})\", bottom_right.x, bottom_right.y);\n",
    "\n",
    "// 使用 `let` 绑定来解构 point\n",
    "let Point { x: left_edge, y: top_edge } = point;\n",
    "\n",
    "let _rectangle = Rectangle {\n",
    "    // 结构体的实例化也是一个表达式\n",
    "    top_left: Point { x: left_edge, y: top_edge },\n",
    "    bottom_right: bottom_right,\n",
    "};\n",
    "println!(\"{}\", _rectangle.rect_area());\n",
    "println!(\"{:?}\", Rectangle::square(point, 2.6));\n",
    "\n",
    "// 实例化一个单元结构体\n",
    "let _unit = Unit;\n",
    "\n",
    "// 实例化一个元组结构体\n",
    "let pair = Pair(1, 0.1);\n",
    "\n",
    "// 访问元组结构体的字段\n",
    "println!(\"pair contains {:?} and {:?}\", pair.0, pair.1);\n",
    "\n",
    "// 解构一个元组结构体\n",
    "let Pair(integer, decimal) = pair;\n",
    "\n",
    "println!(\"pair contains {:?} and {:?}\", integer, decimal);\n"
   ]
  },
  {
   "cell_type": "code",
   "execution_count": null,
   "metadata": {
    "vscode": {
     "languageId": "rust"
    }
   },
   "outputs": [
    {
     "name": "stdout",
     "output_type": "stream",
     "text": [
      "2 3\n"
     ]
    }
   ],
   "source": [
    "enum Number {\n",
    "    Zero = 1,\n",
    "    One,\n",
    "    Two,\n",
    "}\n",
    "\n",
    "println!(\"{} {}\", Number::One as u8, Number::Two as i8);\n"
   ]
  },
  {
   "cell_type": "code",
   "execution_count": null,
   "metadata": {
    "vscode": {
     "languageId": "rust"
    }
   },
   "outputs": [],
   "source": []
  },
  {
   "cell_type": "code",
   "execution_count": 3,
   "metadata": {
    "vscode": {
     "languageId": "rust"
    }
   },
   "outputs": [
    {
     "name": "stdout",
     "output_type": "stream",
     "text": [
      "linked list has length: 3\n",
      "3, 2, 1, Nil\n"
     ]
    },
    {
     "data": {
      "text/plain": [
       "()"
      ]
     },
     "execution_count": 3,
     "metadata": {},
     "output_type": "execute_result"
    }
   ],
   "source": [
    "use List::*;\n",
    "\n",
    "enum List {\n",
    "    Cons(u32, Box<List>),\n",
    "    Nil,\n",
    "}\n",
    "\n",
    "impl List {\n",
    "    fn new() -> List {\n",
    "        Nil\n",
    "    }\n",
    "\n",
    "    // 处理一个 List，在其头部插入新元素，并返回该 List\n",
    "    fn prepend(self, elem: u32) -> List {\n",
    "        Cons(elem, Box::new(self))\n",
    "    }\n",
    "\n",
    "    fn len(&self) -> u32 {\n",
    "        // 必须对 `self` 进行匹配（match），因为这个方法的行为取决于 `self` 的\n",
    "        // 取值种类。\n",
    "        // `self` 为 `&List` 类型，`*self` 为 `List` 类型，匹配一个具体的 `T`\n",
    "        // 类型要好过匹配引用 `&T`。\n",
    "        match *self {\n",
    "            // 不能得到 tail 的所有权，因为 `self` 是借用的；\n",
    "            // 因此使用一个对 tail 的引用\n",
    "            Cons(_, ref tail) => 1 + tail.len(),\n",
    "            // （递归的）基准情形（base case）：一个长度为 0 的空列表\n",
    "            Nil => 0,\n",
    "        }\n",
    "    }\n",
    "\n",
    "    // 返回列表的字符串表示（该字符串是堆分配的）\n",
    "    fn stringify(&self) -> String {\n",
    "        match *self {\n",
    "            Cons(head, ref tail) => {\n",
    "                // `format!` 和 `print!` 类似，但返回的是一个堆分配的字符串，\n",
    "                // 而不是打印结果到控制台上\n",
    "                format!(\"{}, {}\", head, tail.stringify())\n",
    "            }\n",
    "            Nil => { format!(\"Nil\") }\n",
    "        }\n",
    "    }\n",
    "}\n",
    "\n",
    "{\n",
    "    let mut list = List::new();\n",
    "    list = list.prepend(1);\n",
    "    list = list.prepend(2);\n",
    "    list = list.prepend(3);\n",
    "    println!(\"linked list has length: {}\", list.len());\n",
    "    println!(\"{}\", list.stringify());\n",
    "}\n"
   ]
  },
  {
   "cell_type": "code",
   "execution_count": null,
   "metadata": {
    "vscode": {
     "languageId": "rust"
    }
   },
   "outputs": [
    {
     "name": "stdout",
     "output_type": "stream",
     "text": [
      "Chinese\n"
     ]
    }
   ],
   "source": [
    "static Language: &'static str = \"Chinese\";\n",
    "println!(\"{}\", Language);\n"
   ]
  },
  {
   "cell_type": "markdown",
   "metadata": {},
   "source": [
    "static：具有 'static 生命周期的，可以是可变的变量"
   ]
  },
  {
   "cell_type": "code",
   "execution_count": 12,
   "metadata": {
    "vscode": {
     "languageId": "rust"
    }
   },
   "outputs": [
    {
     "name": "stdout",
     "output_type": "stream",
     "text": [
      "9\n",
      "7\n"
     ]
    },
    {
     "data": {
      "text/plain": [
       "()"
      ]
     },
     "execution_count": 12,
     "metadata": {},
     "output_type": "execute_result"
    }
   ],
   "source": [
    "{\n",
    "    let mut _mutable_integer = 7i32;\n",
    "\n",
    "    {\n",
    "        // 被不可变的 `_mutable_integer` 遮蔽\n",
    "        let _mutable_integer = _mutable_integer + 2;\n",
    "\n",
    "        // 报错！`_mutable_integer` 在本作用域被冻结\n",
    "        // _mutable_integer = 50;\n",
    "        // 改正 ^ 注释掉上面这行\n",
    "        println!(\"{}\", _mutable_integer);\n",
    "        // `_mutable_integer` 离开作用域\n",
    "    }\n",
    "    println!(\"{}\", _mutable_integer);\n",
    "    // 正常运行！ `_mutable_integer` 在这个作用域没有冻结\n",
    "    _mutable_integer = 3;\n",
    "}\n"
   ]
  },
  {
   "cell_type": "code",
   "execution_count": null,
   "metadata": {
    "vscode": {
     "languageId": "rust"
    }
   },
   "outputs": [
    {
     "ename": "Error",
     "evalue": "borrow of moved value: `s`",
     "output_type": "error",
     "traceback": [
      "\u001b[31m[E0382] Error:\u001b[0m borrow of moved value: `s`",
      "   \u001b[38;5;246m╭\u001b[0m\u001b[38;5;246m─\u001b[0m\u001b[38;5;246m[\u001b[0mcommand_14:1:1\u001b[38;5;246m]\u001b[0m",
      "   \u001b[38;5;246m│\u001b[0m",
      " \u001b[38;5;246m1 │\u001b[0m \u001b[38;5;249ml\u001b[0m\u001b[38;5;249me\u001b[0m\u001b[38;5;249mt\u001b[0m\u001b[38;5;249m \u001b[0m\u001b[38;5;68mm\u001b[0m\u001b[38;5;68mu\u001b[0m\u001b[38;5;68mt\u001b[0m\u001b[38;5;68m \u001b[0m\u001b[38;5;68ms\u001b[0m\u001b[38;5;249m \u001b[0m\u001b[38;5;249m=\u001b[0m\u001b[38;5;249m \u001b[0m\u001b[38;5;249m\"\u001b[0m\u001b[38;5;249mK\u001b[0m\u001b[38;5;249mi\u001b[0m\u001b[38;5;249mn\u001b[0m\u001b[38;5;249mg\u001b[0m\u001b[38;5;249m\"\u001b[0m\u001b[38;5;249m.\u001b[0m\u001b[38;5;249mt\u001b[0m\u001b[38;5;249mo\u001b[0m\u001b[38;5;249m_\u001b[0m\u001b[38;5;249ms\u001b[0m\u001b[38;5;249mt\u001b[0m\u001b[38;5;249mr\u001b[0m\u001b[38;5;249mi\u001b[0m\u001b[38;5;249mn\u001b[0m\u001b[38;5;249mg\u001b[0m\u001b[38;5;249m(\u001b[0m\u001b[38;5;249m)\u001b[0m\u001b[38;5;249m;\u001b[0m",
      " \u001b[38;5;240m  │\u001b[0m     \u001b[38;5;68m─\u001b[0m\u001b[38;5;68m─\u001b[0m\u001b[38;5;68m┬\u001b[0m\u001b[38;5;68m─\u001b[0m\u001b[38;5;68m─\u001b[0m  ",
      " \u001b[38;5;240m  │\u001b[0m       \u001b[38;5;68m╰\u001b[0m\u001b[38;5;68m─\u001b[0m\u001b[38;5;68m─\u001b[0m\u001b[38;5;68m─\u001b[0m\u001b[38;5;68m─\u001b[0m move occurs because `s` has type `String`, which does not implement the `Copy` trait",
      " \u001b[38;5;246m2 │\u001b[0m \u001b[38;5;249ml\u001b[0m\u001b[38;5;249me\u001b[0m\u001b[38;5;249mt\u001b[0m\u001b[38;5;249m \u001b[0m\u001b[38;5;249mt\u001b[0m\u001b[38;5;249m \u001b[0m\u001b[38;5;249m=\u001b[0m\u001b[38;5;249m \u001b[0m\u001b[38;5;54ms\u001b[0m\u001b[38;5;249m;\u001b[0m",
      " \u001b[38;5;240m  │\u001b[0m         \u001b[38;5;54m┬\u001b[0m\u001b[38;5;37m│\u001b[0m ",
      " \u001b[38;5;240m  │\u001b[0m         \u001b[38;5;54m╰\u001b[0m\u001b[38;5;54m─\u001b[0m\u001b[38;5;54m─\u001b[0m value moved here",
      " \u001b[38;5;240m  │\u001b[0m          \u001b[38;5;37m│\u001b[0m ",
      " \u001b[38;5;240m  │\u001b[0m          \u001b[38;5;37m╰\u001b[0m\u001b[38;5;37m─\u001b[0m help: consider cloning the value if the performance cost is acceptable: `.clone()`",
      " \u001b[38;5;246m3 │\u001b[0m \u001b[38;5;249mp\u001b[0m\u001b[38;5;249mr\u001b[0m\u001b[38;5;249mi\u001b[0m\u001b[38;5;249mn\u001b[0m\u001b[38;5;249mt\u001b[0m\u001b[38;5;249ml\u001b[0m\u001b[38;5;249mn\u001b[0m\u001b[38;5;249m!\u001b[0m\u001b[38;5;249m(\u001b[0m\u001b[38;5;249m\"\u001b[0m\u001b[38;5;249m{\u001b[0m\u001b[38;5;249m}\u001b[0m\u001b[38;5;249m\"\u001b[0m\u001b[38;5;249m,\u001b[0m\u001b[38;5;249m \u001b[0m\u001b[38;5;100ms\u001b[0m\u001b[38;5;249m)\u001b[0m\u001b[38;5;249m;\u001b[0m",
      " \u001b[38;5;240m  │\u001b[0m                \u001b[38;5;100m┬\u001b[0m  ",
      " \u001b[38;5;240m  │\u001b[0m                \u001b[38;5;100m╰\u001b[0m\u001b[38;5;100m─\u001b[0m\u001b[38;5;100m─\u001b[0m value borrowed here after move",
      "\u001b[38;5;246m───╯\u001b[0m"
     ]
    }
   ],
   "source": [
    "let mut s = \"King\".to_string();\n",
    "let t = s;\n",
    "println!(\"{}\", s);\n",
    "s = \"Dreamer\".to_string();\n",
    "println!(\"{}\", t);\n"
   ]
  },
  {
   "cell_type": "code",
   "execution_count": null,
   "metadata": {
    "vscode": {
     "languageId": "rust"
    }
   },
   "outputs": [
    {
     "name": "stdout",
     "output_type": "stream",
     "text": [
      "103 104 102\n",
      "[\"101\", \"King\", \"103\", \"105\"]\n"
     ]
    }
   ],
   "source": [
    "use std::mem;\n",
    "\n",
    "let mut v = Vec::new();\n",
    "\n",
    "for i in 101..106 {\n",
    "    v.push(i.to_string());\n",
    "}\n",
    "let third = v[2].clone();\n",
    "let fourth = v.swap_remove(3);\n",
    "let second = mem::replace(&mut v[1], \"King\".to_string());\n",
    "println!(\"{} {} {}\", third, fourth, second);\n",
    "println!(\"{:?}\", v);\n"
   ]
  },
  {
   "cell_type": "code",
   "execution_count": null,
   "metadata": {
    "vscode": {
     "languageId": "rust"
    }
   },
   "outputs": [
    {
     "ename": "Error",
     "evalue": "borrow of moved value: `v`",
     "output_type": "error",
     "traceback": [
      "\u001b[31m[E0382] Error:\u001b[0m borrow of moved value: `v`",
      "    \u001b[38;5;246m╭\u001b[0m\u001b[38;5;246m─\u001b[0m\u001b[38;5;246m[\u001b[0mcommand_31:1:1\u001b[38;5;246m]\u001b[0m",
      "    \u001b[38;5;246m│\u001b[0m",
      " \u001b[38;5;246m 1 │\u001b[0m \u001b[38;5;249ml\u001b[0m\u001b[38;5;249me\u001b[0m\u001b[38;5;249mt\u001b[0m\u001b[38;5;249m \u001b[0m\u001b[38;5;68mm\u001b[0m\u001b[38;5;68mu\u001b[0m\u001b[38;5;68mt\u001b[0m\u001b[38;5;68m \u001b[0m\u001b[38;5;68mv\u001b[0m\u001b[38;5;249m \u001b[0m\u001b[38;5;249m=\u001b[0m\u001b[38;5;249m \u001b[0m\u001b[38;5;249mV\u001b[0m\u001b[38;5;249me\u001b[0m\u001b[38;5;249mc\u001b[0m\u001b[38;5;249m:\u001b[0m\u001b[38;5;249m:\u001b[0m\u001b[38;5;249mn\u001b[0m\u001b[38;5;249me\u001b[0m\u001b[38;5;249mw\u001b[0m\u001b[38;5;249m(\u001b[0m\u001b[38;5;249m)\u001b[0m\u001b[38;5;249m;\u001b[0m",
      " \u001b[38;5;240m   │\u001b[0m     \u001b[38;5;68m─\u001b[0m\u001b[38;5;68m─\u001b[0m\u001b[38;5;68m┬\u001b[0m\u001b[38;5;68m─\u001b[0m\u001b[38;5;68m─\u001b[0m  ",
      " \u001b[38;5;240m   │\u001b[0m       \u001b[38;5;68m╰\u001b[0m\u001b[38;5;68m─\u001b[0m\u001b[38;5;68m─\u001b[0m\u001b[38;5;68m─\u001b[0m\u001b[38;5;68m─\u001b[0m move occurs because `v` has type `Vec<String>`, which does not implement the `Copy` trait",
      " \u001b[38;5;240m   │\u001b[0m ",
      " \u001b[38;5;246m 7 │\u001b[0m \u001b[38;5;249mf\u001b[0m\u001b[38;5;249mo\u001b[0m\u001b[38;5;249mr\u001b[0m\u001b[38;5;249m \u001b[0m\u001b[38;5;249mm\u001b[0m\u001b[38;5;249mu\u001b[0m\u001b[38;5;249mt\u001b[0m\u001b[38;5;249m \u001b[0m\u001b[38;5;249ms\u001b[0m\u001b[38;5;249m \u001b[0m\u001b[38;5;249mi\u001b[0m\u001b[38;5;249mn\u001b[0m\u001b[38;5;249m \u001b[0m\u001b[38;5;54mv\u001b[0m\u001b[38;5;249m \u001b[0m\u001b[38;5;249m{\u001b[0m",
      " \u001b[38;5;240m   │\u001b[0m              \u001b[38;5;54m┬\u001b[0m  ",
      " \u001b[38;5;240m   │\u001b[0m              \u001b[38;5;54m╰\u001b[0m\u001b[38;5;54m─\u001b[0m\u001b[38;5;54m─\u001b[0m `v` moved due to this implicit call to `.into_iter()`",
      " \u001b[38;5;240m   │\u001b[0m              \u001b[38;5;37m│\u001b[0m  ",
      " \u001b[38;5;240m   │\u001b[0m              \u001b[38;5;37m╰\u001b[0m\u001b[38;5;37m─\u001b[0m\u001b[38;5;37m─\u001b[0m help: consider iterating over a slice of the `Vec<String>`'s content to avoid moving into the `for` loop: `&`",
      " \u001b[38;5;240m   │\u001b[0m ",
      " \u001b[38;5;246m12 │\u001b[0m \u001b[38;5;249mp\u001b[0m\u001b[38;5;249mr\u001b[0m\u001b[38;5;249mi\u001b[0m\u001b[38;5;249mn\u001b[0m\u001b[38;5;249mt\u001b[0m\u001b[38;5;249ml\u001b[0m\u001b[38;5;249mn\u001b[0m\u001b[38;5;249m!\u001b[0m\u001b[38;5;249m(\u001b[0m\u001b[38;5;249m\"\u001b[0m\u001b[38;5;249m{\u001b[0m\u001b[38;5;249m:\u001b[0m\u001b[38;5;249m?\u001b[0m\u001b[38;5;249m}\u001b[0m\u001b[38;5;249m\"\u001b[0m\u001b[38;5;249m,\u001b[0m\u001b[38;5;249m \u001b[0m\u001b[38;5;100mv\u001b[0m\u001b[38;5;249m)\u001b[0m\u001b[38;5;249m;\u001b[0m",
      " \u001b[38;5;240m   │\u001b[0m                  \u001b[38;5;100m┬\u001b[0m  ",
      " \u001b[38;5;240m   │\u001b[0m                  \u001b[38;5;100m╰\u001b[0m\u001b[38;5;100m─\u001b[0m\u001b[38;5;100m─\u001b[0m value borrowed here after move",
      " \u001b[38;5;240m   │\u001b[0m ",
      " \u001b[38;5;240m   │\u001b[0m \u001b[38;5;115mNote\u001b[0m: note: `into_iter` takes ownership of the receiver `self`, which moves `v`",
      "\u001b[38;5;246m────╯\u001b[0m"
     ]
    }
   ],
   "source": [
    "let mut v = Vec::new();\n",
    "\n",
    "for i in 101..106 {\n",
    "    v.push(i.to_string());\n",
    "}\n",
    "\n",
    "for mut s in v {\n",
    "    s.push('!');\n",
    "    println!(\"{}\", s);\n",
    "}\n",
    "\n",
    "println!(\"{:?}\", v);\n"
   ]
  },
  {
   "cell_type": "code",
   "execution_count": null,
   "metadata": {
    "vscode": {
     "languageId": "rust"
    }
   },
   "outputs": [
    {
     "name": "stdout",
     "output_type": "stream",
     "text": [
      "Some(\"King\")\n",
      "[Person { name: None, birth: 1990 }]\n"
     ]
    }
   ],
   "source": [
    "#[derive(Debug)]\n",
    "struct Person {\n",
    "    name: Option<String>,\n",
    "    birth: i32,\n",
    "}\n",
    "use std::mem::replace;\n",
    "\n",
    "let mut composers = Vec::new();\n",
    "composers.push(Person { name: Some(\"King\".to_string()), birth: 1990 });\n",
    "// let name = composers[0].name;\n",
    "let name = replace(&mut composers[0].name, None);\n",
    "println!(\"{:?}\", name);\n",
    "println!(\"{:?}\", composers);\n"
   ]
  },
  {
   "cell_type": "code",
   "execution_count": null,
   "metadata": {
    "vscode": {
     "languageId": "rust"
    }
   },
   "outputs": [
    {
     "name": "stdout",
     "output_type": "stream",
     "text": [
      "Some(\"King\")\n",
      "[Person { name: None, birth: 1990 }]\n"
     ]
    }
   ],
   "source": [
    "#[derive(Debug)]\n",
    "struct Person {\n",
    "    name: Option<String>,\n",
    "    birth: i32,\n",
    "}\n",
    "use std::mem::replace;\n",
    "\n",
    "let mut composers = Vec::new();\n",
    "composers.push(Person { name: Some(\"King\".to_string()), birth: 1990 });\n",
    "let name = composers[0].name.take();\n",
    "println!(\"{:?}\", name);\n",
    "println!(\"{:?}\", composers);\n"
   ]
  },
  {
   "cell_type": "markdown",
   "metadata": {},
   "source": [
    "移动一个值会使移动的源变成未初始化状态。对Copy类型的值进行赋值会复制这个值，而不会移动它。赋值的源仍会保持已初始化和可用状态，并且有与之前相同的值。把Copy类型的值传给函数或构造函数也是如此。\n",
    "标准的Copy类型包括整型、浮点型、char类型和bool类型，以及其他某些类型。Copy类型的元组或数组本身也是Copy类型。"
   ]
  },
  {
   "cell_type": "code",
   "execution_count": 45,
   "metadata": {
    "vscode": {
     "languageId": "rust"
    }
   },
   "outputs": [
    {
     "name": "stdout",
     "output_type": "stream",
     "text": [
      "-128\n"
     ]
    }
   ],
   "source": [
    "#![allow(overflowing_literals)]\n",
    "println!(\"{}\", 128 as i8);\n"
   ]
  },
  {
   "cell_type": "code",
   "execution_count": null,
   "metadata": {
    "vscode": {
     "languageId": "rust"
    }
   },
   "outputs": [
    {
     "name": "stdout",
     "output_type": "stream",
     "text": [
      "232\n",
      "-24\n",
      "11101000\n",
      "11101000\n"
     ]
    }
   ],
   "source": [
    "#![allow(overflowing_literals)]\n",
    "println!(\"{}\", 1000 as u8);\n",
    "println!(\"{}\", 232 as i8);\n",
    "println!(\"{:b}\", 232);\n",
    "println!(\"{:.8b}\", -24i8);\n"
   ]
  },
  {
   "cell_type": "code",
   "execution_count": null,
   "metadata": {
    "vscode": {
     "languageId": "rust"
    }
   },
   "outputs": [
    {
     "name": "stdout",
     "output_type": "stream",
     "text": [
      "2 4\n"
     ]
    }
   ],
   "source": [
    "use std::mem::size_of_val;\n",
    "\n",
    "let a = 1i16;\n",
    "let b = 0;\n",
    "println!(\"{} {}\", size_of_val(&a), size_of_val(&b));\n"
   ]
  },
  {
   "cell_type": "code",
   "execution_count": null,
   "metadata": {
    "vscode": {
     "languageId": "rust"
    }
   },
   "outputs": [
    {
     "name": "stdout",
     "output_type": "stream",
     "text": [
      "23\n"
     ]
    }
   ],
   "source": [
    "// #[allow(non_camel_case_types)]\n",
    "type u64_t = u64;\n",
    "let x: u64_t = 23;\n",
    "println!(\"{}\", x);\n"
   ]
  },
  {
   "cell_type": "markdown",
   "metadata": {},
   "source": [
    "## 类型转换\n",
    "1. From / TryFrom\n",
    "2. Into / TryInto"
   ]
  },
  {
   "cell_type": "code",
   "execution_count": 39,
   "metadata": {
    "vscode": {
     "languageId": "rust"
    }
   },
   "outputs": [
    {
     "name": "stdout",
     "output_type": "stream",
     "text": [
      "56\n"
     ]
    },
    {
     "data": {
      "text/plain": [
       "()"
      ]
     },
     "execution_count": 39,
     "metadata": {},
     "output_type": "execute_result"
    }
   ],
   "source": [
    "static mut STASH: &i32 = &128;\n",
    "\n",
    "fn f(p: &'static i32) {\n",
    "    unsafe {\n",
    "        STASH = p;\n",
    "    }\n",
    "}\n",
    "\n",
    "f(&56);\n",
    "unsafe {\n",
    "    println!(\"{}\", STASH);\n",
    "}\n"
   ]
  },
  {
   "cell_type": "code",
   "execution_count": 42,
   "metadata": {
    "vscode": {
     "languageId": "rust"
    }
   },
   "outputs": [
    {
     "name": "stdout",
     "output_type": "stream",
     "text": [
      "4 4\n"
     ]
    },
    {
     "data": {
      "text/plain": [
       "()"
      ]
     },
     "execution_count": 42,
     "metadata": {},
     "output_type": "execute_result"
    }
   ],
   "source": [
    "{\n",
    "    let v = vec![4, 8, 9, 11, 12];\n",
    "    let r = &v;\n",
    "    let aside = r;\n",
    "    println!(\"{} {}\", r[0], aside[0]);\n",
    "}\n"
   ]
  },
  {
   "cell_type": "code",
   "execution_count": 47,
   "metadata": {
    "vscode": {
     "languageId": "rust"
    }
   },
   "outputs": [
    {
     "ename": "Error",
     "evalue": "cannot borrow `x` as mutable because it is also borrowed as immutable",
     "output_type": "error",
     "traceback": [
      "\u001b[31m[E0502] Error:\u001b[0m cannot borrow `x` as mutable because it is also borrowed as immutable",
      "   \u001b[38;5;246m╭\u001b[0m\u001b[38;5;246m─\u001b[0m\u001b[38;5;246m[\u001b[0mcommand_47:1:1\u001b[38;5;246m]\u001b[0m",
      "   \u001b[38;5;246m│\u001b[0m",
      " \u001b[38;5;246m3 │\u001b[0m \u001b[38;5;249m \u001b[0m\u001b[38;5;249m \u001b[0m\u001b[38;5;249m \u001b[0m\u001b[38;5;249m \u001b[0m\u001b[38;5;249ml\u001b[0m\u001b[38;5;249me\u001b[0m\u001b[38;5;249mt\u001b[0m\u001b[38;5;249m \u001b[0m\u001b[38;5;249mr\u001b[0m\u001b[38;5;249m1\u001b[0m\u001b[38;5;249m \u001b[0m\u001b[38;5;249m=\u001b[0m\u001b[38;5;249m \u001b[0m\u001b[38;5;100m&\u001b[0m\u001b[38;5;100mx\u001b[0m\u001b[38;5;249m;\u001b[0m",
      " \u001b[38;5;240m  │\u001b[0m              \u001b[38;5;100m─\u001b[0m\u001b[38;5;100m┬\u001b[0m  ",
      " \u001b[38;5;240m  │\u001b[0m               \u001b[38;5;100m╰\u001b[0m\u001b[38;5;100m─\u001b[0m\u001b[38;5;100m─\u001b[0m immutable borrow occurs here",
      " \u001b[38;5;240m  │\u001b[0m ",
      " \u001b[38;5;246m6 │\u001b[0m \u001b[38;5;249m \u001b[0m\u001b[38;5;249m \u001b[0m\u001b[38;5;249m \u001b[0m\u001b[38;5;249m \u001b[0m\u001b[38;5;249ml\u001b[0m\u001b[38;5;249me\u001b[0m\u001b[38;5;249mt\u001b[0m\u001b[38;5;249m \u001b[0m\u001b[38;5;249mm\u001b[0m\u001b[38;5;249m \u001b[0m\u001b[38;5;249m=\u001b[0m\u001b[38;5;249m \u001b[0m\u001b[38;5;54m&\u001b[0m\u001b[38;5;54mm\u001b[0m\u001b[38;5;54mu\u001b[0m\u001b[38;5;54mt\u001b[0m\u001b[38;5;54m \u001b[0m\u001b[38;5;54mx\u001b[0m\u001b[38;5;249m;\u001b[0m",
      " \u001b[38;5;240m  │\u001b[0m             \u001b[38;5;54m─\u001b[0m\u001b[38;5;54m─\u001b[0m\u001b[38;5;54m─\u001b[0m\u001b[38;5;54m┬\u001b[0m\u001b[38;5;54m─\u001b[0m\u001b[38;5;54m─\u001b[0m  ",
      " \u001b[38;5;240m  │\u001b[0m                \u001b[38;5;54m╰\u001b[0m\u001b[38;5;54m─\u001b[0m\u001b[38;5;54m─\u001b[0m\u001b[38;5;54m─\u001b[0m\u001b[38;5;54m─\u001b[0m mutable borrow occurs here",
      " \u001b[38;5;246m7 │\u001b[0m \u001b[38;5;249m \u001b[0m\u001b[38;5;249m \u001b[0m\u001b[38;5;249m \u001b[0m\u001b[38;5;249m \u001b[0m\u001b[38;5;249mp\u001b[0m\u001b[38;5;249mr\u001b[0m\u001b[38;5;249mi\u001b[0m\u001b[38;5;249mn\u001b[0m\u001b[38;5;249mt\u001b[0m\u001b[38;5;249ml\u001b[0m\u001b[38;5;249mn\u001b[0m\u001b[38;5;249m!\u001b[0m\u001b[38;5;249m(\u001b[0m\u001b[38;5;249m\"\u001b[0m\u001b[38;5;249m{\u001b[0m\u001b[38;5;249m}\u001b[0m\u001b[38;5;249m \u001b[0m\u001b[38;5;249m{\u001b[0m\u001b[38;5;249m}\u001b[0m\u001b[38;5;249m \u001b[0m\u001b[38;5;249m{\u001b[0m\u001b[38;5;249m}\u001b[0m\u001b[38;5;249m \u001b[0m\u001b[38;5;249m{\u001b[0m\u001b[38;5;249m}\u001b[0m\u001b[38;5;249m\"\u001b[0m\u001b[38;5;249m,\u001b[0m\u001b[38;5;249m \u001b[0m\u001b[38;5;249mx\u001b[0m\u001b[38;5;249m,\u001b[0m\u001b[38;5;249m \u001b[0m\u001b[38;5;68mr\u001b[0m\u001b[38;5;68m1\u001b[0m\u001b[38;5;249m,\u001b[0m\u001b[38;5;249m \u001b[0m\u001b[38;5;249mr\u001b[0m\u001b[38;5;249m2\u001b[0m\u001b[38;5;249m,\u001b[0m\u001b[38;5;249m \u001b[0m\u001b[38;5;249mm\u001b[0m\u001b[38;5;249m)\u001b[0m\u001b[38;5;249m;\u001b[0m",
      " \u001b[38;5;240m  │\u001b[0m                                \u001b[38;5;68m─\u001b[0m\u001b[38;5;68m┬\u001b[0m  ",
      " \u001b[38;5;240m  │\u001b[0m                                 \u001b[38;5;68m╰\u001b[0m\u001b[38;5;68m─\u001b[0m\u001b[38;5;68m─\u001b[0m immutable borrow later used here",
      "\u001b[38;5;246m───╯\u001b[0m"
     ]
    },
    {
     "ename": "Error",
     "evalue": "cannot borrow `x` as immutable because it is also borrowed as mutable",
     "output_type": "error",
     "traceback": [
      "\u001b[31m[E0502] Error:\u001b[0m cannot borrow `x` as immutable because it is also borrowed as mutable",
      "   \u001b[38;5;246m╭\u001b[0m\u001b[38;5;246m─\u001b[0m\u001b[38;5;246m[\u001b[0mcommand_47:1:1\u001b[38;5;246m]\u001b[0m",
      "   \u001b[38;5;246m│\u001b[0m",
      " \u001b[38;5;246m6 │\u001b[0m \u001b[38;5;249m \u001b[0m\u001b[38;5;249m \u001b[0m\u001b[38;5;249m \u001b[0m\u001b[38;5;249m \u001b[0m\u001b[38;5;249ml\u001b[0m\u001b[38;5;249me\u001b[0m\u001b[38;5;249mt\u001b[0m\u001b[38;5;249m \u001b[0m\u001b[38;5;249mm\u001b[0m\u001b[38;5;249m \u001b[0m\u001b[38;5;249m=\u001b[0m\u001b[38;5;249m \u001b[0m\u001b[38;5;100m&\u001b[0m\u001b[38;5;100mm\u001b[0m\u001b[38;5;100mu\u001b[0m\u001b[38;5;100mt\u001b[0m\u001b[38;5;100m \u001b[0m\u001b[38;5;100mx\u001b[0m\u001b[38;5;249m;\u001b[0m",
      " \u001b[38;5;240m  │\u001b[0m             \u001b[38;5;100m─\u001b[0m\u001b[38;5;100m─\u001b[0m\u001b[38;5;100m─\u001b[0m\u001b[38;5;100m┬\u001b[0m\u001b[38;5;100m─\u001b[0m\u001b[38;5;100m─\u001b[0m  ",
      " \u001b[38;5;240m  │\u001b[0m                \u001b[38;5;100m╰\u001b[0m\u001b[38;5;100m─\u001b[0m\u001b[38;5;100m─\u001b[0m\u001b[38;5;100m─\u001b[0m\u001b[38;5;100m─\u001b[0m mutable borrow occurs here",
      " \u001b[38;5;246m7 │\u001b[0m \u001b[38;5;249m \u001b[0m\u001b[38;5;249m \u001b[0m\u001b[38;5;249m \u001b[0m\u001b[38;5;249m \u001b[0m\u001b[38;5;249mp\u001b[0m\u001b[38;5;249mr\u001b[0m\u001b[38;5;249mi\u001b[0m\u001b[38;5;249mn\u001b[0m\u001b[38;5;249mt\u001b[0m\u001b[38;5;249ml\u001b[0m\u001b[38;5;249mn\u001b[0m\u001b[38;5;249m!\u001b[0m\u001b[38;5;249m(\u001b[0m\u001b[38;5;249m\"\u001b[0m\u001b[38;5;249m{\u001b[0m\u001b[38;5;249m}\u001b[0m\u001b[38;5;249m \u001b[0m\u001b[38;5;249m{\u001b[0m\u001b[38;5;249m}\u001b[0m\u001b[38;5;249m \u001b[0m\u001b[38;5;249m{\u001b[0m\u001b[38;5;249m}\u001b[0m\u001b[38;5;249m \u001b[0m\u001b[38;5;249m{\u001b[0m\u001b[38;5;249m}\u001b[0m\u001b[38;5;249m\"\u001b[0m\u001b[38;5;249m,\u001b[0m\u001b[38;5;249m \u001b[0m\u001b[38;5;54mx\u001b[0m\u001b[38;5;249m,\u001b[0m\u001b[38;5;249m \u001b[0m\u001b[38;5;249mr\u001b[0m\u001b[38;5;249m1\u001b[0m\u001b[38;5;249m,\u001b[0m\u001b[38;5;249m \u001b[0m\u001b[38;5;249mr\u001b[0m\u001b[38;5;249m2\u001b[0m\u001b[38;5;249m,\u001b[0m\u001b[38;5;249m \u001b[0m\u001b[38;5;68mm\u001b[0m\u001b[38;5;249m)\u001b[0m\u001b[38;5;249m;\u001b[0m",
      " \u001b[38;5;240m  │\u001b[0m                             \u001b[38;5;54m┬\u001b[0m          \u001b[38;5;68m┬\u001b[0m  ",
      " \u001b[38;5;240m  │\u001b[0m                             \u001b[38;5;54m╰\u001b[0m\u001b[38;5;54m─\u001b[0m\u001b[38;5;54m─\u001b[0m\u001b[38;5;54m─\u001b[0m\u001b[38;5;54m─\u001b[0m\u001b[38;5;54m─\u001b[0m\u001b[38;5;54m─\u001b[0m\u001b[38;5;54m─\u001b[0m\u001b[38;5;54m─\u001b[0m\u001b[38;5;54m─\u001b[0m\u001b[38;5;54m─\u001b[0m\u001b[38;5;54m─\u001b[0m\u001b[38;5;54m─\u001b[0m\u001b[38;5;54m─\u001b[0m immutable borrow occurs here",
      " \u001b[38;5;240m  │\u001b[0m                                        \u001b[38;5;68m│\u001b[0m  ",
      " \u001b[38;5;240m  │\u001b[0m                                        \u001b[38;5;68m╰\u001b[0m\u001b[38;5;68m─\u001b[0m\u001b[38;5;68m─\u001b[0m mutable borrow later used here",
      "\u001b[38;5;246m───╯\u001b[0m"
     ]
    }
   ],
   "source": [
    "{\n",
    "    let mut x = 10;\n",
    "    let r1 = &x;\n",
    "    let r2 = &x;\n",
    "    // x += 2;\n",
    "    let m = &mut x;\n",
    "    println!(\"{} {} {} {}\", x, r1, r2, m);\n",
    "}\n"
   ]
  },
  {
   "cell_type": "code",
   "execution_count": 60,
   "metadata": {
    "vscode": {
     "languageId": "rust"
    }
   },
   "outputs": [
    {
     "name": "stdout",
     "output_type": "stream",
     "text": [
      "12\n",
      "14\n"
     ]
    },
    {
     "data": {
      "text/plain": [
       "()"
      ]
     },
     "execution_count": 60,
     "metadata": {},
     "output_type": "execute_result"
    }
   ],
   "source": [
    "{\n",
    "    let mut y = 12;\n",
    "    let m1 = &mut y;\n",
    "    // let m2 = &mut y;\n",
    "    println!(\"{}\", m1);\n",
    "    y += 2;\n",
    "    println!(\"{}\", y);\n",
    "}\n"
   ]
  },
  {
   "cell_type": "markdown",
   "metadata": {},
   "source": [
    "？在任何生产Result的表达式上使用?可使错误沿着调用栈向上传播。\n",
    "？运算符也能用于Option类型，解包某个值。\n",
    "try!() 展开为match表达式。"
   ]
  },
  {
   "cell_type": "code",
   "execution_count": 3,
   "metadata": {
    "vscode": {
     "languageId": "rust"
    }
   },
   "outputs": [],
   "source": [
    "\n"
   ]
  }
 ],
 "metadata": {
  "kernelspec": {
   "display_name": "Rust",
   "language": "rust",
   "name": "rust"
  },
  "language_info": {
   "codemirror_mode": "rust",
   "file_extension": ".rs",
   "mimetype": "text/rust",
   "name": "Rust",
   "pygment_lexer": "rust",
   "version": ""
  }
 },
 "nbformat": 4,
 "nbformat_minor": 2
}
