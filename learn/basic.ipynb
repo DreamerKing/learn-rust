{
 "cells": [
  {
   "cell_type": "markdown",
   "id": "aa2c09da",
   "metadata": {},
   "source": [
    "## println!"
   ]
  },
  {
   "cell_type": "code",
   "execution_count": 16,
   "id": "bb514b17",
   "metadata": {},
   "outputs": [
    {
     "name": "stdout",
     "output_type": "stream",
     "text": [
      "Hello, world!\n",
      "1 from Number\n",
      "brand is from Mass and brand likes to Code\n",
      "Joe likes to paly Baseball\n",
      "Binary: 1010; Hex: a; Octal: 12\n",
      "(12, true, \"Hello\")\n",
      "10 + 10 = 20\n",
      "Name is King age is 20\n",
      "x is 23\n"
     ]
    }
   ],
   "source": [
    "println!(\"Hello, world!\");\n",
    "println!(\"{} from {}\", 1, \"Number\");\n",
    "println!(\"{0} is from {1} and {0} likes to {2}\", \"brand\", \"Mass\", \"Code\");\n",
    "println!(\"{name} likes to paly {activity}\", name = \"Joe\", activity = \"Baseball\");\n",
    "println!(\"Binary: {:b}; Hex: {:x}; Octal: {:o}\", 10, 10, 10);\n",
    "println!(\"{:?}\", (12, true, \"Hello\"));\n",
    "println!(\"10 + 10 = {}\", 10 + 10);\n",
    "let (name, age) = (\"King\", 20);\n",
    "println!(\"Name is {name} age is {age}\");\n",
    "\n",
    "let x = 23;\n",
    "println!(\"x is {x}\");\n"
   ]
  },
  {
   "cell_type": "markdown",
   "id": "ce47e313",
   "metadata": {},
   "source": [
    "# 变量与数据类型\n",
    "数据结构 存储和组织数据的方式 \n",
    "- 动态数组 \n",
    "- 映射 \n",
    "- 字符串"
   ]
  },
  {
   "cell_type": "markdown",
   "id": "059bb034",
   "metadata": {},
   "source": [
    "## 变量 \n",
    "- 标识符与值的绑定\n",
    "- 默认不可变\n",
    "- 先声明后使用\n",
    "- 自动类型推导\n",
    "- 类型标注\n",
    "- 下划线开头的变量名会被类型检查忽略\n",
    "\n",
    "变量遮蔽  重复声明同名变量会遮蔽前一个同名变量 不同的内存空间 值以及类型都可以不同"
   ]
  },
  {
   "cell_type": "code",
   "execution_count": 17,
   "id": "f6e339c0-1295-4d8a-a39b-872a0415e994",
   "metadata": {},
   "outputs": [
    {
     "name": "stdout",
     "output_type": "stream",
     "text": [
      "23\n",
      "x = 32, y = 23 \n"
     ]
    }
   ],
   "source": [
    "let x = 23;\n",
    "println!(\"{}\", x);\n",
    "let y = x;\n",
    "//  x = 32;\n",
    "let x = \"32\";\n",
    "println!(\"x = {}, y = {} \", x, y);\n"
   ]
  },
  {
   "cell_type": "code",
   "execution_count": 18,
   "id": "f85fa3da",
   "metadata": {},
   "outputs": [
    {
     "name": "stdout",
     "output_type": "stream",
     "text": [
      "23\n",
      "32\n"
     ]
    }
   ],
   "source": [
    "let mut x = 23;\n",
    "println!(\"{}\", x);\n",
    "x = 32;\n",
    "println!(\"{}\", x);\n"
   ]
  },
  {
   "cell_type": "code",
   "execution_count": 19,
   "id": "5ab8a401",
   "metadata": {},
   "outputs": [
    {
     "name": "stdout",
     "output_type": "stream",
     "text": [
      "Name is Brand age is 36\n",
      "Name is Brand age is 20\n",
      "ID is 1\n",
      "Name is Brand age is 20\n"
     ]
    }
   ],
   "source": [
    "let name = \"Brand\";\n",
    "let mut age = 36;\n",
    "println!(\"Name is {name} age is {age}\");\n",
    "age = 20;\n",
    "println!(\"Name is {name} age is {age}\");\n",
    "\n",
    "const ID: i32 = 0001;\n",
    "println!(\"ID is {ID}\");\n",
    "let (name, age) = (name, age);\n",
    "println!(\"Name is {name} age is {age}\");\n"
   ]
  },
  {
   "cell_type": "markdown",
   "id": "8451b4cb",
   "metadata": {},
   "source": [
    "## 常量\n",
    "声明后不可改变其绑定和值\n",
    "类型标注不可省略 \n",
    "常量不能遮蔽，不能重复定义\n",
    "常量可以在任意作用域中声明，并且在整个程序的生命周期内都有效\n",
    "常量只能被赋值为常量表达式或数学表达式，不能是函数的返回值，或者其他运行时才确定的值"
   ]
  },
  {
   "cell_type": "code",
   "execution_count": 20,
   "id": "b0d8e705",
   "metadata": {},
   "outputs": [
    {
     "name": "stdout",
     "output_type": "stream",
     "text": [
      "23\n"
     ]
    }
   ],
   "source": [
    "// let X_1 = 12;\n",
    "const X_1: u32 = 23;\n",
    "println!(\"{}\", X_1);\n"
   ]
  },
  {
   "cell_type": "markdown",
   "id": "fc4403f6",
   "metadata": {},
   "source": [
    "## 基本数据类型\n",
    "- 整型(1~16个字节) 默认i32 分有符号和无符号两类\n",
    "- 浮点型 默认f64\n",
    "- 布尔型 bool\n",
    "- 字符型 UTF8编码 单引号\n",
    "- 范围类型 生成整数序列 左闭右开和全闭"
   ]
  },
  {
   "cell_type": "code",
   "execution_count": 21,
   "id": "f706af23",
   "metadata": {},
   "outputs": [
    {
     "name": "stdout",
     "output_type": "stream",
     "text": [
      "10\n",
      "zeros = 7, ones = 1\n"
     ]
    }
   ],
   "source": [
    "let a = i8::from_str_radix(\"A\", 16).expect(\"oops!\");\n",
    "println!(\"{}\", a);\n",
    "let n = 0b100_0000i8;\n",
    "// assert_eq!(n.count_ones(), 1);\n",
    "println!(\"zeros = {}, ones = {}\", n.count_zeros(), n.count_ones());\n"
   ]
  },
  {
   "cell_type": "code",
   "execution_count": 22,
   "id": "2d1b26c4",
   "metadata": {},
   "outputs": [
    {
     "name": "stdout",
     "output_type": "stream",
     "text": [
      "x11 = 23, x2 = 16, x3 = 26, x4 = 21, x5 = 2832, x6 = 2954\n",
      "f1 = 23.12, f2 = 231, f3 = 23\n",
      "b1 = true\n",
      "c1 = 🐈 \n",
      "(1..5):\n",
      " 1  2  3  4 \n",
      "(1..5).rev:\n",
      " 4  3  2  1 \n",
      "(1..=5) sum = 15\n"
     ]
    }
   ],
   "source": [
    "let x11: i8 = 23;\n",
    "let x2 = 16u32;\n",
    "let x3 = 26;\n",
    "let x4: i8 = 0b10101;\n",
    "let x5: i16 = 0xb10;\n",
    "// 分隔符_\n",
    "let x6: u16 = 0o56_12;\n",
    "println!(\"x11 = {}, x2 = {}, x3 = {}, x4 = {}, x5 = {}, x6 = {}\", x11, x2, x3, x4, x5, x6);\n",
    "\n",
    "let f1 = 23.12;\n",
    "let f2: f32 = 231f32;\n",
    "let f3 = 23f64;\n",
    "println!(\"f1 = {}, f2 = {}, f3 = {}\", f1, f2, f3);\n",
    "\n",
    "let b1 = !false;\n",
    "println!(\"b1 = {}\", b1);\n",
    "\n",
    "let c1 = '\\u{1F408}';\n",
    "println!(\"c1 = {} \", c1);\n",
    "\n",
    "println!(\"(1..5):\");\n",
    "for i in 1..5 {\n",
    "    print!(\" {} \", i);\n",
    "}\n",
    "println!();\n",
    "\n",
    "println!(\"(1..5).rev:\");\n",
    "for i in (1..5).rev() {\n",
    "    print!(\" {} \", i);\n",
    "}\n",
    "println!();\n",
    "\n",
    "let sum: i8 = (1..=5).sum();\n",
    "println!(\"(1..=5) sum = {sum}\");\n"
   ]
  },
  {
   "cell_type": "code",
   "execution_count": 23,
   "id": "711d7107",
   "metadata": {},
   "outputs": [
    {
     "name": "stdout",
     "output_type": "stream",
     "text": [
      "a: 1100001111000011\n",
      "b: 1100001111000011\n"
     ]
    }
   ],
   "source": [
    "let a: u16 = 50115;\n",
    "let b: i16 = -15421;\n",
    "println!(\"a: {:016b}\", a);\n",
    "println!(\"b: {:016b}\", b);\n"
   ]
  },
  {
   "cell_type": "markdown",
   "id": "cf4383f6",
   "metadata": {},
   "source": [
    "- 类型标注\n",
    "- 类型后缀\n",
    "- 下划线分隔\n",
    "rust内置对二进制、八进制和十六进制字面量的支持。"
   ]
  },
  {
   "cell_type": "code",
   "execution_count": 24,
   "id": "c9d5292d",
   "metadata": {},
   "outputs": [
    {
     "name": "stdout",
     "output_type": "stream",
     "text": [
      "10 20 30 40\n"
     ]
    }
   ],
   "source": [
    "let a = 10;\n",
    "let b: i32 = 20;\n",
    "let c = 30i32;\n",
    "let d = 40_u32;\n",
    "println!(\"{} {} {} {}\", a, b, c, d);\n"
   ]
  },
  {
   "cell_type": "code",
   "execution_count": 25,
   "id": "e3ad2c41",
   "metadata": {},
   "outputs": [
    {
     "name": "stdout",
     "output_type": "stream",
     "text": [
      "1010101100010000 \n",
      "ab10 \n",
      "125420\n",
      "43792\n"
     ]
    }
   ],
   "source": [
    "let x = 0xab10;\n",
    "println!(\"{:b} \\n{:x} \\n{:o}\\n{}\", x, x, x, x);\n"
   ]
  },
  {
   "cell_type": "code",
   "execution_count": 26,
   "id": "2d28df9b",
   "metadata": {},
   "outputs": [
    {
     "name": "stdout",
     "output_type": "stream",
     "text": [
      "23\n"
     ]
    }
   ],
   "source": [
    "let x = (23.45f32).round();\n",
    "println!(\"{}\", x);\n"
   ]
  },
  {
   "cell_type": "code",
   "execution_count": 27,
   "id": "3fd8846e",
   "metadata": {},
   "outputs": [
    {
     "name": "stdout",
     "output_type": "stream",
     "text": [
      "1110027796\n",
      "01000010001010011010111000010100\n",
      "42.42\n"
     ]
    }
   ],
   "source": [
    "let a: f32 = 42.42;\n",
    "let frankentype: u32 = unsafe { std::mem::transmute(a) };\n",
    "\n",
    "println!(\"{}\", frankentype);\n",
    "println!(\"{:032b}\", frankentype);\n",
    "\n",
    "let b: f32 = unsafe { std::mem::transmute(frankentype) };\n",
    "println!(\"{}\", b);\n",
    "assert_eq!(a, b);\n"
   ]
  },
  {
   "cell_type": "code",
   "execution_count": 28,
   "id": "34be023e",
   "metadata": {},
   "outputs": [
    {
     "name": "stdout",
     "output_type": "stream",
     "text": [
      "0...1000...2000...3000...4000...5000...6000...7000...8000...9000...10000...\n",
      "11000...12000...13000...14000...15000...16000...17000...18000...19000...20000...\n",
      "21000...22000...23000...24000...25000...26000...27000...28000...29000...30000...\n",
      "31000...32000...33000...34000...35000...36000...37000...38000...39000...40000...\n",
      "41000...42000...43000...44000...45000...46000...47000...48000...49000...50000...\n",
      "51000...52000...53000...54000...55000...56000...57000...58000...59000...60000...\n"
     ]
    },
    {
     "name": "stderr",
     "output_type": "stream",
     "text": [
      "thread '<unnamed>' panicked at src/lib.rs:160:5:\n",
      "attempt to add with overflow\n",
      "stack backtrace:\n",
      "   0: _rust_begin_unwind\n",
      "   1: core::panicking::panic_fmt\n",
      "   2: core::panicking::panic_const::panic_const_add_overflow\n",
      "   3: std::panic::catch_unwind\n",
      "   4: _run_user_code_26\n",
      "   5: evcxr::runtime::Runtime::run_loop\n",
      "   6: evcxr::runtime::runtime_hook\n",
      "   7: evcxr_jupyter::main\n",
      "note: Some details are omitted, run with `RUST_BACKTRACE=full` for a verbose backtrace.\n"
     ]
    },
    {
     "name": "stdout",
     "output_type": "stream",
     "text": [
      "61000...62000...63000...64000...65000...EVCXR_PANIC_NOTIFICATION\n"
     ]
    }
   ],
   "source": [
    "let mut i: u16 = 0;\n",
    "print!(\"{}...\", i);\n",
    "loop {\n",
    "    i += 1000;\n",
    "    print!(\"{}...\", i);\n",
    "    if i % 10000 == 0 {\n",
    "        print!(\"\\n\");\n",
    "    }\n",
    "}\n"
   ]
  },
  {
   "cell_type": "code",
   "execution_count": 29,
   "id": "b4bcf9ea",
   "metadata": {},
   "outputs": [
    {
     "name": "stderr",
     "output_type": "stream",
     "text": [
      "thread '<unnamed>' panicked at src/lib.rs:55:21:\n",
      "Variable 'i' has gone missing\n",
      "stack backtrace:\n",
      "   0: _rust_begin_unwind\n",
      "   1: core::panicking::panic_fmt\n",
      "   2: <unknown>\n",
      "   3: <unknown>\n",
      "   4: evcxr::runtime::Runtime::run_loop\n",
      "   5: evcxr::runtime::runtime_hook\n",
      "   6: evcxr_jupyter::main\n",
      "note: Some details are omitted, run with `RUST_BACKTRACE=full` for a verbose backtrace.\n",
      "thread '<unnamed>' panicked at core/src/panicking.rs:221:5:\n",
      "panic in a function that cannot unwind\n",
      "stack backtrace:\n",
      "   0:        0x10452d2e4 - <std::sys::backtrace::BacktraceLock::print::DisplayBacktrace as core::fmt::Display>::fmt::h7adefaad4a31afc0\n",
      "   1:        0x1045712a4 - core::fmt::write::h381c0b0ce6ab972a\n",
      "   2:        0x104522610 - std::io::Write::write_fmt::h75af97148630d8d3\n",
      "   3:        0x10452d198 - std::sys::backtrace::BacktraceLock::print::h8baf33e22611de71\n",
      "   4:        0x10452f504 - std::panicking::default_hook::{{closure}}::h369c7295ef58c5b1\n",
      "   5:        0x10452f348 - std::panicking::default_hook::h50746358288a9d6a\n",
      "   6:        0x10452fd50 - std::panicking::rust_panic_with_hook::h7d795911432661cb\n",
      "   7:        0x10452f9dc - std::panicking::begin_panic_handler::{{closure}}::h36f15310ecbde379\n",
      "   8:        0x10452d7a8 - std::sys::backtrace::__rust_end_short_backtrace::heed121414170e0c7\n",
      "   9:        0x10452f6bc - _rust_begin_unwind\n",
      "  10:        0x10458f68c - core::panicking::panic_nounwind_fmt::h5d86a478a9d7437c\n",
      "  11:        0x10458f704 - core::panicking::panic_nounwind::he171ad52d328e60b\n",
      "  12:        0x10458f87c - core::panicking::panic_cannot_unwind::h2dd8cd735765e065\n",
      "  13:        0x103b59010 - <unknown>\n",
      "  14:        0x10232b12c - evcxr::runtime::Runtime::run_loop::h7aedcbebd5ad8372\n",
      "  15:        0x10232aecc - evcxr::runtime::runtime_hook::h731a6ad645c8ce11\n",
      "  16:        0x102253d30 - evcxr_jupyter::main::h69304af9644e6cf5\n",
      "  17:        0x102254240 - std::sys_common::backtrace::__rust_begin_short_backtrace::h4afbda55eef98b5f\n",
      "  18:        0x10228f4f0 - std::rt::lang_start::{{closure}}::hb4389bcb3ff80fd9\n",
      "  19:        0x102d88c90 - std::rt::lang_start_internal::h7f00bef3cf1b3caa\n",
      "  20:        0x10225421c - _main\n",
      "thread caused non-unwinding panic. aborting.\n"
     ]
    },
    {
     "ename": "Error",
     "evalue": "Subprocess terminated with status: signal: 6 (SIGABRT)",
     "output_type": "error",
     "traceback": [
      "Subprocess terminated with status: signal: 6 (SIGABRT)"
     ]
    }
   ],
   "source": [
    "let zero: u16 = 0b0000_0000_0000_0000;\n",
    "let one: u16 = 0b0000_0000_0000_0001;\n",
    "let two: u16 = 0b0000_0000_0000_0010;\n",
    "println!(\"{} {} {}\", zero, one, two);\n",
    "let a1: u16 = 0b1111_1111_1111_1101;\n",
    "let a2: u16 = 0b1111_1111_1111_1110;\n",
    "let a3: u16 = 0b1111_1111_1111_1111;\n",
    "println!(\"{} {} {}\", a1, a2, a3);\n"
   ]
  },
  {
   "cell_type": "code",
   "execution_count": null,
   "id": "5afc76ac",
   "metadata": {},
   "outputs": [
    {
     "name": "stderr",
     "output_type": "stream",
     "text": [
      "thread '<unnamed>' panicked at src/lib.rs:172:12:\n",
      "attempt to add with overflow\n",
      "stack backtrace:\n",
      "   0: _rust_begin_unwind\n",
      "   1: core::panicking::panic_fmt\n",
      "   2: core::panicking::panic_const::panic_const_add_overflow\n",
      "   3: <unknown>\n",
      "   4: evcxr::runtime::Runtime::run_loop\n",
      "   5: evcxr::runtime::runtime_hook\n",
      "   6: evcxr_jupyter::main\n",
      "note: Some details are omitted, run with `RUST_BACKTRACE=full` for a verbose backtrace.\n"
     ]
    }
   ],
   "source": [
    "#[allow(arithmetic_overflow)]\n",
    "let (a, b) = (200, 200);\n",
    "let c: u8 = a + b;\n",
    "println!(\"{} + {} = {}\", a, b, c);\n"
   ]
  },
  {
   "cell_type": "code",
   "execution_count": null,
   "id": "6ca5c170",
   "metadata": {},
   "outputs": [
    {
     "name": "stdout",
     "output_type": "stream",
     "text": [
      "a -573785174 vs b -1430532899\n"
     ]
    }
   ],
   "source": [
    "use std::mem::transmute;\n",
    "\n",
    "let big_endian: [u8; 4] = [0xaa, 0xbb, 0xcc, 0xdd];\n",
    "let little_endian: [u8; 4] = [0xdd, 0xcc, 0xbb, 0xaa];\n",
    "let a: i32 = unsafe { transmute(big_endian) };\n",
    "let b: i32 = unsafe { transmute(little_endian) };\n",
    "\n",
    "println!(\"a {} vs b {}\", a, b);\n"
   ]
  },
  {
   "cell_type": "markdown",
   "id": "5e415411",
   "metadata": {},
   "source": [
    "比较运算由trait提供支持，不同类型的数据不能进行比较运算。"
   ]
  },
  {
   "cell_type": "code",
   "execution_count": null,
   "id": "2c638b7f",
   "metadata": {},
   "outputs": [
    {
     "name": "stdout",
     "output_type": "stream",
     "text": [
      "litter\n"
     ]
    },
    {
     "data": {
      "text/plain": [
       "()"
      ]
     },
     "execution_count": 19,
     "metadata": {},
     "output_type": "execute_result"
    }
   ],
   "source": [
    "let a: i32 = 10;\n",
    "let b: i16 = 12;\n",
    "if (a as i16) < b {\n",
    "    println!(\"litter\");\n",
    "}\n"
   ]
  },
  {
   "cell_type": "code",
   "execution_count": null,
   "id": "aafd3e02",
   "metadata": {},
   "outputs": [
    {
     "name": "stdout",
     "output_type": "stream",
     "text": [
      "litter\n"
     ]
    },
    {
     "data": {
      "text/plain": [
       "()"
      ]
     },
     "execution_count": 20,
     "metadata": {},
     "output_type": "execute_result"
    }
   ],
   "source": [
    "let a: i32 = 10;\n",
    "let b: i16 = 12;\n",
    "if a < b.into() {\n",
    "    println!(\"litter\");\n",
    "}\n"
   ]
  },
  {
   "cell_type": "markdown",
   "id": "ed162439",
   "metadata": {},
   "source": [
    "类型提升 从小类型转换成大类型，类型安全\n",
    "仅当某个trait在当前局部作用域中时，才允许在特定类型上调用此trait上的方法。隐式地预包含让加法和赋值等常用操作无需显示导入即可使用。"
   ]
  },
  {
   "cell_type": "code",
   "execution_count": null,
   "id": "9241eaab",
   "metadata": {},
   "outputs": [
    {
     "name": "stdout",
     "output_type": "stream",
     "text": [
      "litter\n"
     ]
    },
    {
     "data": {
      "text/plain": [
       "()"
      ]
     },
     "execution_count": 22,
     "metadata": {},
     "output_type": "execute_result"
    }
   ],
   "source": [
    "let a: i32 = 10;\n",
    "let b: i16 = 12;\n",
    "let c = b.try_into().unwrap();\n",
    "if a < c {\n",
    "    println!(\"litter\");\n",
    "}\n"
   ]
  },
  {
   "cell_type": "code",
   "execution_count": null,
   "id": "935618b2",
   "metadata": {},
   "outputs": [
    {
     "name": "stderr",
     "output_type": "stream",
     "text": [
      "thread '<unnamed>' panicked at src/lib.rs:129:1:\n",
      "assertion failed: 0.1 + 0.2 == 0.3\n",
      "stack backtrace:\n",
      "   0: _rust_begin_unwind\n",
      "   1: core::panicking::panic_fmt\n",
      "   2: core::panicking::panic\n",
      "   3: _run_user_code_15\n",
      "   4: evcxr::runtime::Runtime::run_loop\n",
      "   5: evcxr::runtime::runtime_hook\n",
      "   6: evcxr_jupyter::main\n",
      "note: Some details are omitted, run with `RUST_BACKTRACE=full` for a verbose backtrace.\n"
     ]
    }
   ],
   "source": [
    "assert!(0.1 + 0.2 == 0.3);\n"
   ]
  },
  {
   "cell_type": "code",
   "execution_count": null,
   "id": "9beff3ad",
   "metadata": {},
   "outputs": [
    {
     "name": "stdout",
     "output_type": "stream",
     "text": [
      "3e99999a\n",
      "3e99999a\n",
      "3fd3333333333334\n",
      "3fd3333333333333\n"
     ]
    }
   ],
   "source": [
    "let abc: (f32, f32, f32) = (0.1, 0.2, 0.3);\n",
    "let xyz: (f64, f64, f64) = (0.1, 0.2, 0.3);\n",
    "\n",
    "println!(\"{:x}\", (abc.0 + abc.1).to_bits());\n",
    "println!(\"{:x}\", abc.2.to_bits());\n",
    "\n",
    "println!(\"{:x}\", (xyz.0 + xyz.1).to_bits());\n",
    "println!(\"{:x}\", xyz.2.to_bits());\n",
    "assert!(abc.0 + abc.1 == abc.2);\n",
    "let desired = xyz.0 + xyz.1;\n",
    "let diff = (xyz.2 - desired).abs();\n",
    "assert!(diff < f64::EPSILON);\n",
    "// assert!(xyz.0 + xyz.1 == xyz.2);\n"
   ]
  },
  {
   "cell_type": "markdown",
   "id": "e609783c",
   "metadata": {},
   "source": [
    "NAN不等于NAN,NAN参与的大部分运算都返回NAN。"
   ]
  },
  {
   "cell_type": "code",
   "execution_count": null,
   "id": "5c30b402",
   "metadata": {},
   "outputs": [
    {
     "name": "stderr",
     "output_type": "stream",
     "text": [
      "thread '<unnamed>' panicked at src/lib.rs:137:1:\n",
      "assertion failed: x.is_finite()\n",
      "stack backtrace:\n",
      "   0: _rust_begin_unwind\n",
      "   1: core::panicking::panic_fmt\n",
      "   2: core::panicking::panic\n",
      "   3: <unknown>\n",
      "   4: evcxr::runtime::Runtime::run_loop\n",
      "   5: evcxr::runtime::runtime_hook\n",
      "   6: evcxr_jupyter::main\n",
      "note: Some details are omitted, run with `RUST_BACKTRACE=full` for a verbose backtrace.\n"
     ]
    }
   ],
   "source": [
    "let x: f32 = 1.0 / 0.0;\n",
    "// assert!(x.is_nan());\n",
    "assert!(x.is_finite());\n"
   ]
  },
  {
   "cell_type": "markdown",
   "id": "3df2a313",
   "metadata": {},
   "source": [
    "## 循环\n",
    "排出范围语法 m..n\n",
    "包含范围语法 m..=n"
   ]
  },
  {
   "cell_type": "code",
   "execution_count": null,
   "id": "d4963461",
   "metadata": {},
   "outputs": [
    {
     "name": "stdout",
     "output_type": "stream",
     "text": [
      "0\n",
      "1\n",
      "2\n",
      "3\n",
      "4\n",
      "5\n",
      "6\n",
      "7\n",
      "8\n",
      "9\n",
      "10\n"
     ]
    },
    {
     "data": {
      "text/plain": [
       "()"
      ]
     },
     "execution_count": 6,
     "metadata": {},
     "output_type": "execute_result"
    }
   ],
   "source": [
    "for i in 0..=10 {\n",
    "    println!(\"{}\", i);\n",
    "}\n"
   ]
  },
  {
   "cell_type": "code",
   "execution_count": null,
   "id": "5715d8ab",
   "metadata": {},
   "outputs": [
    {
     "name": "stdout",
     "output_type": "stream",
     "text": [
      "1\n",
      "2\n",
      "3\n",
      "4\n",
      "5\n",
      "1\n",
      "2\n",
      "3\n",
      "4\n",
      "5\n",
      "1\n",
      "2\n",
      "3\n",
      "4\n",
      "5\n"
     ]
    },
    {
     "data": {
      "text/plain": [
       "()"
      ]
     },
     "execution_count": 10,
     "metadata": {},
     "output_type": "execute_result"
    }
   ],
   "source": [
    "let collection = [1, 2, 3, 4, 5];\n",
    "for item in collection {\n",
    "    println!(\"{}\", item);\n",
    "}\n",
    "\n",
    "for item in IntoIterator::into_iter(collection) {\n",
    "    println!(\"{}\", item);\n",
    "}\n",
    "\n",
    "for item in collection.iter() {\n",
    "    println!(\"{}\", item);\n",
    "}\n"
   ]
  },
  {
   "cell_type": "code",
   "execution_count": null,
   "id": "e1e6c3dd",
   "metadata": {},
   "outputs": [
    {
     "name": "stdout",
     "output_type": "stream",
     "text": [
      "45706011\n"
     ]
    }
   ],
   "source": [
    "use std::time::{ Duration, Instant };\n",
    "\n",
    "let mut count = 0;\n",
    "let time_limit = Duration::new(1, 0);\n",
    "let start = Instant::now();\n",
    "while Instant::now() - start < time_limit {\n",
    "    count += 1;\n",
    "}\n",
    "\n",
    "println!(\"{}\", count);\n"
   ]
  },
  {
   "cell_type": "code",
   "execution_count": null,
   "id": "c0a2bd24",
   "metadata": {},
   "outputs": [
    {
     "name": "stdout",
     "output_type": "stream",
     "text": [
      "0 + 0\n",
      "1 + 1\n",
      "2 + 2\n",
      "3 + 3\n",
      "4 + 4\n",
      "5 + 5\n",
      "6 + 6\n",
      "7 + 7\n",
      "8 + 8\n",
      "9 + 9\n",
      "10 + 10\n",
      "11 + 11\n",
      "12 + 12\n",
      "13 + 13\n",
      "14 + 14\n",
      "15 + 15\n",
      "16 + 16\n",
      "17 + 17\n",
      "18 + 18\n",
      "19 + 19\n",
      "20 + 20\n",
      "21 + 21\n",
      "22 + 22\n",
      "23 + 23\n",
      "24 + 24\n",
      "25 + 25\n",
      "26 + 26\n",
      "27 + 27\n",
      "28 + 28\n",
      "29 + 29\n",
      "30 + 30\n",
      "31 + 31\n",
      "32 + 32\n",
      "33 + 33\n",
      "34 + 34\n",
      "35 + 35\n",
      "36 + 36\n",
      "37 + 37\n",
      "38 + 38\n",
      "39 + 39\n",
      "40 + 40\n",
      "41 + 41\n",
      "42 + 42\n",
      "43 + 43\n",
      "44 + 44\n",
      "45 + 45\n",
      "46 + 46\n",
      "47 + 47\n",
      "48 + 48\n",
      "49 + 49\n",
      "50 + 50\n"
     ]
    },
    {
     "data": {
      "text/plain": [
       "()"
      ]
     },
     "execution_count": 13,
     "metadata": {},
     "output_type": "execute_result"
    }
   ],
   "source": [
    "for (x, y) in (0..).zip(0..) {\n",
    "    if x + y > 100 {\n",
    "        break;\n",
    "    }\n",
    "    println!(\"{} + {}\", x, y);\n",
    "}\n"
   ]
  },
  {
   "cell_type": "code",
   "execution_count": null,
   "id": "3d805698",
   "metadata": {},
   "outputs": [],
   "source": []
  },
  {
   "cell_type": "code",
   "execution_count": null,
   "id": "923cb359",
   "metadata": {},
   "outputs": [
    {
     "name": "stdout",
     "output_type": "stream",
     "text": [
      "0 0 0\n",
      "0 0 1\n",
      "0 0 2\n",
      "0 0 3\n",
      "0 0 4\n",
      "0 0 5\n",
      "0 0 6\n",
      "0 0 7\n",
      "0 0 8\n",
      "0 0 9\n",
      "0 0 10\n",
      "0 0 11\n",
      "0 0 12\n",
      "0 0 13\n",
      "0 0 14\n",
      "0 0 15\n",
      "0 0 16\n",
      "0 0 17\n",
      "0 0 18\n",
      "0 0 19\n",
      "0 0 20\n",
      "0 0 21\n",
      "0 0 22\n",
      "0 0 23\n",
      "0 0 24\n",
      "0 0 25\n",
      "0 0 26\n",
      "0 0 27\n",
      "0 0 28\n",
      "0 0 29\n",
      "0 0 30\n",
      "0 0 31\n",
      "0 0 32\n",
      "0 0 33\n",
      "0 0 34\n",
      "0 0 35\n",
      "0 0 36\n",
      "0 0 37\n",
      "0 0 38\n",
      "0 0 39\n",
      "0 0 40\n",
      "0 0 41\n",
      "0 0 42\n",
      "0 0 43\n",
      "0 0 44\n",
      "0 0 45\n",
      "0 0 46\n",
      "0 0 47\n",
      "0 0 48\n",
      "0 0 49\n",
      "0 0 50\n",
      "0 0 51\n",
      "0 0 52\n",
      "0 0 53\n",
      "0 0 54\n",
      "0 0 55\n",
      "0 0 56\n",
      "0 0 57\n",
      "0 0 58\n",
      "0 0 59\n",
      "0 0 60\n",
      "0 0 61\n",
      "0 0 62\n",
      "0 0 63\n",
      "0 0 64\n",
      "0 0 65\n",
      "0 0 66\n",
      "0 0 67\n",
      "0 0 68\n",
      "0 0 69\n",
      "0 0 70\n",
      "0 0 71\n",
      "0 0 72\n",
      "0 0 73\n",
      "0 0 74\n",
      "0 0 75\n",
      "0 0 76\n",
      "0 0 77\n",
      "0 0 78\n",
      "0 0 79\n",
      "0 0 80\n",
      "0 0 81\n",
      "0 0 82\n",
      "0 0 83\n",
      "0 0 84\n",
      "0 0 85\n",
      "0 0 86\n",
      "0 0 87\n",
      "0 0 88\n",
      "0 0 89\n",
      "0 0 90\n",
      "0 0 91\n",
      "0 0 92\n",
      "0 0 93\n",
      "0 0 94\n",
      "0 0 95\n",
      "0 0 96\n",
      "0 0 97\n",
      "0 0 98\n",
      "0 0 99\n",
      "0 0 100\n"
     ]
    },
    {
     "data": {
      "text/plain": [
       "()"
      ]
     },
     "execution_count": 16,
     "metadata": {},
     "output_type": "execute_result"
    }
   ],
   "source": [
    "'outer: for x in 0.. {\n",
    "    for y in 0.. {\n",
    "        for z in 0.. {\n",
    "            if x + y + z > 100 {\n",
    "                break 'outer;\n",
    "            }\n",
    "            println!(\"{} {} {}\", x, y, z);\n",
    "        }\n",
    "    }\n",
    "}\n"
   ]
  },
  {
   "cell_type": "code",
   "execution_count": null,
   "id": "6f16deb2",
   "metadata": {},
   "outputs": [
    {
     "name": "stdout",
     "output_type": "stream",
     "text": [
      "123\n"
     ]
    }
   ],
   "source": [
    "let n = loop {\n",
    "    break 123;\n",
    "};\n",
    "println!(\"{}\", n);\n"
   ]
  },
  {
   "cell_type": "markdown",
   "id": "557b7a70",
   "metadata": {},
   "source": [
    "## match\n",
    "覆盖所有情况；\n",
    "不会贯穿，匹配上就返回。"
   ]
  },
  {
   "cell_type": "code",
   "execution_count": null,
   "id": "55c64cdf",
   "metadata": {},
   "outputs": [
    {
     "name": "stdout",
     "output_type": "stream",
     "text": [
      "42: hit\n"
     ]
    },
    {
     "data": {
      "text/plain": [
       "()"
      ]
     },
     "execution_count": 21,
     "metadata": {},
     "output_type": "execute_result"
    }
   ],
   "source": [
    "let needle = 42;\n",
    "let haystack = [1, 1, 2, 5, 14, 42, 132, 429, 1430, 4862];\n",
    "\n",
    "for item in &haystack {\n",
    "    let result = match item {\n",
    "        42 | 43 => \"hit\",\n",
    "        _ => \"miss\",\n",
    "    };\n",
    "    if result == \"hit\" {\n",
    "        println!(\"{}: {}\", item, result);\n",
    "    }\n",
    "}\n"
   ]
  },
  {
   "cell_type": "markdown",
   "id": "16daec78",
   "metadata": {},
   "source": [
    "## 引用\n",
    "一个指代另一值的值。"
   ]
  },
  {
   "cell_type": "code",
   "execution_count": null,
   "id": "d56316fb",
   "metadata": {},
   "outputs": [
    {
     "name": "stdout",
     "output_type": "stream",
     "text": [
      "84\n"
     ]
    },
    {
     "data": {
      "text/plain": [
       "()"
      ]
     },
     "execution_count": 2,
     "metadata": {},
     "output_type": "execute_result"
    }
   ],
   "source": [
    "{\n",
    "    let a = 42;\n",
    "    let r = &a;\n",
    "    let b = a + *r;\n",
    "    println!(\"{}\", b);\n",
    "}\n"
   ]
  },
  {
   "cell_type": "code",
   "execution_count": null,
   "id": "b2853790",
   "metadata": {},
   "outputs": [
    {
     "ename": "Error",
     "evalue": "mismatched types",
     "output_type": "error",
     "traceback": [
      "\u001b[31m[E0308] Error:\u001b[0m mismatched types",
      "   \u001b[38;5;246m╭\u001b[0m\u001b[38;5;246m─\u001b[0m\u001b[38;5;246m[\u001b[0mcommand_5:1:1\u001b[38;5;246m]\u001b[0m",
      "   \u001b[38;5;246m│\u001b[0m",
      " \u001b[38;5;246m3 │\u001b[0m \u001b[38;5;249m \u001b[0m\u001b[38;5;249m \u001b[0m\u001b[38;5;249ml\u001b[0m\u001b[38;5;249me\u001b[0m\u001b[38;5;249mt\u001b[0m\u001b[38;5;249m \u001b[0m\u001b[38;5;249mm\u001b[0m\u001b[38;5;249mu\u001b[0m\u001b[38;5;249mt\u001b[0m\u001b[38;5;249m \u001b[0m\u001b[38;5;249mr\u001b[0m\u001b[38;5;249m \u001b[0m\u001b[38;5;249m=\u001b[0m\u001b[38;5;249m \u001b[0m\u001b[38;5;100m&\u001b[0m\u001b[38;5;100ma\u001b[0m\u001b[38;5;249m;\u001b[0m",
      " \u001b[38;5;240m  │\u001b[0m               \u001b[38;5;100m─\u001b[0m\u001b[38;5;100m┬\u001b[0m  ",
      " \u001b[38;5;240m  │\u001b[0m                \u001b[38;5;100m╰\u001b[0m\u001b[38;5;100m─\u001b[0m\u001b[38;5;100m─\u001b[0m expected due to this value",
      " \u001b[38;5;246m4 │\u001b[0m \u001b[38;5;249m \u001b[0m\u001b[38;5;249m \u001b[0m\u001b[38;5;249mr\u001b[0m\u001b[38;5;249m \u001b[0m\u001b[38;5;249m=\u001b[0m\u001b[38;5;249m \u001b[0m\u001b[38;5;54m2\u001b[0m\u001b[38;5;54m3\u001b[0m\u001b[38;5;249m;\u001b[0m",
      " \u001b[38;5;240m  │\u001b[0m       \u001b[38;5;68m┬\u001b[0m\u001b[38;5;54m┬\u001b[0m  ",
      " \u001b[38;5;240m  │\u001b[0m       \u001b[38;5;68m╰\u001b[0m\u001b[38;5;68m─\u001b[0m\u001b[38;5;68m─\u001b[0m\u001b[38;5;68m─\u001b[0m help: consider borrowing here: `&`",
      " \u001b[38;5;240m  │\u001b[0m        \u001b[38;5;54m│\u001b[0m  ",
      " \u001b[38;5;240m  │\u001b[0m        \u001b[38;5;54m╰\u001b[0m\u001b[38;5;54m─\u001b[0m\u001b[38;5;54m─\u001b[0m expected `&{integer}`, found integer",
      "\u001b[38;5;246m───╯\u001b[0m"
     ]
    }
   ],
   "source": [
    "{\n",
    "    let mut a = 42;\n",
    "    let r = &a;\n",
    "    r = 23;\n",
    "    let b = a + *r;\n",
    "    println!(\"{}\", b);\n",
    "}\n"
   ]
  },
  {
   "cell_type": "code",
   "execution_count": null,
   "id": "26c503b6",
   "metadata": {},
   "outputs": [],
   "source": []
  },
  {
   "cell_type": "markdown",
   "id": "71f8e881",
   "metadata": {},
   "source": [
    "## 定点数格式\n",
    "Q7"
   ]
  },
  {
   "cell_type": "code",
   "execution_count": null,
   "id": "da83bde1",
   "metadata": {},
   "outputs": [],
   "source": [
    "#[derive(Debug, Copy, Clone, PartialEq, Eq)]\n",
    "pub struct Q7(i8);\n",
    "\n",
    "impl From<f64> for Q7 {\n",
    "    fn from(n: f64) -> Self {\n",
    "        assert!(n >= -1.0);\n",
    "        assert!(n <= 1.0);\n",
    "        if n >= 1.0 {\n",
    "            Q7(127)\n",
    "        } else if n <= -1.0 {\n",
    "            Q7(128)\n",
    "        } else {\n",
    "            Q7((n * 128.0) as i8)\n",
    "        }\n",
    "    }\n",
    "}\n",
    "\n",
    "impl From<Q7> for f64 {\n",
    "    fn from(n: Q7) -> f64 {\n",
    "        (n.0 as f64) * (2_f64).powf(-7.0)\n",
    "    }\n",
    "}\n",
    "\n",
    "impl From<f32> for Q7 {\n",
    "    fn from(n: f32) -> Self {\n",
    "        Q7::from(n as f64)\n",
    "    }\n",
    "}\n",
    "\n",
    "impl From<Q7> for f32 {\n",
    "    fn from(n: Q7) -> f32 {\n",
    "        f64::from(n) as f32\n",
    "    }\n",
    "}\n"
   ]
  },
  {
   "cell_type": "code",
   "execution_count": null,
   "id": "4770275d",
   "metadata": {},
   "outputs": [
    {
     "name": "stdout",
     "output_type": "stream",
     "text": [
      "max of input range: 11111111 -> 0.99609375\n",
      "mid of input range: 01111111 -> 0.49609375\n",
      "min of input range: 00000000 -> 0.0\n"
     ]
    }
   ],
   "source": [
    "fn mock_rand(n: u8) -> f32 {\n",
    "    let base: u32 = 0b0_01111110_00000000000000000000000;\n",
    "    let large_n = (n as u32) << 15;\n",
    "    let f32_bits = base | large_n;\n",
    "    let m = f32::from_bits(f32_bits);\n",
    "    2.0 * (m - 0.5)\n",
    "}\n",
    "\n",
    "println!(\"max of input range: {:08b} -> {:?}\", 0xff, mock_rand(0xff));\n",
    "println!(\"mid of input range: {:08b} -> {:?}\", 0x7f, mock_rand(0x7f));\n",
    "println!(\"min of input range: {:08b} -> {:?}\", 0x00, mock_rand(0x00));\n"
   ]
  },
  {
   "cell_type": "code",
   "execution_count": null,
   "id": "c82f6d6d",
   "metadata": {},
   "outputs": [
    {
     "name": "stdout",
     "output_type": "stream",
     "text": [
      "13.1 + 21i\n"
     ]
    }
   ],
   "source": [
    ":dep num\n",
    "extern crate num;\n",
    "use num::complex::Complex;\n",
    "\n",
    "let a = Complex { re: 2.0, im: -1.2 };\n",
    "let b = Complex::new(11.1, 22.2);\n",
    "let c = a + b;\n",
    "println!(\"{} + {}i\", c.re, c.im);"
   ]
  },
  {
   "cell_type": "markdown",
   "id": "3a01e996",
   "metadata": {},
   "source": [
    "## 复杂数据类型"
   ]
  },
  {
   "cell_type": "markdown",
   "id": "1011a4ac",
   "metadata": {},
   "source": [
    "### 元组\n",
    "长度固定,元素类型可以不同。"
   ]
  },
  {
   "cell_type": "code",
   "execution_count": null,
   "id": "6b232e0b",
   "metadata": {},
   "outputs": [
    {
     "name": "stdout",
     "output_type": "stream",
     "text": [
      "(100,) false\n",
      "x = 12, y = 23.12, z = true\n"
     ]
    }
   ],
   "source": [
    "let tup1: (i8, f32, bool) = (12, 23.12, true);\n",
    "let tup2 = (7.7, (false, 10));\n",
    "// 一元组需要有,\n",
    "let tup3 = (100,);\n",
    "let (x, y, z) = tup1;\n",
    "println!(\"{:?} {:?}\", tup3, tup2.1.0);\n",
    "println!(\"x = {x}, y = {y}, z = {z}\");\n"
   ]
  },
  {
   "cell_type": "markdown",
   "id": "bab9c44f",
   "metadata": {},
   "source": [
    "### 数组 \n",
    "类型相同，长度固定。"
   ]
  },
  {
   "cell_type": "code",
   "execution_count": null,
   "id": "6c109879",
   "metadata": {},
   "outputs": [
    {
     "name": "stdout",
     "output_type": "stream",
     "text": [
      "[6, 7, 8, 9]\n",
      "[2, 2, 2]\n"
     ]
    },
    {
     "name": "stdout",
     "output_type": "stream",
     "text": [
      "[1, 2, 3, 4, 5]\n",
      "5\n"
     ]
    }
   ],
   "source": [
    "let arr1: [i32; 5] = [1, 2, 3, 4, 5];\n",
    "let arr2 = [6, 7, 8, 9];\n",
    "let arr3 = [2; 3];\n",
    "println!(\"{:?}\", arr2);\n",
    "println!(\"{:?}\", arr3);\n",
    "println!(\"{arr1:?}\");\n",
    "println!(\"{}\", arr1[4]);\n"
   ]
  },
  {
   "cell_type": "markdown",
   "id": "1083c04e",
   "metadata": {},
   "source": [
    "## 结构体\n",
    "字段类型确定\n",
    "不能类型推导  \n",
    "实例默认不可变，不允许只将部分字段标记为可变。\n"
   ]
  },
  {
   "cell_type": "code",
   "execution_count": null,
   "id": "b645b852",
   "metadata": {},
   "outputs": [
    {
     "name": "stdout",
     "output_type": "stream",
     "text": [
      "student Student { name: \"King\", score: 90 }\n",
      "student name: Dreamer, score: 90\n"
     ]
    },
    {
     "name": "stdout",
     "output_type": "stream",
     "text": [
      "Color(0, 0, 0)\n"
     ]
    }
   ],
   "source": [
    "struct ListNode {\n",
    "    val: i32,\n",
    "    next: Option<Box<ListNode>>,\n",
    "}\n",
    "\n",
    "#[derive(Debug)]\n",
    "struct Student {\n",
    "    name: &'static str,\n",
    "    score: i32,\n",
    "}\n",
    "\n",
    "let score = 89;\n",
    "let userName = \"King\";\n",
    "let mut student = Student {\n",
    "    score,\n",
    "    name: userName,\n",
    "};\n",
    "\n",
    "student.score = 90;\n",
    "println!(\"student {:?}\", student);\n",
    "\n",
    "let student2 = Student {\n",
    "    name: \"Dreamer\",\n",
    "    ..student\n",
    "};\n",
    "println!(\"student name: {}, score: {}\", student2.name, student2.score);\n",
    "\n",
    "#[derive(Debug)]\n",
    "struct Color(i32, i32, i32);\n",
    "let black = Color(0, 0, 0);\n",
    "println!(\"{:?}\", black);\n"
   ]
  },
  {
   "cell_type": "markdown",
   "id": "7405485a",
   "metadata": {},
   "source": [
    "## 枚举类型 \n",
    "无参枚举类型/有参枚举类型"
   ]
  },
  {
   "cell_type": "code",
   "execution_count": null,
   "id": "3b9b1e67",
   "metadata": {},
   "outputs": [
    {
     "name": "stdout",
     "output_type": "stream",
     "text": [
      "Green\n",
      "Blue(\"0x0000ff\")\n"
     ]
    },
    {
     "name": "stdout",
     "output_type": "stream",
     "text": [
      "Red(\"0xff0000\")\n"
     ]
    }
   ],
   "source": [
    "#[derive(Debug)]\n",
    "enum Color {\n",
    "    Red,\n",
    "    Green,\n",
    "    Blue,\n",
    "}\n",
    "\n",
    "let c1 = Color::Green;\n",
    "\n",
    "println!(\"{:?}\", c1);\n",
    "\n",
    "#[derive(Debug)]\n",
    "enum ColorType {\n",
    "    Red(String),\n",
    "    Green(String),\n",
    "    Blue(String),\n",
    "}\n",
    "\n",
    "let c2 = ColorType::Blue(String::from(\"0x0000ff\"));\n",
    "let c3 = ColorType::Red(String::from(\"0xff0000\"));\n",
    "\n",
    "println!(\"{:?}\", c2);\n",
    "println!(\"{:?}\", c3);\n"
   ]
  },
  {
   "cell_type": "markdown",
   "id": "16580ec5",
   "metadata": {},
   "source": [
    "## 容器类型  \n",
    "- Vec<T> 连续存储的可变长数组\n",
    "- VecDeque<T> 连续存储的可变长双端队列\n",
    "- LinkedList<T> 非连续存储的双向链表\n",
    "- HashMap<K, V> 无序键值对\n",
    "- BTreeMap<K, V> 有序键值对\n",
    "- HashSet<T> 基于哈希表的无序集合\n",
    "- BTreeSet<T> 基于B树的有序集合\n",
    "- BinaryHeap<T> 基于二叉堆的优先队列"
   ]
  },
  {
   "cell_type": "markdown",
   "id": "cae67b78",
   "metadata": {},
   "source": [
    "### 动态数组\n",
    "长度可以增长或缩小,元素类型相同。"
   ]
  },
  {
   "cell_type": "code",
   "execution_count": null,
   "id": "727170fb",
   "metadata": {},
   "outputs": [
    {
     "name": "stdout",
     "output_type": "stream",
     "text": [
      "v1 = []\n",
      "v2 = []\n"
     ]
    },
    {
     "name": "stdout",
     "output_type": "stream",
     "text": [
      "v3 = []\n",
      "v5 = [3, 3, 3, 3, 3]\n",
      "v5[2] = 3, v5.get(3) = None,  v5.get(6) = Some(3)\n",
      "v5: 3  3  3  3  3 \n",
      "v3 = [2, 3]\n",
      "v5 = [3, 3, 6, 3, 3]\n",
      "v5.pop() = Some(3)\n",
      "v5 = [3, 3, 6, 3]\n",
      "v5.remove(2) = 6\n",
      "v5 = [3, 3, 3]\n",
      "v5: 6  6  6 \n"
     ]
    }
   ],
   "source": [
    "let mut v1: Vec<i32> = Vec::new();\n",
    "let mut v2: Vec<f32> = Vec::with_capacity(10);\n",
    "let mut v3: Vec<i8> = vec![];\n",
    "let mut v4 = vec![1, 2, 3];\n",
    "let mut v5 = vec![3; 5];\n",
    "println!(\"v1 = {v1:?}\");\n",
    "println!(\"v2 = {v2:?}\");\n",
    "println!(\"v3 = {v3:?}\");\n",
    "println!(\"v5 = {v5:?}\");\n",
    "println!(\"v5[2] = {}, v5.get(3) = {:?},  v5.get(6) = {:?}\", v5[2], v5.get(6), v5.get(3));\n",
    "print!(\"v5:\");\n",
    "for i in &v5 {\n",
    "    print!(\" {} \", i);\n",
    "}\n",
    "println!();\n",
    "v3.push(2);\n",
    "v3.push(3);\n",
    "println!(\"v3 = {v3:?}\");\n",
    "v5[2] = 6;\n",
    "println!(\"v5 = {v5:?}\");\n",
    "println!(\"v5.pop() = {:?}\", v5.pop());\n",
    "println!(\"v5 = {v5:?}\");\n",
    "println!(\"v5.remove(2) = {}\", v5.remove(2));\n",
    "println!(\"v5 = {v5:?}\");\n",
    "\n",
    "for i in &mut v5 {\n",
    "    *i *= 2;\n",
    "}\n",
    "\n",
    "print!(\"v5:\");\n",
    "for i in &v5 {\n",
    "    print!(\" {} \", i);\n",
    "}\n",
    "println!();\n"
   ]
  },
  {
   "cell_type": "markdown",
   "id": "b2de278c",
   "metadata": {},
   "source": [
    "## 双端队列\n"
   ]
  },
  {
   "cell_type": "code",
   "execution_count": null,
   "id": "c8696d5b",
   "metadata": {},
   "outputs": [
    {
     "name": "stdout",
     "output_type": "stream",
     "text": [
      "[5, 4, 1, 2, 3]\n",
      "1\n",
      "Some(5)\n"
     ]
    },
    {
     "name": "stdout",
     "output_type": "stream",
     "text": [
      "None\n",
      "Some(1) > [5, 4, 2, 3]\n",
      "Some(4) > [5, 2, 3]\n",
      "None > [5, 2, 3]\n",
      "[1, 23, 3]\n",
      "Some(3)\n",
      "[1]\n"
     ]
    }
   ],
   "source": [
    "use std::collections::VecDeque;\n",
    "\n",
    "let mut v: VecDeque<u32> = VecDeque::new();\n",
    "v.push_back(1);\n",
    "v.push_back(2);\n",
    "v.push_back(3);\n",
    "v.push_front(4);\n",
    "v.push_front(5);\n",
    "println!(\"{:?}\", v);\n",
    "println!(\"{:?}\", v[2]);\n",
    "println!(\"{:?}\", v.get(0));\n",
    "println!(\"{:?}\", v.get(5));\n",
    "println!(\"{:?} > {:?}\", v.remove(2), v);\n",
    "println!(\"{:?} > {:?}\", v.remove(1), v);\n",
    "println!(\"{:?} > {:?}\", v.remove(3), v);\n",
    "\n",
    "let mut v2: VecDeque<i32> = VecDeque::with_capacity(10);\n",
    "v2.push_back(1);\n",
    "v2.push_back(2);\n",
    "v2.push_back(3);\n",
    "\n",
    "v2[1] = 23;\n",
    "println!(\"{:?}\", v2);\n",
    "let p1 = v2.pop_back();\n",
    "v2.pop_back();\n",
    "println!(\"{:?}\", p1);\n",
    "println!(\"{:?}\", v2);\n"
   ]
  },
  {
   "cell_type": "code",
   "execution_count": null,
   "id": "a1a07731",
   "metadata": {},
   "outputs": [
    {
     "name": "stdout",
     "output_type": "stream",
     "text": [
      "23\n",
      "None\n"
     ]
    },
    {
     "name": "stdout",
     "output_type": "stream",
     "text": [
      "{\"Dreamer\": 32, \"King12\": 33, \"King\": 23}\n",
      "{\"Dreamer\": 34, \"King12\": 35, \"King\": 25}\n",
      "{\"Dreamer\": 34, \"King\": 25}\n",
      "Some(35)\n"
     ]
    }
   ],
   "source": [
    "use std::collections::HashMap;\n",
    "let mut m1: HashMap<&str, i32> = HashMap::new();\n",
    "let mut m2: HashMap<&str, f32> = HashMap::with_capacity(5);\n",
    "m1.insert(\"King\", 23);\n",
    "m1.insert(\"Dreamer\", 32);\n",
    "m1.entry(\"King\").or_insert(33);\n",
    "m1.entry(\"King12\").or_insert(33);\n",
    "println!(\"{:?}\", m1[\"King\"]);\n",
    "// println!(\"{:?}\", m1[\"King2\"]);\n",
    "println!(\"{:?}\", m1.get(\"King2\"));\n",
    "println!(\"{:?}\", m1);\n",
    "\n",
    "for (_, val) in m1.iter_mut() {\n",
    "    *val += 2;\n",
    "}\n",
    "\n",
    "println!(\"{:?}\", m1);\n",
    "let r = m1.remove(\"King12\");\n",
    "println!(\"{:?}\", m1);\n",
    "println!(\"{:?}\", r);\n"
   ]
  },
  {
   "cell_type": "markdown",
   "id": "879ede74",
   "metadata": {},
   "source": [
    "## 字符串\n"
   ]
  },
  {
   "cell_type": "code",
   "execution_count": null,
   "id": "44ded792",
   "metadata": {},
   "outputs": [
    {
     "name": "stdout",
     "output_type": "stream",
     "text": [
      "s1 = Hello, s2 = Hello\n",
      " : Hi! | Rust is Best!\n"
     ]
    },
    {
     "name": "stdout",
     "output_type": "stream",
     "text": [
      "s3 = I'm as god\n",
      "s3 = I'm nas god\n",
      "s3 = I'm nas best  god\n"
     ]
    }
   ],
   "source": [
    "let s1 = \"Hello\";\n",
    "let str = String::from(\"Hi, Rust!\");\n",
    "// let s2 = str.as_str();\n",
    "println!(\"s1 = {s1}, s2 = {s1}\");\n",
    "\n",
    "let mut s3 = String::new();\n",
    "let s4 = String::from(\"Hi!\");\n",
    "let str = \"Rust is Best!\";\n",
    "let s5 = str.to_string();\n",
    "\n",
    "println!(\"{s3} : {s4} | {s5}\");\n",
    "s3.push_str(\"I'm as god\");\n",
    "println!(\"s3 = {s3}\");\n",
    "s3.insert(4, 'n');\n",
    "println!(\"s3 = {s3}\");\n",
    "s3.insert_str(7, \" best \");\n",
    "println!(\"s3 = {s3}\");\n"
   ]
  },
  {
   "cell_type": "markdown",
   "id": "60869853",
   "metadata": {},
   "source": [
    "## 泛型\n",
    "具体类型或其他属性的替代。  \n",
    "`单态化` 在编译期将泛型代码转换为具有特定类型代码的过程，它会将所有使用过的具体类型填入泛型参数从而得到具体类型的代码。  \n",
    "使用泛型与不使用泛型在运行性能上没有速度差异。\n",
    "\n",
    "自定义类型、函数和方法中使用泛型。"
   ]
  },
  {
   "cell_type": "code",
   "execution_count": null,
   "id": "e26d91de",
   "metadata": {},
   "outputs": [
    {
     "name": "stdout",
     "output_type": "stream",
     "text": [
      "max is 99\n"
     ]
    }
   ],
   "source": [
    "fn largest(numbers: &[i32]) -> i32 {\n",
    "    let mut max = numbers[0];\n",
    "    for &num in numbers {\n",
    "        if num > max {\n",
    "            max = num;\n",
    "        }\n",
    "    }\n",
    "    max\n",
    "}\n",
    "\n",
    "let numbers = vec![34, 50, 32, 23, 65, 99, 88];\n",
    "let max = largest(&numbers);\n",
    "println!(\"max is {max}\");\n"
   ]
  },
  {
   "cell_type": "code",
   "execution_count": null,
   "id": "17642c32",
   "metadata": {},
   "outputs": [
    {
     "name": "stdout",
     "output_type": "stream",
     "text": [
      "max is 99\n",
      "max char is y\n"
     ]
    }
   ],
   "source": [
    "use std::cmp::PartialOrd;\n",
    "\n",
    "fn largest<T: PartialOrd + Copy>(list: &[T]) -> T {\n",
    "    let mut max = list[0];\n",
    "    for &num in list.iter() {\n",
    "        if num > max {\n",
    "            max = num;\n",
    "        }\n",
    "    }\n",
    "    max\n",
    "}\n",
    "\n",
    "let numbers = vec![34, 50, 32, 23, 65, 99, 88];\n",
    "let max = largest(&numbers);\n",
    "println!(\"max is {max}\");\n",
    "\n",
    "let chars = vec!['y', 'a', 'e', 'b'];\n",
    "let max_char = largest(&chars);\n",
    "println!(\"max char is {max_char}\");\n"
   ]
  },
  {
   "cell_type": "code",
   "execution_count": null,
   "id": "bbeb764a",
   "metadata": {},
   "outputs": [
    {
     "name": "stdout",
     "output_type": "stream",
     "text": [
      "Point { x: 5, y: 10 }\n",
      "Point { x: 2.3, y: 3.6 }\n",
      "Point { x: 3, y: 2.3 }\n",
      "5 10\n",
      "Point { x: 5, y: 3.6 }\n"
     ]
    }
   ],
   "source": [
    "#[derive(Debug)]\n",
    "struct Point<T, P> {\n",
    "    x: T,\n",
    "    y: P,\n",
    "}\n",
    "\n",
    "impl<T, P> Point<T, P> {\n",
    "    fn mixup<V, W>(self, other: Point<V, W>) -> Point<T, W> {\n",
    "        Point {\n",
    "            x: self.x,\n",
    "            y: other.y,\n",
    "        }\n",
    "    }\n",
    "}\n",
    "\n",
    "let p1 = Point { x: 5, y: 10 };\n",
    "let p2 = Point { x: 2.3, y: 3.6 };\n",
    "let p3 = Point { x: 3, y: 2.3 };\n",
    "println!(\"{:?}\", p1);\n",
    "println!(\"{:?}\", p2);\n",
    "println!(\"{:?}\", p3);\n",
    "println!(\"{} {}\", p1.x, p1.y);\n",
    "\n",
    "let px = p1.mixup(p2);\n",
    "\n",
    "println!(\"{px:?}\");\n"
   ]
  },
  {
   "cell_type": "code",
   "execution_count": null,
   "id": "2708ab83",
   "metadata": {},
   "outputs": [],
   "source": [
    "enum Option<T> {\n",
    "    Some(T),\n",
    "    None,\n",
    "}\n",
    "\n",
    "enum Result<T, E> {\n",
    "    Ok(T),\n",
    "    Err(E),\n",
    "}\n"
   ]
  },
  {
   "cell_type": "code",
   "execution_count": null,
   "id": "ccf4fabb",
   "metadata": {},
   "outputs": [
    {
     "name": "stdout",
     "output_type": "stream",
     "text": [
      "p.x = 12 and p.x() = 12\n"
     ]
    },
    {
     "name": "stdout",
     "output_type": "stream",
     "text": [
      "p.y = 21\n"
     ]
    }
   ],
   "source": [
    "struct Point<T> {\n",
    "    x: T,\n",
    "    y: T,\n",
    "}\n",
    "\n",
    "impl<T> Point<T> {\n",
    "    fn x(&self) -> &T {\n",
    "        &self.x\n",
    "    }\n",
    "}\n",
    "\n",
    "let p = Point { x: 12, y: 21 };\n",
    "println!(\"p.x = {} and p.x() = {}\", p.x, p.x());\n",
    "println!(\"p.y = {}\", p.y);\n"
   ]
  },
  {
   "cell_type": "markdown",
   "id": "af93c755",
   "metadata": {},
   "source": [
    "## trait\n",
    "定义通用行为  用来描述某些特定类型拥有的且能够被其他类型共享的功能。以一种抽象的方式来定义共享行为。\n",
    "定义泛型时使用trait可将其限制为拥有某些特定行为的类型，而不是任意类型。\n",
    "\n",
    "孤儿规则  程序一致性规则的组成部分，确保其他人编写的代码不会破坏你的代码。\n",
    "只有当trait或类型定义在当前库中才能为该类型实现对应的trait。不能为外部的类型实现外部的trait。"
   ]
  },
  {
   "cell_type": "code",
   "execution_count": null,
   "id": "47bf3ace",
   "metadata": {},
   "outputs": [
    {
     "name": "stdout",
     "output_type": "stream",
     "text": [
      "Read more from @King ...\n",
      "Penguins win the Stanley Cup Championship!, by King (梦想小镇)\n",
      "Breaking news! Penguins win the Stanley Cup Championship!, by King (梦想小镇)\n"
     ]
    }
   ],
   "source": [
    "pub trait Summary {\n",
    "    fn summarize_author(&self) -> String;\n",
    "    fn summarize(&self) -> String {\n",
    "        format!(\"Read more from {} ...\", self.summarize_author())\n",
    "    }\n",
    "}\n",
    "\n",
    "pub struct NewArticle {\n",
    "    pub headline: String,\n",
    "    pub location: String,\n",
    "    pub author: String,\n",
    "    pub content: String,\n",
    "}\n",
    "\n",
    "impl Summary for NewArticle {\n",
    "    fn summarize_author(&self) -> String {\n",
    "        format!(\"{}\", self.author)\n",
    "    }\n",
    "    fn summarize(&self) -> String {\n",
    "        format!(\"{}, by {} ({})\", self.headline, self.author, self.location)\n",
    "    }\n",
    "}\n",
    "\n",
    "pub struct Tweet {\n",
    "    pub username: String,\n",
    "    pub content: String,\n",
    "    pub reply: bool,\n",
    "    pub retweet: bool,\n",
    "}\n",
    "\n",
    "impl Summary for Tweet {\n",
    "    /* fn summarize(&self) -> String {\n",
    "    format!(\"{} : {}\", self.username, self.content)\n",
    "  } */\n",
    "\n",
    "    fn summarize_author(&self) -> String {\n",
    "        format!(\"@{}\", self.username)\n",
    "    }\n",
    "}\n",
    "\n",
    "/* pub fn notify(item: impl Summary) {\n",
    "  println!(\"Breaking news! {}\", item.summarize());\n",
    "} */\n",
    "\n",
    "pub fn notify<T: Summary>(item: T) {\n",
    "    println!(\"Breaking news! {}\", item.summarize());\n",
    "}\n",
    "/*\n",
    "pub fn summarizable() -> impl Summary {\n",
    "  NewArticle {\n",
    "    headline: String::from(\"Penguins win the Stanley Cup Championship!\"),\n",
    "    location: String::from(\"梦想小镇\"),\n",
    "    author: String::from(\"King\"),\n",
    "    content: String::from(\"Haha!\"),\n",
    "  }\n",
    "} */\n",
    "\n",
    "let tweet = Tweet {\n",
    "    username: String::from(\"King\"),\n",
    "    content: String::from(\"Learn Rust\"),\n",
    "    reply: false,\n",
    "    retweet: false,\n",
    "};\n",
    "\n",
    "println!(\"{}\", tweet.summarize());\n",
    "\n",
    "let article = NewArticle {\n",
    "    headline: String::from(\"Penguins win the Stanley Cup Championship!\"),\n",
    "    location: String::from(\"梦想小镇\"),\n",
    "    author: String::from(\"King\"),\n",
    "    content: String::from(\"Haha!\"),\n",
    "};\n",
    "\n",
    "println!(\"{}\", article.summarize());\n",
    "\n",
    "notify(article);\n",
    "// notify(tweet);\n",
    "\n",
    "// let t: Box<dyn Summary> = Box::new(summarizable());\n",
    "// println!(\"{:?}\",t.summarize());\n"
   ]
  },
  {
   "cell_type": "markdown",
   "id": "3550f5b3",
   "metadata": {},
   "source": [
    "使用trait作为参数"
   ]
  },
  {
   "cell_type": "code",
   "execution_count": null,
   "id": "be7625c9",
   "metadata": {},
   "outputs": [],
   "source": [
    "pub fn notify(item: impl Summary + Dispaly) {}\n",
    "\n",
    "pub fn notify<T: Summary + Display>(item: T) {}\n",
    "\n",
    "fn some_function<T: Display + Clone, U: Clone + Debug>(t: T, u: U) -> i32 {}\n",
    "\n",
    "fn some_function<T, U>(t: T, u: U) -> i32 where T: Display + Clone, U: Clone + Debug {}\n"
   ]
  },
  {
   "cell_type": "code",
   "execution_count": null,
   "id": "0d42bf86",
   "metadata": {},
   "outputs": [],
   "source": [
    "fn return_summarizable() -> impl Summary {}\n"
   ]
  },
  {
   "cell_type": "code",
   "execution_count": null,
   "id": "3391e79e",
   "metadata": {},
   "outputs": [
    {
     "name": "stdout",
     "output_type": "stream",
     "text": [
      "The largest member is y = 36\n"
     ]
    },
    {
     "name": "stdout",
     "output_type": "stream",
     "text": [
      "Pair { x: 23, y: 36 }\n"
     ]
    }
   ],
   "source": [
    "use std::fmt::Display;\n",
    "\n",
    "#[derive(Debug)]\n",
    "struct Pair<T> {\n",
    "    x: T,\n",
    "    y: T,\n",
    "}\n",
    "\n",
    "impl<T> Pair<T> {\n",
    "    fn new(x: T, y: T) -> Self {\n",
    "        Self {\n",
    "            x,\n",
    "            y,\n",
    "        }\n",
    "    }\n",
    "}\n",
    "\n",
    "impl<T: Display + PartialOrd> Pair<T> {\n",
    "    fn cmp_dispaly(&self) {\n",
    "        if self.x >= self.y {\n",
    "            println!(\"The largest member is x = {}\", self.x);\n",
    "        } else {\n",
    "            println!(\"The largest member is y = {}\", self.y);\n",
    "        }\n",
    "    }\n",
    "}\n",
    "\n",
    "let p = Pair {\n",
    "    x: 23,\n",
    "    y: 36,\n",
    "};\n",
    "\n",
    "p.cmp_dispaly();\n",
    "\n",
    "println!(\"{:?}\", p);\n"
   ]
  },
  {
   "cell_type": "markdown",
   "id": "8ea3543c",
   "metadata": {},
   "source": [
    "## 生命周期  \n",
    "借用检查器  比较不同作用域并确定所有借用的合法性。  \n",
    "生命周期标注并不会改变任何引用的生命周期长度。描述多个引用生命周期之间的关系。参数以`'`开头,放在`&`引用运算符之后，并通过空格分隔标注和引用类型。 任何引用都有一个生命周期，并且需要为使用生命周期的函数和结构体指定生命周期参数。  \n",
    "\n",
    "生命周期自动推导  \n",
    "\n",
    "生命周期省略规则:\n",
    "- 每个引用参数都会拥有自己的生命周期参数。\n",
    "- 当只存在一个输入生命周期参数时，这个生命周期参数会被赋予给所有输出生命周期参数。\n",
    "- 当拥有多个输入生命周期参数，而其中一个是&self或&mut self时，self的生命周期参数会被赋予给所有输出生命周期参数。(适用方法签名，使方法更加易于阅读和编写)\n",
    "\n",
    "声明和使用生命周期参数的位置取决于它们与结构体字段相关，还是与方法参数、返回值相关。结构体字段中的生命周期名称总是需要声明在impl关键字之后，并被用于结构体名称之后。\n",
    "在impl代码块的方法签名中，引用可能是独立的，也可能会与结构体字段中的引用的生命周期相关联。生命周期的省略规则在大部分情况下都可以免去方法签名中的生命周期标注。  \n",
    "\n",
    "静态生命周期 'static 表示整个程序的执行期。所有字符串字面量都拥有‘static生命周期。\n",
    "\n",
    "悬垂引用、生命周期不匹配"
   ]
  },
  {
   "cell_type": "code",
   "execution_count": null,
   "id": "b42b45da",
   "metadata": {},
   "outputs": [
    {
     "ename": "Error",
     "evalue": "`x` does not live long enough",
     "output_type": "error",
     "traceback": [
      "\u001b[31m[E0597] Error:\u001b[0m `x` does not live long enough",
      "   \u001b[38;5;246m╭\u001b[0m\u001b[38;5;246m─\u001b[0m\u001b[38;5;246m[\u001b[0mcommand_8:1:1\u001b[38;5;246m]\u001b[0m",
      "   \u001b[38;5;246m│\u001b[0m",
      " \u001b[38;5;246m4 │\u001b[0m \u001b[38;5;249m \u001b[0m\u001b[38;5;249m \u001b[0m\u001b[38;5;249m \u001b[0m\u001b[38;5;249m \u001b[0m\u001b[38;5;249m \u001b[0m\u001b[38;5;249m \u001b[0m\u001b[38;5;249m \u001b[0m\u001b[38;5;249m \u001b[0m\u001b[38;5;249ml\u001b[0m\u001b[38;5;249me\u001b[0m\u001b[38;5;249mt\u001b[0m\u001b[38;5;249m \u001b[0m\u001b[38;5;68mx\u001b[0m\u001b[38;5;249m \u001b[0m\u001b[38;5;249m=\u001b[0m\u001b[38;5;249m \u001b[0m\u001b[38;5;249m1\u001b[0m\u001b[38;5;249m2\u001b[0m\u001b[38;5;249m;\u001b[0m",
      " \u001b[38;5;240m  │\u001b[0m             \u001b[38;5;68m┬\u001b[0m  ",
      " \u001b[38;5;240m  │\u001b[0m             \u001b[38;5;68m╰\u001b[0m\u001b[38;5;68m─\u001b[0m\u001b[38;5;68m─\u001b[0m binding `x` declared here",
      " \u001b[38;5;246m5 │\u001b[0m \u001b[38;5;249m \u001b[0m\u001b[38;5;249m \u001b[0m\u001b[38;5;249m \u001b[0m\u001b[38;5;249m \u001b[0m\u001b[38;5;249m \u001b[0m\u001b[38;5;249m \u001b[0m\u001b[38;5;249m \u001b[0m\u001b[38;5;249m \u001b[0m\u001b[38;5;249mr\u001b[0m\u001b[38;5;249m \u001b[0m\u001b[38;5;249m=\u001b[0m\u001b[38;5;249m \u001b[0m\u001b[38;5;54m&\u001b[0m\u001b[38;5;54mx\u001b[0m\u001b[38;5;249m;\u001b[0m",
      " \u001b[38;5;240m  │\u001b[0m             \u001b[38;5;54m─\u001b[0m\u001b[38;5;54m┬\u001b[0m  ",
      " \u001b[38;5;240m  │\u001b[0m              \u001b[38;5;54m╰\u001b[0m\u001b[38;5;54m─\u001b[0m\u001b[38;5;54m─\u001b[0m borrowed value does not live long enough",
      " \u001b[38;5;246m6 │\u001b[0m \u001b[38;5;249m \u001b[0m\u001b[38;5;249m \u001b[0m\u001b[38;5;249m \u001b[0m\u001b[38;5;249m \u001b[0m\u001b[38;5;100m}\u001b[0m",
      " \u001b[38;5;240m  │\u001b[0m     \u001b[38;5;100m┬\u001b[0m  ",
      " \u001b[38;5;240m  │\u001b[0m     \u001b[38;5;100m╰\u001b[0m\u001b[38;5;100m─\u001b[0m\u001b[38;5;100m─\u001b[0m `x` dropped here while still borrowed",
      " \u001b[38;5;246m7 │\u001b[0m \u001b[38;5;249m \u001b[0m\u001b[38;5;249m \u001b[0m\u001b[38;5;249m \u001b[0m\u001b[38;5;249m \u001b[0m\u001b[38;5;249mp\u001b[0m\u001b[38;5;249mr\u001b[0m\u001b[38;5;249mi\u001b[0m\u001b[38;5;249mn\u001b[0m\u001b[38;5;249mt\u001b[0m\u001b[38;5;249ml\u001b[0m\u001b[38;5;249mn\u001b[0m\u001b[38;5;249m!\u001b[0m\u001b[38;5;249m(\u001b[0m\u001b[38;5;249m\"\u001b[0m\u001b[38;5;249mr\u001b[0m\u001b[38;5;249m \u001b[0m\u001b[38;5;249m=\u001b[0m\u001b[38;5;249m \u001b[0m\u001b[38;5;249m{\u001b[0m\u001b[38;5;249m}\u001b[0m\u001b[38;5;249m \u001b[0m\u001b[38;5;249m\"\u001b[0m\u001b[38;5;249m,\u001b[0m\u001b[38;5;249m \u001b[0m\u001b[38;5;37mr\u001b[0m\u001b[38;5;249m)\u001b[0m\u001b[38;5;249m;\u001b[0m",
      " \u001b[38;5;240m  │\u001b[0m                         \u001b[38;5;37m┬\u001b[0m  ",
      " \u001b[38;5;240m  │\u001b[0m                         \u001b[38;5;37m╰\u001b[0m\u001b[38;5;37m─\u001b[0m\u001b[38;5;37m─\u001b[0m borrow later used here",
      "\u001b[38;5;246m───╯\u001b[0m"
     ]
    }
   ],
   "source": [
    "{\n",
    "    let r;\n",
    "    {\n",
    "        let x = 12;\n",
    "        r = &x;\n",
    "    }\n",
    "    println!(\"r = {} \", r);\n",
    "}\n"
   ]
  },
  {
   "cell_type": "code",
   "execution_count": null,
   "id": "9524b8d6",
   "metadata": {},
   "outputs": [
    {
     "name": "stdout",
     "output_type": "stream",
     "text": [
      "r = 12 \n"
     ]
    },
    {
     "data": {
      "text/plain": [
       "()"
      ]
     },
     "execution_count": 12,
     "metadata": {},
     "output_type": "execute_result"
    }
   ],
   "source": [
    "{\n",
    "    let x = 12;\n",
    "    let r;\n",
    "    // println!(\"r = {} \", r);\n",
    "    r = &x;\n",
    "    println!(\"r = {} \", r);\n",
    "}\n"
   ]
  },
  {
   "cell_type": "code",
   "execution_count": null,
   "id": "fcb8bb5a",
   "metadata": {},
   "outputs": [
    {
     "name": "stdout",
     "output_type": "stream",
     "text": [
      "The longest string is abcd \n"
     ]
    }
   ],
   "source": [
    "let str1 = String::from(\"abcd\");\n",
    "{\n",
    "    let str2 = String::from(\"xyz\");\n",
    "    let result = longest(str1.as_str(), str2.as_str());\n",
    "    println!(\"The longest string is {} \", result);\n",
    "}\n",
    "\n",
    "// println!(\"The longest string is {} \", result);\n",
    "\n",
    "fn longest<'a>(x: &'a str, y: &'a str) -> &'a str {\n",
    "    if x.len() > y.len() { x } else { y }\n",
    "}\n"
   ]
  },
  {
   "cell_type": "code",
   "execution_count": null,
   "id": "5aed9a21",
   "metadata": {},
   "outputs": [
    {
     "ename": "Error",
     "evalue": "expected one of `!`, `.`, `::`, `;`, `?`, `{`, `}`, or an operator, found `x`",
     "output_type": "error",
     "traceback": [
      "\u001b[31mError:\u001b[0m expected one of `!`, `.`, `::`, `;`, `?`, `{`, `}`, or an operator, found `x`",
      "   \u001b[38;5;246m╭\u001b[0m\u001b[38;5;246m─\u001b[0m\u001b[38;5;246m[\u001b[0mcommand_15:1:1\u001b[38;5;246m]\u001b[0m",
      "   \u001b[38;5;246m│\u001b[0m",
      " \u001b[38;5;246m3 │\u001b[0m \u001b[38;5;249m \u001b[0m\u001b[38;5;249m \u001b[0m\u001b[38;5;249m&\u001b[0m\u001b[38;5;249mi\u001b[0m\u001b[38;5;249m3\u001b[0m\u001b[38;5;249m2\u001b[0m\u001b[38;5;249m \u001b[0m\u001b[38;5;54mx\u001b[0m\u001b[38;5;249m;\u001b[0m",
      " \u001b[38;5;240m  │\u001b[0m        \u001b[38;5;54m┬\u001b[0m  ",
      " \u001b[38;5;240m  │\u001b[0m        \u001b[38;5;54m╰\u001b[0m\u001b[38;5;54m─\u001b[0m\u001b[38;5;54m─\u001b[0m expected one of 8 possible tokens",
      "\u001b[38;5;246m───╯\u001b[0m"
     ]
    }
   ],
   "source": [
    "\n",
    "  &i32 x;\n",
    "&'a i32 x;\n",
    "&'a mut i32 x;\n"
   ]
  },
  {
   "cell_type": "code",
   "execution_count": null,
   "id": "aefd0676",
   "metadata": {},
   "outputs": [],
   "source": [
    "fn longest<'a>(x: &'a str, y: &'a str) -> &'a str {\n",
    "    let result = String::from(\"test\");\n",
    "    result.as_str()\n",
    "}\n",
    "\n",
    "println!(\" {} \", longest(\"abc\", \"cds\"));\n"
   ]
  },
  {
   "cell_type": "code",
   "execution_count": null,
   "id": "5b0c7ae3",
   "metadata": {},
   "outputs": [
    {
     "name": "stdout",
     "output_type": "stream",
     "text": [
      "Hello\n"
     ]
    }
   ],
   "source": [
    "fn first_word(s: &str) -> &str {\n",
    "    let bytes = s.as_bytes();\n",
    "    for (i, &item) in bytes.iter().enumerate() {\n",
    "        if item == b' ' {\n",
    "            return &s[0..i];\n",
    "        }\n",
    "    }\n",
    "    &s[..]\n",
    "}\n",
    "\n",
    "let result = first_word(\"Hello King\");\n",
    "println!(\"{}\", result);\n"
   ]
  },
  {
   "cell_type": "code",
   "execution_count": null,
   "id": "295c726a",
   "metadata": {},
   "outputs": [
    {
     "name": "stdout",
     "output_type": "stream",
     "text": [
      "part = hello\n",
      " 32 \n"
     ]
    }
   ],
   "source": [
    "struct ImportantExcept<'a> {\n",
    "    part: &'a str,\n",
    "}\n",
    "\n",
    "impl<'a> ImportantExcept<'a> {\n",
    "    fn level(&self, x: &i32) -> i32 {\n",
    "        println!(\"part = {}\", self.part);\n",
    "        *x\n",
    "    }\n",
    "}\n",
    "\n",
    "let im = ImportantExcept {\n",
    "    part: \"hello\",\n",
    "};\n",
    "\n",
    "println!(\" {} \", im.level(&32));\n"
   ]
  },
  {
   "cell_type": "code",
   "execution_count": null,
   "id": "3a76333f",
   "metadata": {},
   "outputs": [
    {
     "name": "stdout",
     "output_type": "stream",
     "text": [
      "Hello King\n"
     ]
    }
   ],
   "source": [
    "let s: &'static str = \"Hello King\";\n",
    "println!(\"{}\", s);\n"
   ]
  },
  {
   "cell_type": "code",
   "execution_count": null,
   "id": "c77f8e2f",
   "metadata": {},
   "outputs": [
    {
     "name": "stdout",
     "output_type": "stream",
     "text": [
      "Announcement! 23\n"
     ]
    },
    {
     "name": "stdout",
     "output_type": "stream",
     "text": [
      "result = Hi dreamer\n"
     ]
    }
   ],
   "source": [
    "use std::fmt::Display;\n",
    "\n",
    "fn longest_with_announcement<'a, T>(x: &'a str, y: &'a str, ann: T) -> &'a str where T: Display {\n",
    "    println!(\"Announcement! {}\", ann);\n",
    "\n",
    "    if x.len() > y.len() {\n",
    "        x\n",
    "    } else {\n",
    "        y\n",
    "    }\n",
    "}\n",
    "\n",
    "let result = longest_with_announcement(\"Hello King\", \"Hi dreamer\", 23);\n",
    "println!(\"result = {}\", result);\n"
   ]
  },
  {
   "cell_type": "code",
   "execution_count": null,
   "id": "0f65699f",
   "metadata": {},
   "outputs": [
    {
     "name": "stdout",
     "output_type": "stream",
     "text": [
      "a: Ok\n"
     ]
    },
    {
     "name": "stdout",
     "output_type": "stream",
     "text": [
      "a: Ok\n"
     ]
    }
   ],
   "source": [
    "#[derive(Copy, Clone, Debug)]\n",
    "struct CubeSet {\n",
    "    id: u64,\n",
    "}\n",
    "\n",
    "#[derive(Debug)]\n",
    "enum StatusMessage {\n",
    "    Ok,\n",
    "}\n",
    "\n",
    "fn check_status(stat_id: CubeSet) -> StatusMessage {\n",
    "    StatusMessage::Ok\n",
    "}\n",
    "\n",
    "let stat_a = CubeSet { id: 0 };\n",
    "let a_status = check_status(stat_a);\n",
    "println!(\"a: {:?}\", a_status);\n",
    "let a_status = check_status(stat_a);\n",
    "println!(\"a: {:?}\", a_status);\n"
   ]
  },
  {
   "cell_type": "code",
   "execution_count": null,
   "id": "dbe3af6d",
   "metadata": {},
   "outputs": [
    {
     "name": "stdout",
     "output_type": "stream",
     "text": [
      "a: Ok\n",
      "a: Ok\n"
     ]
    }
   ],
   "source": [
    "#[derive(Debug)]\n",
    "struct CubeSet {\n",
    "    id: u64,\n",
    "}\n",
    "\n",
    "#[derive(Debug)]\n",
    "enum StatusMessage {\n",
    "    Ok,\n",
    "}\n",
    "\n",
    "impl Copy for CubeSet {}\n",
    "\n",
    "impl Clone for CubeSet {\n",
    "    fn clone(&self) -> Self {\n",
    "        CubeSet { id: self.id }\n",
    "    }\n",
    "}\n",
    "\n",
    "impl Copy for StatusMessage {}\n",
    "\n",
    "impl Clone for StatusMessage {\n",
    "    fn clone(&self) -> Self {\n",
    "        *self\n",
    "    }\n",
    "}\n",
    "\n",
    "fn check_status(stat_id: CubeSet) -> StatusMessage {\n",
    "    StatusMessage::Ok\n",
    "}\n",
    "\n",
    "let stat_a = CubeSet { id: 0 };\n",
    "let a_status = check_status(stat_a);\n",
    "println!(\"a: {:?}\", a_status);\n",
    "let a_status = check_status(stat_a);\n",
    "println!(\"a: {:?}\", a_status);\n"
   ]
  },
  {
   "cell_type": "code",
   "execution_count": null,
   "id": "7e478fb0",
   "metadata": {},
   "outputs": [
    {
     "name": "stdout",
     "output_type": "stream",
     "text": [
      "a: Ok\n",
      "a: Ok\n"
     ]
    }
   ],
   "source": [
    "#[derive(Debug)]\n",
    "struct CubeSet {\n",
    "    id: u64,\n",
    "}\n",
    "\n",
    "#[derive(Debug)]\n",
    "enum StatusMessage {\n",
    "    Ok,\n",
    "}\n",
    "\n",
    "impl Copy for CubeSet {}\n",
    "\n",
    "impl Clone for CubeSet {\n",
    "    fn clone(&self) -> Self {\n",
    "        CubeSet { id: self.id }\n",
    "    }\n",
    "}\n",
    "\n",
    "impl Copy for StatusMessage {}\n",
    "\n",
    "impl Clone for StatusMessage {\n",
    "    fn clone(&self) -> Self {\n",
    "        *self\n",
    "    }\n",
    "}\n",
    "\n",
    "fn check_status(stat_id: CubeSet) -> StatusMessage {\n",
    "    StatusMessage::Ok\n",
    "}\n",
    "\n",
    "let stat_a = CubeSet { id: 0 };\n",
    "let a_status = check_status(stat_a.clone());\n",
    "println!(\"a: {:?}\", a_status.clone());\n",
    "let a_status = check_status(stat_a);\n",
    "println!(\"a: {:?}\", a_status);\n"
   ]
  },
  {
   "cell_type": "code",
   "execution_count": null,
   "id": "4fb39a82",
   "metadata": {},
   "outputs": [
    {
     "name": "stdout",
     "output_type": "stream",
     "text": [
      "GroundStation\n"
     ]
    }
   ],
   "source": [
    "use std::rc::Rc;\n",
    "\n",
    "#[derive(Debug)]\n",
    "struct GroundStation {}\n",
    "\n",
    "let base = Rc::new(GroundStation {});\n",
    "println!(\"{:?}\", base);\n"
   ]
  },
  {
   "cell_type": "code",
   "execution_count": null,
   "id": "d100493e",
   "metadata": {},
   "outputs": [],
   "source": [
    "use std::rc::Rc;\n",
    "use std::cell::RefCell;\n",
    "\n",
    "#[derive(Debug)]\n",
    "struct GroundStation {\n",
    "    radio_freq: f64,\n",
    "}\n",
    "\n",
    "fn main() {\n",
    "    let base = Rc::new(\n",
    "        RefCell::new(GroundStation {\n",
    "            radio_freq: 87.65,\n",
    "        })\n",
    "    );\n",
    "\n",
    "    println!(\"{:?}\", base);\n",
    "\n",
    "    {\n",
    "        let mut mut_base_2 = base.borrow_mut();\n",
    "        mut_base_2.radio_freq -= 12.34;\n",
    "        println!(\"base2: {:?}\", mut_base_2);\n",
    "    }\n",
    "\n",
    "    println!(\"{:?}\", base);\n",
    "\n",
    "    let mut mut_base3 = base.borrow_mut();\n",
    "    mut_base3.radio_freq += 23.12;\n",
    "    println!(\"base3: {:?}\", mut_base3);\n",
    "    println!(\"{:?}\", base);\n",
    "}\n",
    "\n",
    "main();\n"
   ]
  },
  {
   "cell_type": "markdown",
   "id": "e8613f54",
   "metadata": {},
   "source": [
    "## 内存\n",
    "\n",
    "指针是计算机通过引用来间接访问数据的方式。编码为内存地址，使用usize类型的整数表示。\n",
    "\n",
    "内存地址，简称地址，一个内存地址是一个数字，并且恰好指向内存中的一个字节，是由汇编语言提供的一种抽象概念。\n",
    "指针又叫原始指针，一个指针是一个内存地址，并且指向了某种类型的值。是高级语言提供的一种抽象概念。\n",
    "引用是指针，在动态大小类型的情况下，一个引用是一个指针及其一个有额外保证的整数。是高级语言提供的一种抽象概念。引用总是指向有效的数据。总是正确对齐usize的倍数。"
   ]
  },
  {
   "cell_type": "code",
   "execution_count": null,
   "id": "9c8b5008",
   "metadata": {},
   "outputs": [
    {
     "name": "stdout",
     "output_type": "stream",
     "text": [
      "a: 42, b: 0x103e935cf, c: 0x103e935d9 \n"
     ]
    }
   ],
   "source": [
    "static B: [u8; 10] = [99, 97, 114, 114, 121, 116, 111, 119, 101, 108];\n",
    "static C: [u8; 11] = [116, 104, 97, 110, 107, 115, 102, 105, 115, 104, 0];\n",
    "let a = 42;\n",
    "let b = &B;\n",
    "let c = &C;\n",
    "println!(\"a: {}, b: {:p}, c: {:p} \", a, b, c);\n"
   ]
  },
  {
   "cell_type": "code",
   "execution_count": null,
   "id": "23303555",
   "metadata": {},
   "outputs": [
    {
     "name": "stdout",
     "output_type": "stream",
     "text": [
      "a: 0x16d7c21a8,  8, 42\n",
      "b: 0x16d7c21b0,  8, 0x103ee3046\n",
      "c: 0x16d7c21b8,  8, 0x148609120\n",
      "B: 0x103ee3046,  10, [99, 97, 114, 114, 121, 116, 111, 119, 101, 108]\n",
      "C: 0x103ee3050,  11, [116, 104, 97, 110, 107, 115, 102, 105, 115, 104, 0]\n"
     ]
    }
   ],
   "source": [
    "use std::mem::size_of;\n",
    "\n",
    "static B: [u8; 10] = [99, 97, 114, 114, 121, 116, 111, 119, 101, 108];\n",
    "static C: [u8; 11] = [116, 104, 97, 110, 107, 115, 102, 105, 115, 104, 0];\n",
    "\n",
    "let a: usize = 42;\n",
    "let b: &[u8; 10] = &B;\n",
    "let c: Box<[u8]> = Box::new(C);\n",
    "\n",
    "println!(\"a: {:p},  {:?}, {:?}\", &a, size_of::<usize>(), a);\n",
    "println!(\"b: {:p},  {:?}, {:p}\", &b, size_of::<&[u8; 10]>(), b);\n",
    "println!(\"c: {:p},  {:?}, {:p}\", &c, size_of::<Box<u8>>(), c);\n",
    "println!(\"B: {:p},  {:?}, {:?}\", &B, size_of::<[u8; 10]>(), B);\n",
    "println!(\"C: {:p},  {:?}, {:?}\", &C, size_of::<[u8; 11]>(), C);\n"
   ]
  },
  {
   "cell_type": "code",
   "execution_count": null,
   "id": "95fef542",
   "metadata": {},
   "outputs": [
    {
     "name": "stdout",
     "output_type": "stream",
     "text": [
      "a: 42, b: carrytowel, c: thanksfish\n"
     ]
    }
   ],
   "source": [
    "use std::borrow::Cow;\n",
    "use std::ffi::CStr;\n",
    "use std::os::raw::c_char;\n",
    "\n",
    "static B: [u8; 10] = [99, 97, 114, 114, 121, 116, 111, 119, 101, 108];\n",
    "static C: [u8; 11] = [116, 104, 97, 110, 107, 115, 102, 105, 115, 104, 0];\n",
    "\n",
    "let a = 42;\n",
    "let b: String;\n",
    "let c: Cow<str>;\n",
    "\n",
    "unsafe {\n",
    "    let b_ptr = &B as *const u8 as *mut u8;\n",
    "    b = String::from_raw_parts(b_ptr, 10, 10);\n",
    "    let c_ptr = &C as *const u8 as *const c_char;\n",
    "    c = CStr::from_ptr(c_ptr).to_string_lossy();\n",
    "}\n",
    "\n",
    "println!(\"a: {}, b: {}, c: {}\", a, b, c);\n"
   ]
  },
  {
   "cell_type": "code",
   "execution_count": null,
   "id": "3d99216c",
   "metadata": {},
   "outputs": [
    {
     "name": "stdout",
     "output_type": "stream",
     "text": [
      "a: 42, 0x16d7c21c8 ... 0x16d7c21cf\n"
     ]
    }
   ],
   "source": [
    "let a: i64 = 42;\n",
    "let a_ptr = &a as *const i64;\n",
    "let a_addr: usize = unsafe { std::mem::transmute(a_ptr) };\n",
    "println!(\"a: {}, {:p} ... 0x{:x}\", a, a_ptr, a_addr + 7);\n"
   ]
  },
  {
   "cell_type": "code",
   "execution_count": null,
   "id": "fdf82e23",
   "metadata": {},
   "outputs": [
    {
     "name": "stdout",
     "output_type": "stream",
     "text": [
      "0x2a -> 0x8a\n"
     ]
    },
    {
     "data": {
      "text/plain": [
       "()"
      ]
     },
     "execution_count": 20,
     "metadata": {},
     "output_type": "execute_result"
    }
   ],
   "source": [
    "let ptr = 42 as *const Vec<String>;\n",
    "unsafe {\n",
    "    let new_addr = ptr.offset(4);\n",
    "    println!(\"{:p} -> {:p}\", ptr, new_addr);\n",
    "}\n"
   ]
  },
  {
   "cell_type": "markdown",
   "id": "41f63007",
   "metadata": {},
   "source": [
    "## 所有权"
   ]
  },
  {
   "cell_type": "markdown",
   "id": "40bd54cc",
   "metadata": {},
   "source": [
    "所有权表示一个所有者在它的值生命周期结束时将被清理。值不能存活得比它们的所有者更长。并没有控制或主权的意思。值的“所有者”对所拥有的值没有特殊的访问操作，它也没有限制其他代码擅自访问的能力。所有者在借用它的值的其他代码里并没有“发言权”。\n",
    "所有权系统提供了一种不需要垃圾收集器就可实现内存安全的途径。\n",
    "\n",
    "- 在不需要所有权的地方使用引用；\n",
    "- 重构代码，减少长存活期的值；\n",
    "- 在需要完整所有权的地方，复制长存活期的值；\n",
    "- 把数据包装到能帮助解决移动问题的类型中。"
   ]
  },
  {
   "cell_type": "code",
   "execution_count": null,
   "id": "85466857",
   "metadata": {},
   "outputs": [],
   "source": [
    "#![allow(unused_variables)]\n",
    "\n",
    "#[derive(Debug)]\n",
    "struct CubeStat {\n",
    "    id: u64,\n",
    "}\n",
    "\n",
    "#[derive(Debug)]\n",
    "enum StateMessage {\n",
    "    Ok,\n",
    "}\n",
    "\n",
    "fn check_status(stat_id: CubeStat) -> CubeStat {\n",
    "    println!(\"{:?} {:?}\", stat_id, StateMessage::Ok);\n",
    "    stat_id\n",
    "}\n",
    "\n",
    "fn main() {\n",
    "    let stat_a = CubeStat { id: 0 };\n",
    "    let stat_b = CubeStat { id: 1 };\n",
    "    let stat_c = CubeStat { id: 2 };\n",
    "    let stat_a = check_status(stat_a);\n",
    "    let stat_b = check_status(stat_b);\n",
    "    let stat_c = check_status(stat_c);\n",
    "}\n"
   ]
  },
  {
   "cell_type": "code",
   "execution_count": 2,
   "id": "0a566bcb",
   "metadata": {},
   "outputs": [
    {
     "name": "stdout",
     "output_type": "stream",
     "text": [
      "CubeStat { id: 100, mailbox: Mailbox { messages: [] } }\n"
     ]
    }
   ],
   "source": [
    "#[derive(Debug)]\n",
    "struct CubeStat {\n",
    "    id: u64,\n",
    "    mailbox: Mailbox,\n",
    "}\n",
    "\n",
    "#[derive(Debug)]\n",
    "enum StateMessage {\n",
    "    Ok,\n",
    "}\n",
    "\n",
    "#[derive(Debug)]\n",
    "struct Mailbox {\n",
    "    messages: Vec<Message>,\n",
    "}\n",
    "\n",
    "type Message = String;\n",
    "\n",
    "let stat_a = CubeStat { id: 100, mailbox: Mailbox { messages: vec![] } };\n",
    "println!(\"{:?}\", stat_a);\n"
   ]
  },
  {
   "cell_type": "code",
   "execution_count": null,
   "id": "3bf56a2c",
   "metadata": {},
   "outputs": [
    {
     "name": "stdout",
     "output_type": "stream",
     "text": [
      "a: 1100001111000011\n",
      "b: 1100001111000011\n"
     ]
    }
   ],
   "source": [
    "let a: u16 = 50115;\n",
    "let b: i16 = -15421;\n",
    "println!(\"a: {:016b}\", a);\n",
    "println!(\"b: {:016b}\", b);\n"
   ]
  },
  {
   "cell_type": "code",
   "execution_count": null,
   "id": "8f979ec0",
   "metadata": {},
   "outputs": [
    {
     "name": "stdout",
     "output_type": "stream",
     "text": [
      "a: 42.43\n",
      "b: 1110030418 01000010001010011011100001010010\n",
      "a: 42.43\n",
      "b: 1110030418 01000010001010011011100001010010\n",
      "c: 1110030418 01000010001010011011100001010010\n"
     ]
    }
   ],
   "source": [
    "use std::mem::transmute;\n",
    "\n",
    "let a: f32 = 42.43;\n",
    "\n",
    "let b: u32 = unsafe { transmute(a) };\n",
    "\n",
    "println!(\"a: {}\", a);\n",
    "println!(\"b: {} {:032b}\", b, b);\n",
    "\n",
    "let a: f32 = unsafe { transmute(b) };\n",
    "let c: i32 = unsafe { transmute(b) };\n",
    "\n",
    "println!(\"a: {}\", a);\n",
    "println!(\"b: {} {:032b}\", b, b);\n",
    "println!(\"c: {} {:032b}\", c, c);\n"
   ]
  },
  {
   "cell_type": "code",
   "execution_count": null,
   "id": "fca65532",
   "metadata": {},
   "outputs": [
    {
     "name": "stdout",
     "output_type": "stream",
     "text": [
      "块注释可以嵌套\n"
     ]
    },
    {
     "data": {
      "text/plain": [
       "()"
      ]
     },
     "execution_count": 15,
     "metadata": {},
     "output_type": "execute_result"
    }
   ],
   "source": [
    "/* 快点快点 /*可快点快点 */ /*快上课 */ */ println!(\"块注释可以嵌套\");\n"
   ]
  },
  {
   "cell_type": "code",
   "execution_count": null,
   "id": "bb9dbdb3",
   "metadata": {},
   "outputs": [
    {
     "name": "stdout",
     "output_type": "stream",
     "text": [
      "2     1\n"
     ]
    }
   ],
   "source": [
    "println!(\"2{number:>width$}\", number = 1, width = 6);\n"
   ]
  },
  {
   "cell_type": "code",
   "execution_count": null,
   "id": "26f838e8",
   "metadata": {},
   "outputs": [
    {
     "name": "stdout",
     "output_type": "stream",
     "text": [
      "000001\n"
     ]
    }
   ],
   "source": [
    "println!(\"{number:>0width$}\", number = 1, width = 6);\n"
   ]
  },
  {
   "cell_type": "code",
   "execution_count": 21,
   "id": "c3f9d8db",
   "metadata": {},
   "outputs": [
    {
     "name": "stdout",
     "output_type": "stream",
     "text": [
      "This struct `Structure(3)` won't print...\n"
     ]
    }
   ],
   "source": [
    "#[allow(dead_code)]\n",
    "#[derive(Debug)]\n",
    "struct Structure(i32);\n",
    "\n",
    "// 但是像结构体这样的自定义类型需要更复杂的方式来处理。\n",
    "// 下面语句无法运行。\n",
    "println!(\"This struct `{:?}` won't print...\", Structure(3));\n"
   ]
  },
  {
   "cell_type": "code",
   "execution_count": null,
   "id": "64d94ac1",
   "metadata": {},
   "outputs": [
    {
     "name": "stderr",
     "output_type": "stream",
     "text": [
      "03.142\n"
     ]
    }
   ],
   "source": [
    "let pi = 3.141592;\n",
    "eprintln!(\"{:06.3}\", pi);\n"
   ]
  },
  {
   "cell_type": "markdown",
   "id": "7b42bdf7",
   "metadata": {},
   "source": [
    "fmt::Debug：使用 {:?} 标记。\n",
    "fmt::Display：使用 {} 标记。\n",
    "{:#?} 提供了 “美化打印” 的功能。"
   ]
  },
  {
   "cell_type": "code",
   "execution_count": null,
   "id": "b2908b59",
   "metadata": {},
   "outputs": [
    {
     "name": "stdout",
     "output_type": "stream",
     "text": [
      "1 8\n"
     ]
    }
   ],
   "source": [
    "let mut v: Vec<i8> = Vec::new();\n",
    "v.push(23);\n",
    "println!(\"{} {}\", v.len(), v.capacity());\n"
   ]
  },
  {
   "cell_type": "code",
   "execution_count": null,
   "id": "90df476b",
   "metadata": {},
   "outputs": [
    {
     "name": "stdout",
     "output_type": "stream",
     "text": [
      "0 2\n",
      "2 2\n",
      "3 4\n",
      "2 4\n"
     ]
    }
   ],
   "source": [
    "let mut v: Vec<i16> = Vec::with_capacity(2);\n",
    "println!(\"{} {}\", v.len(), v.capacity());\n",
    "v.push(12);\n",
    "v.push(23);\n",
    "println!(\"{} {}\", v.len(), v.capacity());\n",
    "v.push(21);\n",
    "println!(\"{} {}\", v.len(), v.capacity());\n",
    "v.remove(0);\n",
    "println!(\"{} {}\", v.len(), v.capacity());\n"
   ]
  },
  {
   "cell_type": "code",
   "execution_count": null,
   "id": "7467b657",
   "metadata": {},
   "outputs": [
    {
     "name": "stdout",
     "output_type": "stream",
     "text": [
      "0100\n"
     ]
    }
   ],
   "source": [
    "println!(\"{:04b}\", 1 << 2);\n"
   ]
  },
  {
   "cell_type": "code",
   "execution_count": null,
   "id": "97a9d2b2",
   "metadata": {},
   "outputs": [
    {
     "name": "stdout",
     "output_type": "stream",
     "text": [
      "(1.2 3.4)\n",
      "(2.1 5.2)\n",
      "\n",
      "(1.2 2.1)\n",
      "(3.4 5.2)\n",
      "\n",
      "(1.2 3.4)\n",
      "(2.1 5.2)\n",
      "\n"
     ]
    }
   ],
   "source": [
    "use std::fmt::{ Formatter, Display };\n",
    "use std::{ fmt };\n",
    "\n",
    "#[derive(Debug)]\n",
    "struct Matrix(f32, f32, f32, f32);\n",
    "\n",
    "impl Display for Matrix {\n",
    "    fn fmt(&self, f: &mut Formatter) -> fmt::Result {\n",
    "        writeln!(f, \"({} {})\", self.0, self.1);\n",
    "        writeln!(f, \"({} {})\", self.2, self.3)\n",
    "    }\n",
    "}\n",
    "\n",
    "fn transpose(m: &Matrix) -> Matrix {\n",
    "    Matrix(m.0, m.2, m.1, m.3)\n",
    "}\n",
    "\n",
    "let m = Matrix(1.2, 3.4, 2.1, 5.2);\n",
    "println!(\"{}\", m);\n",
    "let n = transpose(&m);\n",
    "println!(\"{}\", n);\n",
    "println!(\"{}\", m);\n"
   ]
  },
  {
   "cell_type": "code",
   "execution_count": null,
   "id": "d54c3b78",
   "metadata": {},
   "outputs": [
    {
     "name": "stdout",
     "output_type": "stream",
     "text": [
      "[5, 5]\n",
      "8\n",
      "16\n"
     ]
    },
    {
     "data": {
      "text/plain": [
       "()"
      ]
     },
     "execution_count": 68,
     "metadata": {},
     "output_type": "execute_result"
    }
   ],
   "source": [
    "use std::mem;\n",
    "{\n",
    "    let a = [5; 3];\n",
    "    let ra = &a[1..];\n",
    "    println!(\"{:?}\", ra);\n",
    "    println!(\"{}\", mem::size_of_val(ra));\n",
    "    println!(\"{}\", mem::size_of::<&[i32]>());\n",
    "}\n"
   ]
  },
  {
   "cell_type": "code",
   "execution_count": null,
   "id": "485b0e80",
   "metadata": {},
   "outputs": [
    {
     "name": "stdout",
     "output_type": "stream",
     "text": [
      "Before assignment\n",
      "Dropping zeus(cloud collection, king of gods)\n",
      "at end of block\n",
      "Dropping King\n"
     ]
    },
    {
     "data": {
      "text/plain": [
       "()"
      ]
     },
     "execution_count": 2,
     "metadata": {},
     "output_type": "execute_result"
    }
   ],
   "source": [
    "struct Application {\n",
    "    name: String,\n",
    "    nicknames: Vec<String>,\n",
    "}\n",
    "\n",
    "impl Drop for Application {\n",
    "    fn drop(&mut self) {\n",
    "        print!(\"Dropping {}\", self.name);\n",
    "        if !self.nicknames.is_empty() {\n",
    "            print!(\"({})\", self.nicknames.join(\", \"));\n",
    "        }\n",
    "        println!(\"\")\n",
    "    }\n",
    "}\n",
    "\n",
    "{\n",
    "    let mut a = Application {\n",
    "        name: \"zeus\".to_string(),\n",
    "        nicknames: vec![\"cloud collection\".to_string(), \"king of gods\".to_string()],\n",
    "    };\n",
    "    println!(\"Before assignment\");\n",
    "    a = Application {\n",
    "        name: \"King\".to_string(),\n",
    "        nicknames: vec![],\n",
    "    };\n",
    "    println!(\"at end of block\");\n",
    "}\n"
   ]
  },
  {
   "cell_type": "markdown",
   "id": "603600f0",
   "metadata": {},
   "source": [
    "## 模块\n",
    "\n",
    "crate 项目间代码共享\n",
    "模块 项目内代码共享\n"
   ]
  }
 ],
 "metadata": {
  "kernelspec": {
   "display_name": "Rust",
   "language": "rust",
   "name": "rust"
  },
  "language_info": {
   "codemirror_mode": "rust",
   "file_extension": ".rs",
   "mimetype": "text/rust",
   "name": "rust",
   "pygment_lexer": "rust",
   "version": ""
  }
 },
 "nbformat": 4,
 "nbformat_minor": 5
}
