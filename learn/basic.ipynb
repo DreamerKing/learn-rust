{
 "cells": [
  {
   "cell_type": "markdown",
   "id": "aa2c09da",
   "metadata": {},
   "source": [
    "## println!"
   ]
  },
  {
   "cell_type": "code",
   "execution_count": 2,
   "id": "bb514b17",
   "metadata": {
    "vscode": {
     "languageId": "rust"
    }
   },
   "outputs": [
    {
     "name": "stdout",
     "output_type": "stream",
     "text": [
      "Hello, world!\n",
      "1 from Number\n",
      "brand is from Mass and brand likes to Code\n",
      "Joe likes to paly Baseball\n",
      "Binary: 1010; Hex: a; Octal: 12\n",
      "(12, true, \"Hello\")\n",
      "10 + 10 = 20\n",
      "Name is King age is 20\n",
      "x is 23\n"
     ]
    },
    {
     "data": {
      "text/plain": [
       "()"
      ]
     },
     "execution_count": 2,
     "metadata": {},
     "output_type": "execute_result"
    }
   ],
   "source": [
    "println!(\"Hello, world!\");\n",
    "println!(\"{} from {}\", 1, \"Number\");\n",
    "println!(\"{0} is from {1} and {0} likes to {2}\", \"brand\", \"Mass\", \"Code\");\n",
    "println!(\"{name} likes to paly {activity}\", name = \"Joe\", activity = \"Baseball\");\n",
    "println!(\"Binary: {:b}; Hex: {:x}; Octal: {:o}\", 10, 10, 10);\n",
    "println!(\"{:?}\", (12, true, \"Hello\"));\n",
    "println!(\"10 + 10 = {}\", 10 + 10);\n",
    "let (name, age) = (\"King\", 20);\n",
    "println!(\"Name is {name} age is {age}\");\n",
    "\n",
    "let x = 23;\n",
    "println!(\"x is {x}\");\n"
   ]
  },
  {
   "cell_type": "markdown",
   "id": "ce47e313",
   "metadata": {},
   "source": [
    "# 变量与数据类型\n",
    "数据结构 存储和组织数据的方式 \n",
    "- 动态数组 \n",
    "- 映射 \n",
    "- 字符串"
   ]
  },
  {
   "cell_type": "markdown",
   "id": "059bb034",
   "metadata": {},
   "source": [
    "## 变量 \n",
    "- 标识符与值的绑定\n",
    "- 默认不可变\n",
    "- 先声明后使用\n",
    "- 自动类型推导\n",
    "- 类型标注\n",
    "- 下划线开头的变量名会被类型检查忽略\n",
    "\n",
    "变量遮蔽  重复声明同名变量会遮蔽前一个同名变量 不同的内存空间 值以及类型都可以不同"
   ]
  },
  {
   "cell_type": "code",
   "execution_count": 16,
   "id": "f6e339c0-1295-4d8a-a39b-872a0415e994",
   "metadata": {
    "vscode": {
     "languageId": "rust"
    }
   },
   "outputs": [
    {
     "name": "stdout",
     "output_type": "stream",
     "text": [
      "23\n"
     ]
    },
    {
     "name": "stdout",
     "output_type": "stream",
     "text": [
      "x = 32, y = 23 \n"
     ]
    }
   ],
   "source": [
    "let x = 23;\n",
    "println!(\"{}\", x);\n",
    "let y = x;\n",
    "//  x = 32;\n",
    "let x = \"32\";\n",
    "println!(\"x = {}, y = {} \", x, y);\n"
   ]
  },
  {
   "cell_type": "code",
   "execution_count": 12,
   "id": "f85fa3da",
   "metadata": {
    "vscode": {
     "languageId": "rust"
    }
   },
   "outputs": [
    {
     "name": "stdout",
     "output_type": "stream",
     "text": [
      "23\n"
     ]
    },
    {
     "name": "stdout",
     "output_type": "stream",
     "text": [
      "32\n"
     ]
    }
   ],
   "source": [
    "let mut x = 23;\n",
    "println!(\"{}\", x);\n",
    "x = 32;\n",
    "println!(\"{}\", x);\n"
   ]
  },
  {
   "cell_type": "code",
   "execution_count": 3,
   "id": "5ab8a401",
   "metadata": {
    "vscode": {
     "languageId": "rust"
    }
   },
   "outputs": [
    {
     "name": "stdout",
     "output_type": "stream",
     "text": [
      "Name is Brand age is 36\n"
     ]
    },
    {
     "name": "stdout",
     "output_type": "stream",
     "text": [
      "Name is Brand age is 20\n",
      "ID is 1\n",
      "Name is Brand age is 20\n"
     ]
    }
   ],
   "source": [
    "let name = \"Brand\";\n",
    "let mut age = 36;\n",
    "println!(\"Name is {name} age is {age}\");\n",
    "age = 20;\n",
    "println!(\"Name is {name} age is {age}\");\n",
    "\n",
    "const ID: i32 = 0001;\n",
    "println!(\"ID is {ID}\");\n",
    "let (name, age) = (name, age);\n",
    "println!(\"Name is {name} age is {age}\");\n"
   ]
  },
  {
   "cell_type": "markdown",
   "id": "8451b4cb",
   "metadata": {},
   "source": [
    "## 常量\n",
    "声明后不可改变其绑定和值\n",
    "类型标注不可省略 \n",
    "常量不能遮蔽，不能重复定义\n",
    "常量可以在任意作用域中声明，并且在整个程序的生命周期内都有效\n",
    "常量只能被赋值为常量表达式或数学表达式，不能是函数的返回值，或者其他运行时才确定的值"
   ]
  },
  {
   "cell_type": "code",
   "execution_count": 29,
   "id": "b0d8e705",
   "metadata": {
    "vscode": {
     "languageId": "rust"
    }
   },
   "outputs": [
    {
     "name": "stdout",
     "output_type": "stream",
     "text": [
      "23\n"
     ]
    }
   ],
   "source": [
    "// let X_1 = 12;\n",
    "const X_1: u32 = 23;\n",
    "println!(\"{}\", X_1);\n"
   ]
  },
  {
   "cell_type": "markdown",
   "id": "fc4403f6",
   "metadata": {},
   "source": [
    "## 基本数据类型\n",
    "- 整型(1~16个字节) 默认i32\n",
    "- 浮点型 默认f64\n",
    "- 布尔型 bool\n",
    "- 字符型 UTF8编码 单引号\n",
    "- 范围类型 生成整数序列 左闭右开和全闭"
   ]
  },
  {
   "cell_type": "code",
   "execution_count": 12,
   "id": "f706af23",
   "metadata": {
    "vscode": {
     "languageId": "rust"
    }
   },
   "outputs": [
    {
     "name": "stdout",
     "output_type": "stream",
     "text": [
      "10\n"
     ]
    },
    {
     "name": "stdout",
     "output_type": "stream",
     "text": [
      "zeros = 7, ones = 1\n"
     ]
    }
   ],
   "source": [
    "let a = i8::from_str_radix(\"A\", 16).expect(\"oops!\");\n",
    "println!(\"{}\", a);\n",
    "let n = 0b100_0000i8;\n",
    "// assert_eq!(n.count_ones(), 1);\n",
    "println!(\"zeros = {}, ones = {}\", n.count_zeros(), n.count_ones());\n"
   ]
  },
  {
   "cell_type": "code",
   "execution_count": 66,
   "id": "2d1b26c4",
   "metadata": {
    "vscode": {
     "languageId": "rust"
    }
   },
   "outputs": [
    {
     "name": "stdout",
     "output_type": "stream",
     "text": [
      "x11 = 23, x2 = 16, x3 = 26, x4 = 21, x5 = 2832, x6 = 2954\n",
      "f1 = 23.12, f2 = 231, f3 = 23\n"
     ]
    },
    {
     "name": "stdout",
     "output_type": "stream",
     "text": [
      "b1 = true\n",
      "c1 = 🐈 \n",
      "(1..5):\n",
      " 1  2  3  4 \n",
      "(1..5).rev:\n",
      " 4  3  2  1 \n",
      "(1..=5) sum = 15\n"
     ]
    }
   ],
   "source": [
    "let x11: i8 = 23;\n",
    "let x2 = 16u32;\n",
    "let x3 = 26;\n",
    "let x4: i8 = 0b10101;\n",
    "let x5: i16 = 0xb10;\n",
    "// 分隔符_\n",
    "let x6: u16 = 0o56_12;\n",
    "println!(\"x11 = {}, x2 = {}, x3 = {}, x4 = {}, x5 = {}, x6 = {}\", x11, x2, x3, x4, x5, x6);\n",
    "\n",
    "let f1 = 23.12;\n",
    "let f2: f32 = 231f32;\n",
    "let f3 = 23f64;\n",
    "println!(\"f1 = {}, f2 = {}, f3 = {}\", f1, f2, f3);\n",
    "\n",
    "let b1 = !false;\n",
    "println!(\"b1 = {}\", b1);\n",
    "\n",
    "let c1 = '\\u{1F408}';\n",
    "println!(\"c1 = {} \", c1);\n",
    "\n",
    "println!(\"(1..5):\");\n",
    "for i in 1..5 {\n",
    "    print!(\" {} \", i);\n",
    "}\n",
    "println!();\n",
    "\n",
    "println!(\"(1..5).rev:\");\n",
    "for i in (1..5).rev() {\n",
    "    print!(\" {} \", i);\n",
    "}\n",
    "println!();\n",
    "\n",
    "let sum: i8 = (1..=5).sum();\n",
    "println!(\"(1..=5) sum = {sum}\");\n"
   ]
  },
  {
   "cell_type": "markdown",
   "id": "3a01e996",
   "metadata": {},
   "source": [
    "## 复杂数据类型"
   ]
  },
  {
   "cell_type": "markdown",
   "id": "1011a4ac",
   "metadata": {},
   "source": [
    "### 元组\n",
    "长度固定,元素类型可以不同。"
   ]
  },
  {
   "cell_type": "code",
   "execution_count": 10,
   "id": "6b232e0b",
   "metadata": {
    "vscode": {
     "languageId": "rust"
    }
   },
   "outputs": [
    {
     "name": "stdout",
     "output_type": "stream",
     "text": [
      "(100,) false\n",
      "x = 12, y = 23.12, z = true\n"
     ]
    }
   ],
   "source": [
    "let tup1: (i8, f32, bool) = (12, 23.12, true);\n",
    "let tup2 = (7.7, (false, 10));\n",
    "// 一元组需要有,\n",
    "let tup3 = (100,);\n",
    "let (x, y, z) = tup1;\n",
    "println!(\"{:?} {:?}\", tup3, tup2.1.0);\n",
    "println!(\"x = {x}, y = {y}, z = {z}\");\n"
   ]
  },
  {
   "cell_type": "markdown",
   "id": "bab9c44f",
   "metadata": {},
   "source": [
    "### 数组 \n",
    "类型相同，长度固定。"
   ]
  },
  {
   "cell_type": "code",
   "execution_count": 26,
   "id": "6c109879",
   "metadata": {
    "vscode": {
     "languageId": "rust"
    }
   },
   "outputs": [
    {
     "name": "stdout",
     "output_type": "stream",
     "text": [
      "[6, 7, 8, 9]\n",
      "[2, 2, 2]\n"
     ]
    },
    {
     "name": "stdout",
     "output_type": "stream",
     "text": [
      "[1, 2, 3, 4, 5]\n",
      "5\n"
     ]
    }
   ],
   "source": [
    "let arr1: [i32; 5] = [1, 2, 3, 4, 5];\n",
    "let arr2 = [6, 7, 8, 9];\n",
    "let arr3 = [2; 3];\n",
    "println!(\"{:?}\", arr2);\n",
    "println!(\"{:?}\", arr3);\n",
    "println!(\"{arr1:?}\");\n",
    "println!(\"{}\", arr1[4]);\n"
   ]
  },
  {
   "cell_type": "markdown",
   "id": "1083c04e",
   "metadata": {},
   "source": [
    "## 结构体\n",
    "字段类型确定\n",
    "不能类型推导  \n",
    "实例默认不可变，不允许只将部分字段标记为可变。\n"
   ]
  },
  {
   "cell_type": "code",
   "execution_count": 76,
   "id": "b645b852",
   "metadata": {
    "vscode": {
     "languageId": "rust"
    }
   },
   "outputs": [
    {
     "name": "stdout",
     "output_type": "stream",
     "text": [
      "student Student { name: \"King\", score: 90 }\n",
      "student name: Dreamer, score: 90\n"
     ]
    },
    {
     "name": "stdout",
     "output_type": "stream",
     "text": [
      "Color(0, 0, 0)\n"
     ]
    }
   ],
   "source": [
    "struct ListNode {\n",
    "    val: i32,\n",
    "    next: Option<Box<ListNode>>,\n",
    "}\n",
    "\n",
    "#[derive(Debug)]\n",
    "struct Student {\n",
    "    name: &'static str,\n",
    "    score: i32,\n",
    "}\n",
    "\n",
    "let score = 89;\n",
    "let userName = \"King\";\n",
    "let mut student = Student {\n",
    "    score,\n",
    "    name: userName,\n",
    "};\n",
    "\n",
    "student.score = 90;\n",
    "println!(\"student {:?}\", student);\n",
    "\n",
    "let student2 = Student {\n",
    "    name: \"Dreamer\",\n",
    "    ..student\n",
    "};\n",
    "println!(\"student name: {}, score: {}\", student2.name, student2.score);\n",
    "\n",
    "#[derive(Debug)]\n",
    "struct Color(i32, i32, i32);\n",
    "let black = Color(0, 0, 0);\n",
    "println!(\"{:?}\", black);\n"
   ]
  },
  {
   "cell_type": "markdown",
   "id": "7405485a",
   "metadata": {},
   "source": [
    "## 枚举类型 \n",
    "无参枚举类型/有参枚举类型"
   ]
  },
  {
   "cell_type": "code",
   "execution_count": 91,
   "id": "3b9b1e67",
   "metadata": {
    "vscode": {
     "languageId": "rust"
    }
   },
   "outputs": [
    {
     "name": "stdout",
     "output_type": "stream",
     "text": [
      "Green\n",
      "Blue(\"0x0000ff\")\n"
     ]
    },
    {
     "name": "stdout",
     "output_type": "stream",
     "text": [
      "Red(\"0xff0000\")\n"
     ]
    }
   ],
   "source": [
    "#[derive(Debug)]\n",
    "enum Color {\n",
    "    Red,\n",
    "    Green,\n",
    "    Blue,\n",
    "}\n",
    "\n",
    "let c1 = Color::Green;\n",
    "\n",
    "println!(\"{:?}\", c1);\n",
    "\n",
    "#[derive(Debug)]\n",
    "enum ColorType {\n",
    "    Red(String),\n",
    "    Green(String),\n",
    "    Blue(String),\n",
    "}\n",
    "\n",
    "let c2 = ColorType::Blue(String::from(\"0x0000ff\"));\n",
    "let c3 = ColorType::Red(String::from(\"0xff0000\"));\n",
    "\n",
    "println!(\"{:?}\", c2);\n",
    "println!(\"{:?}\", c3);\n"
   ]
  },
  {
   "cell_type": "markdown",
   "id": "16580ec5",
   "metadata": {},
   "source": [
    "## 容器类型  \n",
    "- Vec<T> 连续存储的可变长数组\n",
    "- VecDeque<T> 连续存储的可变长双端队列\n",
    "- LinkedList<T> 非连续存储的双向链表\n",
    "- HashMap<K, V> 无序键值对\n",
    "- BTreeMap<K, V> 有序键值对\n",
    "- HashSet<T> 基于哈希表的无序集合\n",
    "- BTreeSet<T> 基于B树的有序集合\n",
    "- BinaryHeap<T> 基于二叉堆的优先队列"
   ]
  },
  {
   "cell_type": "markdown",
   "id": "cae67b78",
   "metadata": {},
   "source": [
    "### 动态数组\n",
    "长度可以增长或缩小,元素类型相同。"
   ]
  },
  {
   "cell_type": "code",
   "execution_count": 2,
   "id": "727170fb",
   "metadata": {
    "vscode": {
     "languageId": "rust"
    }
   },
   "outputs": [
    {
     "name": "stdout",
     "output_type": "stream",
     "text": [
      "v1 = []\n",
      "v2 = []\n"
     ]
    },
    {
     "name": "stdout",
     "output_type": "stream",
     "text": [
      "v3 = []\n",
      "v5 = [3, 3, 3, 3, 3]\n",
      "v5[2] = 3, v5.get(3) = None,  v5.get(6) = Some(3)\n",
      "v5: 3  3  3  3  3 \n",
      "v3 = [2, 3]\n",
      "v5 = [3, 3, 6, 3, 3]\n",
      "v5.pop() = Some(3)\n",
      "v5 = [3, 3, 6, 3]\n",
      "v5.remove(2) = 6\n",
      "v5 = [3, 3, 3]\n",
      "v5: 6  6  6 \n"
     ]
    }
   ],
   "source": [
    "let mut v1: Vec<i32> = Vec::new();\n",
    "let mut v2: Vec<f32> = Vec::with_capacity(10);\n",
    "let mut v3: Vec<i8> = vec![];\n",
    "let mut v4 = vec![1, 2, 3];\n",
    "let mut v5 = vec![3; 5];\n",
    "println!(\"v1 = {v1:?}\");\n",
    "println!(\"v2 = {v2:?}\");\n",
    "println!(\"v3 = {v3:?}\");\n",
    "println!(\"v5 = {v5:?}\");\n",
    "println!(\"v5[2] = {}, v5.get(3) = {:?},  v5.get(6) = {:?}\", v5[2], v5.get(6), v5.get(3));\n",
    "print!(\"v5:\");\n",
    "for i in &v5 {\n",
    "    print!(\" {} \", i);\n",
    "}\n",
    "println!();\n",
    "v3.push(2);\n",
    "v3.push(3);\n",
    "println!(\"v3 = {v3:?}\");\n",
    "v5[2] = 6;\n",
    "println!(\"v5 = {v5:?}\");\n",
    "println!(\"v5.pop() = {:?}\", v5.pop());\n",
    "println!(\"v5 = {v5:?}\");\n",
    "println!(\"v5.remove(2) = {}\", v5.remove(2));\n",
    "println!(\"v5 = {v5:?}\");\n",
    "\n",
    "for i in &mut v5 {\n",
    "    *i *= 2;\n",
    "}\n",
    "\n",
    "print!(\"v5:\");\n",
    "for i in &v5 {\n",
    "    print!(\" {} \", i);\n",
    "}\n",
    "println!();\n"
   ]
  },
  {
   "cell_type": "markdown",
   "id": "b2de278c",
   "metadata": {},
   "source": [
    "## 双端队列\n"
   ]
  },
  {
   "cell_type": "code",
   "execution_count": 23,
   "id": "c8696d5b",
   "metadata": {
    "vscode": {
     "languageId": "rust"
    }
   },
   "outputs": [
    {
     "name": "stdout",
     "output_type": "stream",
     "text": [
      "[5, 4, 1, 2, 3]\n",
      "1\n",
      "Some(5)\n"
     ]
    },
    {
     "name": "stdout",
     "output_type": "stream",
     "text": [
      "None\n",
      "Some(1) > [5, 4, 2, 3]\n",
      "Some(4) > [5, 2, 3]\n",
      "None > [5, 2, 3]\n",
      "[1, 23, 3]\n",
      "Some(3)\n",
      "[1]\n"
     ]
    }
   ],
   "source": [
    "use std::collections::VecDeque;\n",
    "\n",
    "let mut v: VecDeque<u32> = VecDeque::new();\n",
    "v.push_back(1);\n",
    "v.push_back(2);\n",
    "v.push_back(3);\n",
    "v.push_front(4);\n",
    "v.push_front(5);\n",
    "println!(\"{:?}\", v);\n",
    "println!(\"{:?}\", v[2]);\n",
    "println!(\"{:?}\", v.get(0));\n",
    "println!(\"{:?}\", v.get(5));\n",
    "println!(\"{:?} > {:?}\", v.remove(2), v);\n",
    "println!(\"{:?} > {:?}\", v.remove(1), v);\n",
    "println!(\"{:?} > {:?}\", v.remove(3), v);\n",
    "\n",
    "let mut v2: VecDeque<i32> = VecDeque::with_capacity(10);\n",
    "v2.push_back(1);\n",
    "v2.push_back(2);\n",
    "v2.push_back(3);\n",
    "\n",
    "v2[1] = 23;\n",
    "println!(\"{:?}\", v2);\n",
    "let p1 = v2.pop_back();\n",
    "v2.pop_back();\n",
    "println!(\"{:?}\", p1);\n",
    "println!(\"{:?}\", v2);\n"
   ]
  },
  {
   "cell_type": "code",
   "execution_count": 33,
   "id": "a1a07731",
   "metadata": {
    "vscode": {
     "languageId": "rust"
    }
   },
   "outputs": [
    {
     "name": "stdout",
     "output_type": "stream",
     "text": [
      "23\n",
      "None\n"
     ]
    },
    {
     "name": "stdout",
     "output_type": "stream",
     "text": [
      "{\"Dreamer\": 32, \"King12\": 33, \"King\": 23}\n",
      "{\"Dreamer\": 34, \"King12\": 35, \"King\": 25}\n",
      "{\"Dreamer\": 34, \"King\": 25}\n",
      "Some(35)\n"
     ]
    }
   ],
   "source": [
    "use std::collections::HashMap;\n",
    "let mut m1: HashMap<&str, i32> = HashMap::new();\n",
    "let mut m2: HashMap<&str, f32> = HashMap::with_capacity(5);\n",
    "m1.insert(\"King\", 23);\n",
    "m1.insert(\"Dreamer\", 32);\n",
    "m1.entry(\"King\").or_insert(33);\n",
    "m1.entry(\"King12\").or_insert(33);\n",
    "println!(\"{:?}\", m1[\"King\"]);\n",
    "// println!(\"{:?}\", m1[\"King2\"]);\n",
    "println!(\"{:?}\", m1.get(\"King2\"));\n",
    "println!(\"{:?}\", m1);\n",
    "\n",
    "for (_, val) in m1.iter_mut() {\n",
    "    *val += 2;\n",
    "}\n",
    "\n",
    "println!(\"{:?}\", m1);\n",
    "let r = m1.remove(\"King12\");\n",
    "println!(\"{:?}\", m1);\n",
    "println!(\"{:?}\", r);\n"
   ]
  },
  {
   "cell_type": "markdown",
   "id": "879ede74",
   "metadata": {},
   "source": [
    "## 字符串\n"
   ]
  },
  {
   "cell_type": "code",
   "execution_count": 59,
   "id": "44ded792",
   "metadata": {
    "vscode": {
     "languageId": "rust"
    }
   },
   "outputs": [
    {
     "name": "stdout",
     "output_type": "stream",
     "text": [
      "s1 = Hello, s2 = Hello\n",
      " : Hi! | Rust is Best!\n"
     ]
    },
    {
     "name": "stdout",
     "output_type": "stream",
     "text": [
      "s3 = I'm as god\n",
      "s3 = I'm nas god\n",
      "s3 = I'm nas best  god\n"
     ]
    }
   ],
   "source": [
    "let s1 = \"Hello\";\n",
    "let str = String::from(\"Hi, Rust!\");\n",
    "// let s2 = str.as_str();\n",
    "println!(\"s1 = {s1}, s2 = {s1}\");\n",
    "\n",
    "let mut s3 = String::new();\n",
    "let s4 = String::from(\"Hi!\");\n",
    "let str = \"Rust is Best!\";\n",
    "let s5 = str.to_string();\n",
    "\n",
    "println!(\"{s3} : {s4} | {s5}\");\n",
    "s3.push_str(\"I'm as god\");\n",
    "println!(\"s3 = {s3}\");\n",
    "s3.insert(4, 'n');\n",
    "println!(\"s3 = {s3}\");\n",
    "s3.insert_str(7, \" best \");\n",
    "println!(\"s3 = {s3}\");\n"
   ]
  },
  {
   "cell_type": "markdown",
   "id": "60869853",
   "metadata": {},
   "source": [
    "## 泛型\n",
    "具体类型或其他属性的替代。  \n",
    "`单态化` 在编译期将泛型代码转换为具有特定类型代码的过程，它会将所有使用过的具体类型填入泛型参数从而得到具体类型的代码。  \n",
    "使用泛型与不使用泛型在运行性能上没有速度差异。\n",
    "\n",
    "自定义类型、函数和方法中使用泛型。"
   ]
  },
  {
   "cell_type": "code",
   "execution_count": 12,
   "id": "e26d91de",
   "metadata": {
    "vscode": {
     "languageId": "rust"
    }
   },
   "outputs": [
    {
     "name": "stdout",
     "output_type": "stream",
     "text": [
      "max is 99\n"
     ]
    }
   ],
   "source": [
    "fn largest(numbers: &[i32]) -> i32 {\n",
    "    let mut max = numbers[0];\n",
    "    for &num in numbers {\n",
    "        if num > max {\n",
    "            max = num;\n",
    "        }\n",
    "    }\n",
    "    max\n",
    "}\n",
    "\n",
    "let numbers = vec![34, 50, 32, 23, 65, 99, 88];\n",
    "let max = largest(&numbers);\n",
    "println!(\"max is {max}\");\n"
   ]
  },
  {
   "cell_type": "code",
   "execution_count": 63,
   "id": "17642c32",
   "metadata": {
    "vscode": {
     "languageId": "rust"
    }
   },
   "outputs": [
    {
     "name": "stdout",
     "output_type": "stream",
     "text": [
      "max is 99\n",
      "max char is y\n"
     ]
    }
   ],
   "source": [
    "use std::cmp::PartialOrd;\n",
    "\n",
    "fn largest<T: PartialOrd + Copy>(list: &[T]) -> T {\n",
    "    let mut max = list[0];\n",
    "    for &num in list.iter() {\n",
    "        if num > max {\n",
    "            max = num;\n",
    "        }\n",
    "    }\n",
    "    max\n",
    "}\n",
    "\n",
    "let numbers = vec![34, 50, 32, 23, 65, 99, 88];\n",
    "let max = largest(&numbers);\n",
    "println!(\"max is {max}\");\n",
    "\n",
    "let chars = vec!['y', 'a', 'e', 'b'];\n",
    "let max_char = largest(&chars);\n",
    "println!(\"max char is {max_char}\");\n"
   ]
  },
  {
   "cell_type": "code",
   "execution_count": 5,
   "id": "bbeb764a",
   "metadata": {
    "vscode": {
     "languageId": "rust"
    }
   },
   "outputs": [
    {
     "name": "stdout",
     "output_type": "stream",
     "text": [
      "Point { x: 5, y: 10 }\n",
      "Point { x: 2.3, y: 3.6 }\n",
      "Point { x: 3, y: 2.3 }\n",
      "5 10\n",
      "Point { x: 5, y: 3.6 }\n"
     ]
    }
   ],
   "source": [
    "#[derive(Debug)]\n",
    "struct Point<T, P> {\n",
    "    x: T,\n",
    "    y: P,\n",
    "}\n",
    "\n",
    "impl<T, P> Point<T, P> {\n",
    "    fn mixup<V, W>(self, other: Point<V, W>) -> Point<T, W> {\n",
    "        Point {\n",
    "            x: self.x,\n",
    "            y: other.y,\n",
    "        }\n",
    "    }\n",
    "}\n",
    "\n",
    "let p1 = Point { x: 5, y: 10 };\n",
    "let p2 = Point { x: 2.3, y: 3.6 };\n",
    "let p3 = Point { x: 3, y: 2.3 };\n",
    "println!(\"{:?}\", p1);\n",
    "println!(\"{:?}\", p2);\n",
    "println!(\"{:?}\", p3);\n",
    "println!(\"{} {}\", p1.x, p1.y);\n",
    "\n",
    "let px = p1.mixup(p2);\n",
    "\n",
    "println!(\"{px:?}\");\n"
   ]
  },
  {
   "cell_type": "code",
   "execution_count": null,
   "id": "2708ab83",
   "metadata": {
    "vscode": {
     "languageId": "rust"
    }
   },
   "outputs": [],
   "source": [
    "enum Option<T> {\n",
    "    Some(T),\n",
    "    None,\n",
    "}\n",
    "\n",
    "enum Result<T, E> {\n",
    "    Ok(T),\n",
    "    Err(E),\n",
    "}\n"
   ]
  },
  {
   "cell_type": "code",
   "execution_count": 33,
   "id": "ccf4fabb",
   "metadata": {
    "vscode": {
     "languageId": "rust"
    }
   },
   "outputs": [
    {
     "name": "stdout",
     "output_type": "stream",
     "text": [
      "p.x = 12 and p.x() = 12\n"
     ]
    },
    {
     "name": "stdout",
     "output_type": "stream",
     "text": [
      "p.y = 21\n"
     ]
    }
   ],
   "source": [
    "struct Point<T> {\n",
    "    x: T,\n",
    "    y: T,\n",
    "}\n",
    "\n",
    "impl<T> Point<T> {\n",
    "    fn x(&self) -> &T {\n",
    "        &self.x\n",
    "    }\n",
    "}\n",
    "\n",
    "let p = Point { x: 12, y: 21 };\n",
    "println!(\"p.x = {} and p.x() = {}\", p.x, p.x());\n",
    "println!(\"p.y = {}\", p.y);\n"
   ]
  },
  {
   "cell_type": "markdown",
   "id": "af93c755",
   "metadata": {},
   "source": [
    "## trait\n",
    "定义通用行为  用来描述某些特定类型拥有的且能够被其他类型共享的功能。以一种抽象的方式来定义共享行为。\n",
    "定义泛型时使用trait可将其限制为拥有某些特定行为的类型，而不是任意类型。\n",
    "\n",
    "孤儿规则  程序一致性规则的组成部分，确保其他人编写的代码不会破坏你的代码。\n",
    "只有当trait或类型定义在当前库中才能为该类型实现对应的trait。不能为外部的类型实现外部的trait。"
   ]
  },
  {
   "cell_type": "code",
   "execution_count": 2,
   "id": "47bf3ace",
   "metadata": {
    "vscode": {
     "languageId": "rust"
    }
   },
   "outputs": [
    {
     "name": "stdout",
     "output_type": "stream",
     "text": [
      "Read more from @King ...\n",
      "Penguins win the Stanley Cup Championship!, by King (梦想小镇)\n",
      "Breaking news! Penguins win the Stanley Cup Championship!, by King (梦想小镇)\n"
     ]
    }
   ],
   "source": [
    "pub trait Summary {\n",
    "    fn summarize_author(&self) -> String;\n",
    "    fn summarize(&self) -> String {\n",
    "        format!(\"Read more from {} ...\", self.summarize_author())\n",
    "    }\n",
    "}\n",
    "\n",
    "pub struct NewArticle {\n",
    "    pub headline: String,\n",
    "    pub location: String,\n",
    "    pub author: String,\n",
    "    pub content: String,\n",
    "}\n",
    "\n",
    "impl Summary for NewArticle {\n",
    "    fn summarize_author(&self) -> String {\n",
    "        format!(\"{}\", self.author)\n",
    "    }\n",
    "    fn summarize(&self) -> String {\n",
    "        format!(\"{}, by {} ({})\", self.headline, self.author, self.location)\n",
    "    }\n",
    "}\n",
    "\n",
    "pub struct Tweet {\n",
    "    pub username: String,\n",
    "    pub content: String,\n",
    "    pub reply: bool,\n",
    "    pub retweet: bool,\n",
    "}\n",
    "\n",
    "impl Summary for Tweet {\n",
    "    /* fn summarize(&self) -> String {\n",
    "    format!(\"{} : {}\", self.username, self.content)\n",
    "  } */\n",
    "\n",
    "    fn summarize_author(&self) -> String {\n",
    "        format!(\"@{}\", self.username)\n",
    "    }\n",
    "}\n",
    "\n",
    "/* pub fn notify(item: impl Summary) {\n",
    "  println!(\"Breaking news! {}\", item.summarize());\n",
    "} */\n",
    "\n",
    "pub fn notify<T: Summary>(item: T) {\n",
    "    println!(\"Breaking news! {}\", item.summarize());\n",
    "}\n",
    "/*\n",
    "pub fn summarizable() -> impl Summary {\n",
    "  NewArticle {\n",
    "    headline: String::from(\"Penguins win the Stanley Cup Championship!\"),\n",
    "    location: String::from(\"梦想小镇\"),\n",
    "    author: String::from(\"King\"),\n",
    "    content: String::from(\"Haha!\"),\n",
    "  }\n",
    "} */\n",
    "\n",
    "let tweet = Tweet {\n",
    "    username: String::from(\"King\"),\n",
    "    content: String::from(\"Learn Rust\"),\n",
    "    reply: false,\n",
    "    retweet: false,\n",
    "};\n",
    "\n",
    "println!(\"{}\", tweet.summarize());\n",
    "\n",
    "let article = NewArticle {\n",
    "    headline: String::from(\"Penguins win the Stanley Cup Championship!\"),\n",
    "    location: String::from(\"梦想小镇\"),\n",
    "    author: String::from(\"King\"),\n",
    "    content: String::from(\"Haha!\"),\n",
    "};\n",
    "\n",
    "println!(\"{}\", article.summarize());\n",
    "\n",
    "notify(article);\n",
    "// notify(tweet);\n",
    "\n",
    "// let t: Box<dyn Summary> = Box::new(summarizable());\n",
    "// println!(\"{:?}\",t.summarize());\n"
   ]
  },
  {
   "cell_type": "markdown",
   "id": "3550f5b3",
   "metadata": {},
   "source": [
    "使用trait作为参数"
   ]
  },
  {
   "cell_type": "code",
   "execution_count": null,
   "id": "be7625c9",
   "metadata": {
    "vscode": {
     "languageId": "rust"
    }
   },
   "outputs": [],
   "source": [
    "pub fn notify(item: impl Summary + Dispaly) {}\n",
    "\n",
    "pub fn notify<T: Summary + Display>(item: T) {}\n",
    "\n",
    "fn some_function<T: Display + Clone, U: Clone + Debug>(t: T, u: U) -> i32 {}\n",
    "\n",
    "fn some_function<T, U>(t: T, u: U) -> i32 where T: Display + Clone, U: Clone + Debug {}\n"
   ]
  },
  {
   "cell_type": "code",
   "execution_count": null,
   "id": "0d42bf86",
   "metadata": {
    "vscode": {
     "languageId": "rust"
    }
   },
   "outputs": [],
   "source": [
    "fn return_summarizable() -> impl Summary {}\n"
   ]
  },
  {
   "cell_type": "code",
   "execution_count": 7,
   "metadata": {
    "vscode": {
     "languageId": "rust"
    }
   },
   "outputs": [
    {
     "name": "stdout",
     "output_type": "stream",
     "text": [
      "The largest member is y = 36\n"
     ]
    },
    {
     "name": "stdout",
     "output_type": "stream",
     "text": [
      "Pair { x: 23, y: 36 }\n"
     ]
    }
   ],
   "source": [
    "use std::fmt::Display;\n",
    "\n",
    "#[derive(Debug)]\n",
    "struct Pair<T> {\n",
    "    x: T,\n",
    "    y: T,\n",
    "}\n",
    "\n",
    "impl<T> Pair<T> {\n",
    "    fn new(x: T, y: T) -> Self {\n",
    "        Self {\n",
    "            x,\n",
    "            y,\n",
    "        }\n",
    "    }\n",
    "}\n",
    "\n",
    "impl<T: Display + PartialOrd> Pair<T> {\n",
    "    fn cmp_dispaly(&self) {\n",
    "        if self.x >= self.y {\n",
    "            println!(\"The largest member is x = {}\", self.x);\n",
    "        } else {\n",
    "            println!(\"The largest member is y = {}\", self.y);\n",
    "        }\n",
    "    }\n",
    "}\n",
    "\n",
    "let p = Pair {\n",
    "    x: 23,\n",
    "    y: 36,\n",
    "};\n",
    "\n",
    "p.cmp_dispaly();\n",
    "\n",
    "println!(\"{:?}\", p);\n"
   ]
  },
  {
   "cell_type": "markdown",
   "id": "8ea3543c",
   "metadata": {},
   "source": [
    "## 生命周期  \n",
    "借用检查器  比较不同作用域并确定所有借用的合法性。  \n",
    "生命周期标注并不会改变任何引用的生命周期长度。描述多个引用生命周期之间的关系。参数以`'`开头,放在`&`引用运算符之后，并通过空格分隔标注和引用类型。 任何引用都有一个生命周期，并且需要为使用生命周期的函数和结构体指定生命周期参数。  \n",
    "\n",
    "生命周期自动推导  \n",
    "\n",
    "生命周期省略规则:\n",
    "- 每个引用参数都会拥有自己的生命周期参数。\n",
    "- 当只存在一个输入生命周期参数时，这个生命周期参数会被赋予给所有输出生命周期参数。\n",
    "- 当拥有多个输入生命周期参数，而其中一个是&self或&mut self时，self的生命周期参数会被赋予给所有输出生命周期参数。(适用方法签名，使方法更加易于阅读和编写)\n",
    "\n",
    "声明和使用生命周期参数的位置取决于它们与结构体字段相关，还是与方法参数、返回值相关。结构体字段中的生命周期名称总是需要声明在impl关键字之后，并被用于结构体名称之后。\n",
    "在impl代码块的方法签名中，引用可能是独立的，也可能会与结构体字段中的引用的生命周期相关联。生命周期的省略规则在大部分情况下都可以免去方法签名中的生命周期标注。  \n",
    "\n",
    "静态生命周期 'static 表示整个程序的执行期。所有字符串字面量都拥有‘static生命周期。\n",
    "\n",
    "悬垂引用、生命周期不匹配"
   ]
  },
  {
   "cell_type": "code",
   "execution_count": 8,
   "id": "b42b45da",
   "metadata": {
    "vscode": {
     "languageId": "rust"
    }
   },
   "outputs": [
    {
     "ename": "Error",
     "evalue": "`x` does not live long enough",
     "output_type": "error",
     "traceback": [
      "\u001b[31m[E0597] Error:\u001b[0m `x` does not live long enough",
      "   \u001b[38;5;246m╭\u001b[0m\u001b[38;5;246m─\u001b[0m\u001b[38;5;246m[\u001b[0mcommand_8:1:1\u001b[38;5;246m]\u001b[0m",
      "   \u001b[38;5;246m│\u001b[0m",
      " \u001b[38;5;246m4 │\u001b[0m \u001b[38;5;249m \u001b[0m\u001b[38;5;249m \u001b[0m\u001b[38;5;249m \u001b[0m\u001b[38;5;249m \u001b[0m\u001b[38;5;249m \u001b[0m\u001b[38;5;249m \u001b[0m\u001b[38;5;249m \u001b[0m\u001b[38;5;249m \u001b[0m\u001b[38;5;249ml\u001b[0m\u001b[38;5;249me\u001b[0m\u001b[38;5;249mt\u001b[0m\u001b[38;5;249m \u001b[0m\u001b[38;5;68mx\u001b[0m\u001b[38;5;249m \u001b[0m\u001b[38;5;249m=\u001b[0m\u001b[38;5;249m \u001b[0m\u001b[38;5;249m1\u001b[0m\u001b[38;5;249m2\u001b[0m\u001b[38;5;249m;\u001b[0m",
      " \u001b[38;5;240m  │\u001b[0m             \u001b[38;5;68m┬\u001b[0m  ",
      " \u001b[38;5;240m  │\u001b[0m             \u001b[38;5;68m╰\u001b[0m\u001b[38;5;68m─\u001b[0m\u001b[38;5;68m─\u001b[0m binding `x` declared here",
      " \u001b[38;5;246m5 │\u001b[0m \u001b[38;5;249m \u001b[0m\u001b[38;5;249m \u001b[0m\u001b[38;5;249m \u001b[0m\u001b[38;5;249m \u001b[0m\u001b[38;5;249m \u001b[0m\u001b[38;5;249m \u001b[0m\u001b[38;5;249m \u001b[0m\u001b[38;5;249m \u001b[0m\u001b[38;5;249mr\u001b[0m\u001b[38;5;249m \u001b[0m\u001b[38;5;249m=\u001b[0m\u001b[38;5;249m \u001b[0m\u001b[38;5;54m&\u001b[0m\u001b[38;5;54mx\u001b[0m\u001b[38;5;249m;\u001b[0m",
      " \u001b[38;5;240m  │\u001b[0m             \u001b[38;5;54m─\u001b[0m\u001b[38;5;54m┬\u001b[0m  ",
      " \u001b[38;5;240m  │\u001b[0m              \u001b[38;5;54m╰\u001b[0m\u001b[38;5;54m─\u001b[0m\u001b[38;5;54m─\u001b[0m borrowed value does not live long enough",
      " \u001b[38;5;246m6 │\u001b[0m \u001b[38;5;249m \u001b[0m\u001b[38;5;249m \u001b[0m\u001b[38;5;249m \u001b[0m\u001b[38;5;249m \u001b[0m\u001b[38;5;100m}\u001b[0m",
      " \u001b[38;5;240m  │\u001b[0m     \u001b[38;5;100m┬\u001b[0m  ",
      " \u001b[38;5;240m  │\u001b[0m     \u001b[38;5;100m╰\u001b[0m\u001b[38;5;100m─\u001b[0m\u001b[38;5;100m─\u001b[0m `x` dropped here while still borrowed",
      " \u001b[38;5;246m7 │\u001b[0m \u001b[38;5;249m \u001b[0m\u001b[38;5;249m \u001b[0m\u001b[38;5;249m \u001b[0m\u001b[38;5;249m \u001b[0m\u001b[38;5;249mp\u001b[0m\u001b[38;5;249mr\u001b[0m\u001b[38;5;249mi\u001b[0m\u001b[38;5;249mn\u001b[0m\u001b[38;5;249mt\u001b[0m\u001b[38;5;249ml\u001b[0m\u001b[38;5;249mn\u001b[0m\u001b[38;5;249m!\u001b[0m\u001b[38;5;249m(\u001b[0m\u001b[38;5;249m\"\u001b[0m\u001b[38;5;249mr\u001b[0m\u001b[38;5;249m \u001b[0m\u001b[38;5;249m=\u001b[0m\u001b[38;5;249m \u001b[0m\u001b[38;5;249m{\u001b[0m\u001b[38;5;249m}\u001b[0m\u001b[38;5;249m \u001b[0m\u001b[38;5;249m\"\u001b[0m\u001b[38;5;249m,\u001b[0m\u001b[38;5;249m \u001b[0m\u001b[38;5;37mr\u001b[0m\u001b[38;5;249m)\u001b[0m\u001b[38;5;249m;\u001b[0m",
      " \u001b[38;5;240m  │\u001b[0m                         \u001b[38;5;37m┬\u001b[0m  ",
      " \u001b[38;5;240m  │\u001b[0m                         \u001b[38;5;37m╰\u001b[0m\u001b[38;5;37m─\u001b[0m\u001b[38;5;37m─\u001b[0m borrow later used here",
      "\u001b[38;5;246m───╯\u001b[0m"
     ]
    }
   ],
   "source": [
    "{\n",
    "    let r;\n",
    "    {\n",
    "        let x = 12;\n",
    "        r = &x;\n",
    "    }\n",
    "    println!(\"r = {} \", r);\n",
    "}\n"
   ]
  },
  {
   "cell_type": "code",
   "execution_count": 12,
   "id": "9524b8d6",
   "metadata": {
    "vscode": {
     "languageId": "rust"
    }
   },
   "outputs": [
    {
     "name": "stdout",
     "output_type": "stream",
     "text": [
      "r = 12 \n"
     ]
    },
    {
     "data": {
      "text/plain": [
       "()"
      ]
     },
     "execution_count": 12,
     "metadata": {},
     "output_type": "execute_result"
    }
   ],
   "source": [
    "{\n",
    "    let x = 12;\n",
    "    let r;\n",
    "    // println!(\"r = {} \", r);\n",
    "    r = &x;\n",
    "    println!(\"r = {} \", r);\n",
    "}\n"
   ]
  },
  {
   "cell_type": "code",
   "execution_count": 24,
   "id": "fcb8bb5a",
   "metadata": {
    "vscode": {
     "languageId": "rust"
    }
   },
   "outputs": [
    {
     "name": "stdout",
     "output_type": "stream",
     "text": [
      "The longest string is abcd \n"
     ]
    }
   ],
   "source": [
    "let str1 = String::from(\"abcd\");\n",
    "{\n",
    "    let str2 = String::from(\"xyz\");\n",
    "    let result = longest(str1.as_str(), str2.as_str());\n",
    "    println!(\"The longest string is {} \", result);\n",
    "}\n",
    "\n",
    "// println!(\"The longest string is {} \", result);\n",
    "\n",
    "fn longest<'a>(x: &'a str, y: &'a str) -> &'a str {\n",
    "    if x.len() > y.len() { x } else { y }\n",
    "}\n"
   ]
  },
  {
   "cell_type": "code",
   "execution_count": 15,
   "id": "5aed9a21",
   "metadata": {
    "vscode": {
     "languageId": "rust"
    }
   },
   "outputs": [
    {
     "ename": "Error",
     "evalue": "expected one of `!`, `.`, `::`, `;`, `?`, `{`, `}`, or an operator, found `x`",
     "output_type": "error",
     "traceback": [
      "\u001b[31mError:\u001b[0m expected one of `!`, `.`, `::`, `;`, `?`, `{`, `}`, or an operator, found `x`",
      "   \u001b[38;5;246m╭\u001b[0m\u001b[38;5;246m─\u001b[0m\u001b[38;5;246m[\u001b[0mcommand_15:1:1\u001b[38;5;246m]\u001b[0m",
      "   \u001b[38;5;246m│\u001b[0m",
      " \u001b[38;5;246m3 │\u001b[0m \u001b[38;5;249m \u001b[0m\u001b[38;5;249m \u001b[0m\u001b[38;5;249m&\u001b[0m\u001b[38;5;249mi\u001b[0m\u001b[38;5;249m3\u001b[0m\u001b[38;5;249m2\u001b[0m\u001b[38;5;249m \u001b[0m\u001b[38;5;54mx\u001b[0m\u001b[38;5;249m;\u001b[0m",
      " \u001b[38;5;240m  │\u001b[0m        \u001b[38;5;54m┬\u001b[0m  ",
      " \u001b[38;5;240m  │\u001b[0m        \u001b[38;5;54m╰\u001b[0m\u001b[38;5;54m─\u001b[0m\u001b[38;5;54m─\u001b[0m expected one of 8 possible tokens",
      "\u001b[38;5;246m───╯\u001b[0m"
     ]
    }
   ],
   "source": [
    "\n",
    "  &i32 x;\n",
    "&'a i32 x;\n",
    "&'a mut i32 x;\n"
   ]
  },
  {
   "cell_type": "code",
   "execution_count": null,
   "id": "aefd0676",
   "metadata": {
    "vscode": {
     "languageId": "rust"
    }
   },
   "outputs": [],
   "source": [
    "fn longest<'a>(x: &'a str, y: &'a str) -> &'a str {\n",
    "    let result = String::from(\"test\");\n",
    "    result.as_str()\n",
    "}\n",
    "\n",
    "println!(\" {} \", longest(\"abc\", \"cds\"));\n"
   ]
  },
  {
   "cell_type": "code",
   "execution_count": 5,
   "id": "5b0c7ae3",
   "metadata": {
    "vscode": {
     "languageId": "rust"
    }
   },
   "outputs": [
    {
     "name": "stdout",
     "output_type": "stream",
     "text": [
      "Hello\n"
     ]
    }
   ],
   "source": [
    "fn first_word(s: &str) -> &str {\n",
    "    let bytes = s.as_bytes();\n",
    "    for (i, &item) in bytes.iter().enumerate() {\n",
    "        if item == b' ' {\n",
    "            return &s[0..i];\n",
    "        }\n",
    "    }\n",
    "    &s[..]\n",
    "}\n",
    "\n",
    "let result = first_word(\"Hello King\");\n",
    "println!(\"{}\", result);\n"
   ]
  },
  {
   "cell_type": "code",
   "execution_count": 19,
   "id": "295c726a",
   "metadata": {
    "vscode": {
     "languageId": "rust"
    }
   },
   "outputs": [
    {
     "name": "stdout",
     "output_type": "stream",
     "text": [
      "part = hello\n",
      " 32 \n"
     ]
    }
   ],
   "source": [
    "struct ImportantExcept<'a> {\n",
    "    part: &'a str,\n",
    "}\n",
    "\n",
    "impl<'a> ImportantExcept<'a> {\n",
    "    fn level(&self, x: &i32) -> i32 {\n",
    "        println!(\"part = {}\", self.part);\n",
    "        *x\n",
    "    }\n",
    "}\n",
    "\n",
    "let im = ImportantExcept {\n",
    "    part: \"hello\",\n",
    "};\n",
    "\n",
    "println!(\" {} \", im.level(&32));\n"
   ]
  },
  {
   "cell_type": "code",
   "execution_count": 21,
   "id": "3a76333f",
   "metadata": {
    "vscode": {
     "languageId": "rust"
    }
   },
   "outputs": [
    {
     "name": "stdout",
     "output_type": "stream",
     "text": [
      "Hello King\n"
     ]
    }
   ],
   "source": [
    "let s: &'static str = \"Hello King\";\n",
    "println!(\"{}\", s);\n"
   ]
  },
  {
   "cell_type": "code",
   "execution_count": 22,
   "id": "c77f8e2f",
   "metadata": {
    "vscode": {
     "languageId": "rust"
    }
   },
   "outputs": [
    {
     "name": "stdout",
     "output_type": "stream",
     "text": [
      "Announcement! 23\n"
     ]
    },
    {
     "name": "stdout",
     "output_type": "stream",
     "text": [
      "result = Hi dreamer\n"
     ]
    }
   ],
   "source": [
    "use std::fmt::Display;\n",
    "\n",
    "fn longest_with_announcement<'a, T>(x: &'a str, y: &'a str, ann: T) -> &'a str where T: Display {\n",
    "    println!(\"Announcement! {}\", ann);\n",
    "\n",
    "    if x.len() > y.len() {\n",
    "        x\n",
    "    } else {\n",
    "        y\n",
    "    }\n",
    "}\n",
    "\n",
    "let result = longest_with_announcement(\"Hello King\", \"Hi dreamer\", 23);\n",
    "println!(\"result = {}\", result);\n"
   ]
  }
 ],
 "metadata": {
  "kernelspec": {
   "display_name": "Rust",
   "language": "rust",
   "name": "rust"
  },
  "language_info": {
   "codemirror_mode": "rust",
   "file_extension": ".rs",
   "mimetype": "text/rust",
   "name": "Rust",
   "pygment_lexer": "rust",
   "version": ""
  }
 },
 "nbformat": 4,
 "nbformat_minor": 5
}
