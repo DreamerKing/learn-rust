{
 "cells": [
  {
   "cell_type": "markdown",
   "id": "ce47e313",
   "metadata": {},
   "source": [
    "# 变量与数据类型\n",
    "数据结构 存储和组织数据的方式 \n",
    "- 动态数组 \n",
    "- 映射 \n",
    "- 字符串"
   ]
  },
  {
   "cell_type": "markdown",
   "id": "059bb034",
   "metadata": {},
   "source": [
    "## 变量 \n",
    "- 标识符与值的绑定\n",
    "- 默认不可变\n",
    "- 先声明后使用\n",
    "- 自动类型推导\n",
    "- 类型标注\n",
    "- 下划线开头的变量名会被类型检查忽略\n",
    "\n",
    "变量遮蔽  重复声明同名变量会遮蔽前一个同名变量 不同的内存空间 值以及类型都可以不同"
   ]
  },
  {
   "cell_type": "code",
   "execution_count": 16,
   "id": "f6e339c0-1295-4d8a-a39b-872a0415e994",
   "metadata": {
    "vscode": {
     "languageId": "rust"
    }
   },
   "outputs": [
    {
     "name": "stdout",
     "output_type": "stream",
     "text": [
      "23\n"
     ]
    },
    {
     "name": "stdout",
     "output_type": "stream",
     "text": [
      "x = 32, y = 23 \n"
     ]
    }
   ],
   "source": [
    "let x = 23;\n",
    "println!(\"{}\", x);\n",
    "let y = x;\n",
    "//  x = 32;\n",
    "let x = \"32\";\n",
    "println!(\"x = {}, y = {} \", x, y);"
   ]
  },
  {
   "cell_type": "code",
   "execution_count": 12,
   "id": "f85fa3da",
   "metadata": {
    "vscode": {
     "languageId": "rust"
    }
   },
   "outputs": [
    {
     "name": "stdout",
     "output_type": "stream",
     "text": [
      "23\n"
     ]
    },
    {
     "name": "stdout",
     "output_type": "stream",
     "text": [
      "32\n"
     ]
    }
   ],
   "source": [
    "let mut x = 23;\n",
    "println!(\"{}\", x);\n",
    "x = 32;\n",
    "println!(\"{}\", x);"
   ]
  },
  {
   "cell_type": "markdown",
   "id": "8451b4cb",
   "metadata": {},
   "source": [
    "## 常量\n",
    "声明后不可改变其绑定和值\n",
    "类型标注不可省略 \n",
    "常量不能遮蔽，不能重复定义\n",
    "常量可以在任意作用域中声明，并且在整个程序的生命周期内都有效\n",
    "常量只能被赋值为常量表达式或数学表达式，不能是函数的返回值，或者其他运行时才确定的值"
   ]
  },
  {
   "cell_type": "code",
   "execution_count": 29,
   "id": "b0d8e705",
   "metadata": {
    "vscode": {
     "languageId": "rust"
    }
   },
   "outputs": [
    {
     "name": "stdout",
     "output_type": "stream",
     "text": [
      "23\n"
     ]
    }
   ],
   "source": [
    "// let X_1 = 12;\n",
    "const X_1: u32 = 23;\n",
    "println!(\"{}\", X_1);"
   ]
  },
  {
   "cell_type": "markdown",
   "id": "fc4403f6",
   "metadata": {},
   "source": [
    "## 基本数据类型\n",
    "- 整型(1~16个字节) 默认i32\n",
    "- 浮点型 默认f64\n",
    "- 布尔型 bool\n",
    "- 字符型 UTF8编码 单引号\n",
    "- 范围类型 生成整数序列 左闭右开和全闭"
   ]
  },
  {
   "cell_type": "code",
   "execution_count": 66,
   "id": "2d1b26c4",
   "metadata": {
    "vscode": {
     "languageId": "rust"
    }
   },
   "outputs": [
    {
     "name": "stdout",
     "output_type": "stream",
     "text": [
      "x11 = 23, x2 = 16, x3 = 26, x4 = 21, x5 = 2832, x6 = 2954\n",
      "f1 = 23.12, f2 = 231, f3 = 23\n"
     ]
    },
    {
     "name": "stdout",
     "output_type": "stream",
     "text": [
      "b1 = true\n",
      "c1 = 🐈 \n",
      "(1..5):\n",
      " 1  2  3  4 \n",
      "(1..5).rev:\n",
      " 4  3  2  1 \n",
      "(1..=5) sum = 15\n"
     ]
    }
   ],
   "source": [
    "let x11: i8 = 23;\n",
    "let x2 = 16u32;\n",
    "let x3 = 26;\n",
    "let x4: i8 = 0b10101;\n",
    "let x5: i16 = 0xb10;\n",
    "// 分隔符_\n",
    "let x6: u16 = 0o56_12;\n",
    "println!(\"x11 = {}, x2 = {}, x3 = {}, x4 = {}, x5 = {}, x6 = {}\", x11, x2, x3, x4, x5, x6);\n",
    "\n",
    "let f1 = 23.12;\n",
    "let f2: f32 = 231f32;\n",
    "let f3 = 23f64;\n",
    "println!(\"f1 = {}, f2 = {}, f3 = {}\", f1, f2, f3);\n",
    "\n",
    "let b1 = !false;\n",
    "println!(\"b1 = {}\", b1);\n",
    "\n",
    "let c1 = '\\u{1F408}';\n",
    "println!(\"c1 = {} \", c1);\n",
    "\n",
    "println!(\"(1..5):\");\n",
    "for i in 1..5 {\n",
    "  print!(\" {} \", i);\n",
    "}\n",
    "println!();\n",
    "\n",
    "println!(\"(1..5).rev:\");\n",
    "for i in (1..5).rev() {\n",
    "  print!(\" {} \", i);\n",
    "}\n",
    "println!();\n",
    "\n",
    "let sum: i8 = (1..=5).sum();\n",
    "println!(\"(1..=5) sum = {sum}\");\n"
   ]
  },
  {
   "cell_type": "markdown",
   "id": "3a01e996",
   "metadata": {},
   "source": [
    "## 复杂数据类型"
   ]
  },
  {
   "cell_type": "markdown",
   "id": "1011a4ac",
   "metadata": {},
   "source": [
    "### 元组\n",
    "长度固定,元素类型可以不同。"
   ]
  },
  {
   "cell_type": "code",
   "execution_count": 10,
   "id": "6b232e0b",
   "metadata": {
    "vscode": {
     "languageId": "rust"
    }
   },
   "outputs": [
    {
     "name": "stdout",
     "output_type": "stream",
     "text": [
      "(100,) false\n",
      "x = 12, y = 23.12, z = true\n"
     ]
    }
   ],
   "source": [
    "let tup1:(i8, f32, bool) = (12, 23.12, true);\n",
    "let tup2 = (7.7, (false, 10));\n",
    "// 一元组需要有,\n",
    "let tup3 = (100,);\n",
    "let (x, y, z) = tup1;\n",
    "println!(\"{:?} {:?}\", tup3, tup2.1.0);\n",
    "println!(\"x = {x}, y = {y}, z = {z}\");"
   ]
  },
  {
   "cell_type": "markdown",
   "id": "bab9c44f",
   "metadata": {},
   "source": [
    "### 数组 \n",
    "类型相同，长度固定。"
   ]
  },
  {
   "cell_type": "code",
   "execution_count": 26,
   "id": "6c109879",
   "metadata": {
    "vscode": {
     "languageId": "rust"
    }
   },
   "outputs": [
    {
     "name": "stdout",
     "output_type": "stream",
     "text": [
      "[6, 7, 8, 9]\n",
      "[2, 2, 2]\n"
     ]
    },
    {
     "name": "stdout",
     "output_type": "stream",
     "text": [
      "[1, 2, 3, 4, 5]\n",
      "5\n"
     ]
    }
   ],
   "source": [
    "let arr1: [i32; 5] = [1, 2, 3, 4, 5];\n",
    "let arr2 = [6, 7, 8, 9];\n",
    "let arr3 = [2; 3];\n",
    "println!(\"{:?}\", arr2);\n",
    "println!(\"{:?}\", arr3);\n",
    "println!(\"{arr1:?}\");\n",
    "println!(\"{}\", arr1[4]);\n"
   ]
  },
  {
   "cell_type": "markdown",
   "id": "1083c04e",
   "metadata": {},
   "source": [
    "## 结构体\n",
    "字段类型确定\n",
    "不能类型推导  \n",
    "实例默认不可变，不允许只将部分字段标记为可变。\n"
   ]
  },
  {
   "cell_type": "code",
   "execution_count": 76,
   "id": "b645b852",
   "metadata": {
    "vscode": {
     "languageId": "rust"
    }
   },
   "outputs": [
    {
     "name": "stdout",
     "output_type": "stream",
     "text": [
      "student Student { name: \"King\", score: 90 }\n",
      "student name: Dreamer, score: 90\n"
     ]
    },
    {
     "name": "stdout",
     "output_type": "stream",
     "text": [
      "Color(0, 0, 0)\n"
     ]
    }
   ],
   "source": [
    "struct ListNode {\n",
    "  val: i32,\n",
    "  next: Option<Box<ListNode>>\n",
    "}\n",
    "\n",
    "#[derive(Debug)]\n",
    "struct Student {\n",
    "  name: &'static str,\n",
    "  score: i32\n",
    "}\n",
    "\n",
    "let score = 89;\n",
    "let userName = \"King\";\n",
    "let mut student = Student {\n",
    "  score,\n",
    "  name: userName\n",
    "};\n",
    "\n",
    "student.score = 90;\n",
    "println!(\"student {:?}\", student);\n",
    "\n",
    "let student2 = Student {\n",
    "  name: \"Dreamer\",\n",
    "  ..student\n",
    "};\n",
    "println!(\"student name: {}, score: {}\", student2.name, student2.score);\n",
    "\n",
    "#[derive(Debug)]\n",
    "struct Color(i32, i32, i32);\n",
    "let black = Color(0, 0, 0);\n",
    "println!(\"{:?}\", black);\n"
   ]
  },
  {
   "cell_type": "markdown",
   "id": "7405485a",
   "metadata": {},
   "source": [
    "## 枚举类型 \n",
    "无参枚举类型/有参枚举类型"
   ]
  },
  {
   "cell_type": "code",
   "execution_count": 91,
   "id": "3b9b1e67",
   "metadata": {
    "vscode": {
     "languageId": "rust"
    }
   },
   "outputs": [
    {
     "name": "stdout",
     "output_type": "stream",
     "text": [
      "Green\n",
      "Blue(\"0x0000ff\")\n"
     ]
    },
    {
     "name": "stdout",
     "output_type": "stream",
     "text": [
      "Red(\"0xff0000\")\n"
     ]
    }
   ],
   "source": [
    "#[derive(Debug)]\n",
    "enum Color {\n",
    "  Red,\n",
    "  Green,\n",
    "  Blue\n",
    "}\n",
    "\n",
    "let c1 = Color::Green;\n",
    "\n",
    "println!(\"{:?}\", c1);\n",
    "\n",
    "#[derive(Debug)]\n",
    "enum ColorType {\n",
    "  Red(String),\n",
    "  Green(String),\n",
    "  Blue(String)\n",
    "}\n",
    "\n",
    "let c2 = ColorType::Blue(String::from(\"0x0000ff\"));\n",
    "let c3 = ColorType::Red(String::from(\"0xff0000\"));\n",
    "\n",
    "println!(\"{:?}\", c2);\n",
    "println!(\"{:?}\", c3);\n"
   ]
  },
  {
   "cell_type": "markdown",
   "id": "cae67b78",
   "metadata": {},
   "source": [
    "## 动态数组\n",
    "长度可以增长或缩小,元素类型相同。"
   ]
  },
  {
   "cell_type": "code",
   "execution_count": 66,
   "id": "727170fb",
   "metadata": {
    "vscode": {
     "languageId": "rust"
    }
   },
   "outputs": [
    {
     "name": "stdout",
     "output_type": "stream",
     "text": [
      "v1 = []\n",
      "v2 = []\n",
      "v3 = []\n"
     ]
    },
    {
     "name": "stdout",
     "output_type": "stream",
     "text": [
      "v5 = [3, 3, 3, 3, 3]\n",
      "v5[2] = 3, v5.get(3) = None,  v5.get(6) = Some(3)\n",
      "v5: 3  3  3  3  3 \n",
      "v3 = [2, 3]\n",
      "v5 = [3, 3, 6, 3, 3]\n",
      "v5.pop() = Some(3)\n",
      "v5 = [3, 3, 6, 3]\n",
      "v5.remove(2) = 6\n",
      "v5 = [3, 3, 3]\n",
      "v5: 6  6  6 \n"
     ]
    }
   ],
   "source": [
    "let mut v1: Vec<i32> = Vec::new();\n",
    "let mut v2: Vec<f32> = Vec::with_capacity(10);\n",
    "let mut v3: Vec<i8> = vec![];\n",
    "let mut v4 = vec![1, 2, 3];\n",
    "let mut v5 = vec![3; 5];\n",
    "println!(\"v1 = {v1:?}\");\n",
    "println!(\"v2 = {v2:?}\");\n",
    "println!(\"v3 = {v3:?}\");\n",
    "println!(\"v5 = {v5:?}\");\n",
    "println!(\"v5[2] = {}, v5.get(3) = {:?},  v5.get(6) = {:?}\", v5[2], v5.get(6), v5.get(3));\n",
    "print!(\"v5:\");\n",
    "for i in &v5 {\n",
    "  print!(\" {} \", i);\n",
    "}\n",
    "println!();\n",
    "v3.push(2);\n",
    "v3.push(3);\n",
    "println!(\"v3 = {v3:?}\");\n",
    "v5[2] = 6;\n",
    "println!(\"v5 = {v5:?}\");\n",
    "println!(\"v5.pop() = {:?}\", v5.pop());\n",
    "println!(\"v5 = {v5:?}\");\n",
    "println!(\"v5.remove(2) = {}\", v5.remove(2));\n",
    "println!(\"v5 = {v5:?}\");\n",
    "\n",
    "for i in &mut v5 {\n",
    "  *i *= 2;\n",
    "}\n",
    "\n",
    "print!(\"v5:\");\n",
    "for i in &v5 {\n",
    "  print!(\" {} \", i);\n",
    "}\n",
    "println!();\n"
   ]
  }
 ],
 "metadata": {
  "kernelspec": {
   "display_name": "Rust",
   "language": "rust",
   "name": "rust"
  },
  "language_info": {
   "codemirror_mode": "rust",
   "file_extension": ".rs",
   "mimetype": "text/rust",
   "name": "Rust",
   "pygment_lexer": "rust",
   "version": ""
  }
 },
 "nbformat": 4,
 "nbformat_minor": 5
}
